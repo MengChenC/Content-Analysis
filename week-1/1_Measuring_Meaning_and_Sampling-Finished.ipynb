{
  "cells": [
    {
      "cell_type": "markdown",
      "metadata": {
        "id": "JU1ThAa04KMB"
      },
      "source": [
        "# Week 1 - Measuring Meaning & Sampling\n",
        "This week, we begin by \"begging, borrowing and stealing\" text from several\n",
        "contexts of human communication (e.g., PDFs, HTML, Word) and preparing it for\n",
        "machines to \"read\" and analyze. This notebook outlines scraping text from the\n",
        "web, PDF and Word documents. Then we detail \"spidering\" or walking\n",
        "through hyperlinks to build samples of online content, and using APIs,\n",
        "Application Programming Interfaces, provided by webservices to access their\n",
        "content. Along the way, we will use regular expressions, outlined in the\n",
        "reading, to remove unwanted formatting and ornamentation. Finally, we discuss\n",
        "various text encodings, filtering and data structures in which text can be\n",
        "placed for analysis. Next, we ask you to begin building a corpus for preliminary analysis and articulate what your sample represents in context of your final project.\n",
        "\n",
        "If you are new to Google Colab, please take a look at [this brief introduction to the platform](https://colab.research.google.com/drive/1fV_2ZrdF-Vve8L7ZZAjanPS6tCh_HGnN). For each assignment on Colab, you should first click _File_ -> _Save a copy in Drive_ to create your own .ipynb file to submit. You will also need to run a cell like this if you are storing your data on Google Drive:"
      ]
    },
    {
      "cell_type": "code",
      "source": [
        "from google.colab import drive\n",
        "drive.mount(\"/content/drive\")"
      ],
      "metadata": {
        "id": "cG07PPAr5s2y",
        "outputId": "573f5b8c-9367-41fa-9492-9cf6318e4838",
        "colab": {
          "base_uri": "https://localhost:8080/"
        }
      },
      "execution_count": 1,
      "outputs": [
        {
          "output_type": "stream",
          "name": "stdout",
          "text": [
            "Drive already mounted at /content/drive; to attempt to forcibly remount, call drive.mount(\"/content/drive\", force_remount=True).\n"
          ]
        }
      ]
    },
    {
      "cell_type": "markdown",
      "metadata": {
        "id": "wsiychv-Omaw"
      },
      "source": [
        "We made a python package just for this course: lucem_illud. If you haven't installed this package, you should run the following code first. You don't need to install the package later; all you need to do is just to import the package with: import lucem_illud. For your final projects, you may find it useful to [read the lucem_illud source code](https://github.com/UChicago-Computational-Content-Analysis/lucem_illud/tree/main/lucem_illud) and modify your code for your own interests."
      ]
    },
    {
      "cell_type": "code",
      "execution_count": 2,
      "metadata": {
        "id": "E5HYvEJeOmax",
        "outputId": "e5676b32-91eb-41c5-f8fd-d7dfa5e6793b",
        "colab": {
          "base_uri": "https://localhost:8080/"
        }
      },
      "outputs": [
        {
          "output_type": "stream",
          "name": "stdout",
          "text": [
            "Collecting git+git://github.com/UChicago-Computational-Content-Analysis/lucem_illud.git\n",
            "  Cloning git://github.com/UChicago-Computational-Content-Analysis/lucem_illud.git to /tmp/pip-req-build-g5lbdas1\n",
            "  Running command git clone -q git://github.com/UChicago-Computational-Content-Analysis/lucem_illud.git /tmp/pip-req-build-g5lbdas1\n",
            "Requirement already satisfied: numpy in /usr/local/lib/python3.7/dist-packages (from lucem-illud==8.0.1) (1.19.5)\n",
            "Requirement already satisfied: requests in /usr/local/lib/python3.7/dist-packages (from lucem-illud==8.0.1) (2.23.0)\n",
            "Requirement already satisfied: pandas in /usr/local/lib/python3.7/dist-packages (from lucem-illud==8.0.1) (1.1.5)\n",
            "Requirement already satisfied: python-docx in /usr/local/lib/python3.7/dist-packages (from lucem-illud==8.0.1) (0.8.11)\n",
            "Requirement already satisfied: pillow in /usr/local/lib/python3.7/dist-packages (from lucem-illud==8.0.1) (7.1.2)\n",
            "Requirement already satisfied: pdfminer2 in /usr/local/lib/python3.7/dist-packages (from lucem-illud==8.0.1) (20151206)\n",
            "Requirement already satisfied: GitPython in /usr/local/lib/python3.7/dist-packages (from lucem-illud==8.0.1) (3.1.26)\n",
            "Requirement already satisfied: wordcloud in /usr/local/lib/python3.7/dist-packages (from lucem-illud==8.0.1) (1.5.0)\n",
            "Requirement already satisfied: scipy in /usr/local/lib/python3.7/dist-packages (from lucem-illud==8.0.1) (1.4.1)\n",
            "Requirement already satisfied: seaborn in /usr/local/lib/python3.7/dist-packages (from lucem-illud==8.0.1) (0.11.2)\n",
            "Requirement already satisfied: scikit-learn in /usr/local/lib/python3.7/dist-packages (from lucem-illud==8.0.1) (1.0.2)\n",
            "Requirement already satisfied: nltk in /usr/local/lib/python3.7/dist-packages (from lucem-illud==8.0.1) (3.2.5)\n",
            "Requirement already satisfied: gensim in /usr/local/lib/python3.7/dist-packages (from lucem-illud==8.0.1) (3.6.0)\n",
            "Requirement already satisfied: matplotlib in /usr/local/lib/python3.7/dist-packages (from lucem-illud==8.0.1) (3.2.2)\n",
            "Requirement already satisfied: pyanno3 in /usr/local/lib/python3.7/dist-packages (from lucem-illud==8.0.1) (2.0.2)\n",
            "Requirement already satisfied: beautifulsoup4 in /usr/local/lib/python3.7/dist-packages (from lucem-illud==8.0.1) (4.6.3)\n",
            "Requirement already satisfied: graphviz in /usr/local/lib/python3.7/dist-packages (from lucem-illud==8.0.1) (0.10.1)\n",
            "Requirement already satisfied: boto3 in /usr/local/lib/python3.7/dist-packages (from lucem-illud==8.0.1) (1.20.39)\n",
            "Requirement already satisfied: networkx in /usr/local/lib/python3.7/dist-packages (from lucem-illud==8.0.1) (2.6.3)\n",
            "Requirement already satisfied: pydub in /usr/local/lib/python3.7/dist-packages (from lucem-illud==8.0.1) (0.25.1)\n",
            "Requirement already satisfied: speechrecognition in /usr/local/lib/python3.7/dist-packages (from lucem-illud==8.0.1) (3.8.1)\n",
            "Requirement already satisfied: pysoundfile in /usr/local/lib/python3.7/dist-packages (from lucem-illud==8.0.1) (0.9.0.post1)\n",
            "Requirement already satisfied: scikit-image in /usr/local/lib/python3.7/dist-packages (from lucem-illud==8.0.1) (0.18.3)\n",
            "Requirement already satisfied: IPython in /usr/local/lib/python3.7/dist-packages (from lucem-illud==8.0.1) (5.5.0)\n",
            "Requirement already satisfied: spacy in /usr/local/lib/python3.7/dist-packages (from lucem-illud==8.0.1) (2.2.4)\n",
            "Requirement already satisfied: botocore<1.24.0,>=1.23.39 in /usr/local/lib/python3.7/dist-packages (from boto3->lucem-illud==8.0.1) (1.23.39)\n",
            "Requirement already satisfied: jmespath<1.0.0,>=0.7.1 in /usr/local/lib/python3.7/dist-packages (from boto3->lucem-illud==8.0.1) (0.10.0)\n",
            "Requirement already satisfied: s3transfer<0.6.0,>=0.5.0 in /usr/local/lib/python3.7/dist-packages (from boto3->lucem-illud==8.0.1) (0.5.0)\n",
            "Requirement already satisfied: urllib3<1.27,>=1.25.4 in /usr/local/lib/python3.7/dist-packages (from botocore<1.24.0,>=1.23.39->boto3->lucem-illud==8.0.1) (1.25.11)\n",
            "Requirement already satisfied: python-dateutil<3.0.0,>=2.1 in /usr/local/lib/python3.7/dist-packages (from botocore<1.24.0,>=1.23.39->boto3->lucem-illud==8.0.1) (2.8.2)\n",
            "Requirement already satisfied: six>=1.5 in /usr/local/lib/python3.7/dist-packages (from python-dateutil<3.0.0,>=2.1->botocore<1.24.0,>=1.23.39->boto3->lucem-illud==8.0.1) (1.15.0)\n",
            "Requirement already satisfied: smart-open>=1.2.1 in /usr/local/lib/python3.7/dist-packages (from gensim->lucem-illud==8.0.1) (5.2.1)\n",
            "Requirement already satisfied: typing-extensions>=3.7.4.3 in /usr/local/lib/python3.7/dist-packages (from GitPython->lucem-illud==8.0.1) (3.10.0.2)\n",
            "Requirement already satisfied: gitdb<5,>=4.0.1 in /usr/local/lib/python3.7/dist-packages (from GitPython->lucem-illud==8.0.1) (4.0.9)\n",
            "Requirement already satisfied: smmap<6,>=3.0.1 in /usr/local/lib/python3.7/dist-packages (from gitdb<5,>=4.0.1->GitPython->lucem-illud==8.0.1) (5.0.0)\n",
            "Requirement already satisfied: prompt-toolkit<2.0.0,>=1.0.4 in /usr/local/lib/python3.7/dist-packages (from IPython->lucem-illud==8.0.1) (1.0.18)\n",
            "Requirement already satisfied: setuptools>=18.5 in /usr/local/lib/python3.7/dist-packages (from IPython->lucem-illud==8.0.1) (57.4.0)\n",
            "Requirement already satisfied: pygments in /usr/local/lib/python3.7/dist-packages (from IPython->lucem-illud==8.0.1) (2.6.1)\n",
            "Requirement already satisfied: traitlets>=4.2 in /usr/local/lib/python3.7/dist-packages (from IPython->lucem-illud==8.0.1) (5.1.1)\n",
            "Requirement already satisfied: pickleshare in /usr/local/lib/python3.7/dist-packages (from IPython->lucem-illud==8.0.1) (0.7.5)\n",
            "Requirement already satisfied: simplegeneric>0.8 in /usr/local/lib/python3.7/dist-packages (from IPython->lucem-illud==8.0.1) (0.8.1)\n",
            "Requirement already satisfied: decorator in /usr/local/lib/python3.7/dist-packages (from IPython->lucem-illud==8.0.1) (4.4.2)\n",
            "Requirement already satisfied: pexpect in /usr/local/lib/python3.7/dist-packages (from IPython->lucem-illud==8.0.1) (4.8.0)\n",
            "Requirement already satisfied: wcwidth in /usr/local/lib/python3.7/dist-packages (from prompt-toolkit<2.0.0,>=1.0.4->IPython->lucem-illud==8.0.1) (0.2.5)\n",
            "Requirement already satisfied: kiwisolver>=1.0.1 in /usr/local/lib/python3.7/dist-packages (from matplotlib->lucem-illud==8.0.1) (1.3.2)\n",
            "Requirement already satisfied: cycler>=0.10 in /usr/local/lib/python3.7/dist-packages (from matplotlib->lucem-illud==8.0.1) (0.11.0)\n",
            "Requirement already satisfied: pyparsing!=2.0.4,!=2.1.2,!=2.1.6,>=2.0.1 in /usr/local/lib/python3.7/dist-packages (from matplotlib->lucem-illud==8.0.1) (3.0.6)\n",
            "Requirement already satisfied: pytz>=2017.2 in /usr/local/lib/python3.7/dist-packages (from pandas->lucem-illud==8.0.1) (2018.9)\n",
            "Requirement already satisfied: ptyprocess>=0.5 in /usr/local/lib/python3.7/dist-packages (from pexpect->IPython->lucem-illud==8.0.1) (0.7.0)\n",
            "Requirement already satisfied: traits in /usr/local/lib/python3.7/dist-packages (from pyanno3->lucem-illud==8.0.1) (6.3.2)\n",
            "Requirement already satisfied: cffi>=0.6 in /usr/local/lib/python3.7/dist-packages (from pysoundfile->lucem-illud==8.0.1) (1.15.0)\n",
            "Requirement already satisfied: pycparser in /usr/local/lib/python3.7/dist-packages (from cffi>=0.6->pysoundfile->lucem-illud==8.0.1) (2.21)\n",
            "Requirement already satisfied: lxml>=2.3.2 in /usr/local/lib/python3.7/dist-packages (from python-docx->lucem-illud==8.0.1) (4.2.6)\n",
            "Requirement already satisfied: idna<3,>=2.5 in /usr/local/lib/python3.7/dist-packages (from requests->lucem-illud==8.0.1) (2.10)\n",
            "Requirement already satisfied: chardet<4,>=3.0.2 in /usr/local/lib/python3.7/dist-packages (from requests->lucem-illud==8.0.1) (3.0.4)\n",
            "Requirement already satisfied: certifi>=2017.4.17 in /usr/local/lib/python3.7/dist-packages (from requests->lucem-illud==8.0.1) (2021.10.8)\n",
            "Requirement already satisfied: tifffile>=2019.7.26 in /usr/local/lib/python3.7/dist-packages (from scikit-image->lucem-illud==8.0.1) (2021.11.2)\n",
            "Requirement already satisfied: PyWavelets>=1.1.1 in /usr/local/lib/python3.7/dist-packages (from scikit-image->lucem-illud==8.0.1) (1.2.0)\n",
            "Requirement already satisfied: imageio>=2.3.0 in /usr/local/lib/python3.7/dist-packages (from scikit-image->lucem-illud==8.0.1) (2.4.1)\n",
            "Requirement already satisfied: joblib>=0.11 in /usr/local/lib/python3.7/dist-packages (from scikit-learn->lucem-illud==8.0.1) (1.1.0)\n",
            "Requirement already satisfied: threadpoolctl>=2.0.0 in /usr/local/lib/python3.7/dist-packages (from scikit-learn->lucem-illud==8.0.1) (3.0.0)\n",
            "Requirement already satisfied: wasabi<1.1.0,>=0.4.0 in /usr/local/lib/python3.7/dist-packages (from spacy->lucem-illud==8.0.1) (0.9.0)\n",
            "Requirement already satisfied: murmurhash<1.1.0,>=0.28.0 in /usr/local/lib/python3.7/dist-packages (from spacy->lucem-illud==8.0.1) (1.0.6)\n",
            "Requirement already satisfied: blis<0.5.0,>=0.4.0 in /usr/local/lib/python3.7/dist-packages (from spacy->lucem-illud==8.0.1) (0.4.1)\n",
            "Requirement already satisfied: plac<1.2.0,>=0.9.6 in /usr/local/lib/python3.7/dist-packages (from spacy->lucem-illud==8.0.1) (1.1.3)\n",
            "Requirement already satisfied: catalogue<1.1.0,>=0.0.7 in /usr/local/lib/python3.7/dist-packages (from spacy->lucem-illud==8.0.1) (1.0.0)\n",
            "Requirement already satisfied: preshed<3.1.0,>=3.0.2 in /usr/local/lib/python3.7/dist-packages (from spacy->lucem-illud==8.0.1) (3.0.6)\n",
            "Requirement already satisfied: tqdm<5.0.0,>=4.38.0 in /usr/local/lib/python3.7/dist-packages (from spacy->lucem-illud==8.0.1) (4.62.3)\n",
            "Requirement already satisfied: srsly<1.1.0,>=1.0.2 in /usr/local/lib/python3.7/dist-packages (from spacy->lucem-illud==8.0.1) (1.0.5)\n",
            "Requirement already satisfied: cymem<2.1.0,>=2.0.2 in /usr/local/lib/python3.7/dist-packages (from spacy->lucem-illud==8.0.1) (2.0.6)\n",
            "Requirement already satisfied: thinc==7.4.0 in /usr/local/lib/python3.7/dist-packages (from spacy->lucem-illud==8.0.1) (7.4.0)\n",
            "Requirement already satisfied: importlib-metadata>=0.20 in /usr/local/lib/python3.7/dist-packages (from catalogue<1.1.0,>=0.0.7->spacy->lucem-illud==8.0.1) (4.10.0)\n",
            "Requirement already satisfied: zipp>=0.5 in /usr/local/lib/python3.7/dist-packages (from importlib-metadata>=0.20->catalogue<1.1.0,>=0.0.7->spacy->lucem-illud==8.0.1) (3.7.0)\n"
          ]
        }
      ],
      "source": [
        "!pip install git+git://github.com/UChicago-Computational-Content-Analysis/lucem_illud.git\n",
        "#installing lucem_illud package\n",
        "#lucem_illud is a Latin phrase meaning \"that light\", the insight we can discover in text data!\n",
        "#If you get an error like \"Access is denied\", try running the `pip` command on the command line as an administrator."
      ]
    },
    {
      "cell_type": "markdown",
      "metadata": {
        "id": "gml7JVVdOmaz"
      },
      "source": [
        "If you're not familiar with jupyter notebook, you may wonder what the exclamation mark(!) at the beginning of the command does (or even what pip means). The exclamation mark enables us to execute Terminal commands in the notebook cells (e.g., run `!ls` to display files in the current folder).\n",
        "\n",
        "For this notebook we will be using the following packages:"
      ]
    },
    {
      "cell_type": "code",
      "execution_count": 3,
      "metadata": {
        "id": "O8EOGoXbOma0"
      },
      "outputs": [],
      "source": [
        "#Special module written for this class\n",
        "#This provides access to data and to helper functions from previous weeks\n",
        "import lucem_illud #pip install git+git://github.com/UChicago-Computational-Content-Analysis/lucem_illud.git\n",
        "\n",
        "#All these packages need to be installed from pip\n",
        "import requests #for http requests\n",
        "import bs4 #called `beautifulsoup4`, an html parser\n",
        "import pandas #gives us DataFrames\n",
        "import docx #reading MS doc files, install as `python-docx`\n",
        "\n",
        "#Stuff for pdfs\n",
        "#Install as `pdfminer2`\n",
        "import pdfminer.pdfinterp\n",
        "import pdfminer.converter\n",
        "import pdfminer.layout\n",
        "import pdfminer.pdfpage\n",
        "\n",
        "#These come with Python\n",
        "import re #for regexs\n",
        "import urllib.parse #For joining urls\n",
        "import io #for making http requests look like files\n",
        "import json #For Tumblr API responses\n",
        "import os.path #For checking if files exist\n",
        "import os #For making directories"
      ]
    },
    {
      "cell_type": "markdown",
      "metadata": {
        "id": "1FBeOb62Oma1"
      },
      "source": [
        "We will also be working on the following files/urls"
      ]
    },
    {
      "cell_type": "code",
      "execution_count": 4,
      "metadata": {
        "id": "FCg_QdR7Oma2"
      },
      "outputs": [],
      "source": [
        "wikipedia_base_url = 'https://en.wikipedia.org'\n",
        "wikipedia_content_analysis = 'https://en.wikipedia.org/wiki/Content_analysis'\n",
        "content_analysis_save = 'wikipedia_content_analysis.html'\n",
        "example_text_file = 'sometextfile.txt'\n",
        "information_extraction_pdf = 'https://github.com/Computational-Content-Analysis-2018/Data-Files/raw/master/1-intro/Content%20Analysis%2018.pdf'\n",
        "example_docx = 'https://github.com/Computational-Content-Analysis-2018/Data-Files/raw/master/1-intro/macs6000_connecting_to_midway.docx'\n",
        "example_docx_save = 'example.docx'"
      ]
    },
    {
      "cell_type": "markdown",
      "metadata": {
        "id": "bZM9Pw3lOma3"
      },
      "source": [
        "# Scraping\n",
        "\n",
        "Before we can start analyzing content we need to obtain it. Sometimes it will be\n",
        "provided to us from a pre-curated text archive, but sometimes we will need to\n",
        "download it. As a starting example we will attempt to download the wikipedia\n",
        "page on content analysis. The page is located at [https://en.wikipedia.org/wiki/Content_analysis](https://en.wikipedia.org/wiki/Content_analysis) so lets start\n",
        "with that.\n",
        "\n",
        "We can do this by making an HTTP GET request to that url, a GET request is\n",
        "simply a request to the server to provide the contents given by some url. The\n",
        "other request we will be using in this class is called a POST request and\n",
        "requests the server to take some content we provide. While the Python standard\n",
        "library does have the ability do make GET requests we will be using the\n",
        "[_requests_](http://docs.python-requests.org/en/master/) package as it is _'the\n",
        "only Non-GMO HTTP library for Python'_...also it provides a nicer interface."
      ]
    },
    {
      "cell_type": "code",
      "execution_count": 5,
      "metadata": {
        "id": "hhzQ0oNBOma4",
        "outputId": "750169a3-73df-4ecb-abf6-7322e3db5b04",
        "colab": {
          "base_uri": "https://localhost:8080/"
        }
      },
      "outputs": [
        {
          "output_type": "execute_result",
          "data": {
            "text/plain": [
              "<Response [200]>"
            ]
          },
          "metadata": {},
          "execution_count": 5
        }
      ],
      "source": [
        "#wikipedia_content_analysis = 'https://en.wikipedia.org/wiki/Content_analysis'\n",
        "requests.get(wikipedia_content_analysis)"
      ]
    },
    {
      "cell_type": "markdown",
      "metadata": {
        "id": "OBLNFuYqOma5"
      },
      "source": [
        "`'Response [200]'` means the server responded with what we asked for. If you get\n",
        "another number (e.g. 404) it likely means there was some kind of error, these\n",
        "codes are called HTTP response codes and a list of them can be found\n",
        "[here](https://en.wikipedia.org/wiki/List_of_HTTP_status_codes). The response\n",
        "object contains all the data the server sent including the website's contents\n",
        "and the HTTP header. We are interested in the contents which we can access with\n",
        "the `.text` attribute."
      ]
    },
    {
      "cell_type": "code",
      "source": [
        "wikiContentRequest = requests.get(wikipedia_content_analysis)"
      ],
      "metadata": {
        "id": "SIliTKf8CWxp"
      },
      "execution_count": 6,
      "outputs": []
    },
    {
      "cell_type": "code",
      "execution_count": 7,
      "metadata": {
        "id": "0MX6yy-GOma6",
        "outputId": "676db2d5-6b19-4a55-ed2f-82f863e7e68d",
        "colab": {
          "base_uri": "https://localhost:8080/"
        }
      },
      "outputs": [
        {
          "output_type": "stream",
          "name": "stdout",
          "text": [
            "<!DOCTYPE html>\n",
            "<html class=\"client-nojs\" lang=\"en\" dir=\"ltr\">\n",
            "<head>\n",
            "<meta charset=\"UTF-8\"/>\n",
            "<title>Content analysis - Wikipedia</title>\n",
            "<script>document.documentElement.className=\"client-js\";RLCONF={\"wgBreakFrames\":false,\"wgSeparatorTransformTable\":[\"\",\"\"],\"wgDigitTransformTable\":[\"\",\"\"],\"wgDefaultDateFormat\":\"dmy\",\"wgMonthNames\":[\"\",\"January\",\"February\",\"March\",\"April\",\"May\",\"June\",\"July\",\"August\",\"September\",\"October\",\"November\",\"December\"],\"wgRequestId\":\"2e0cd65e-0f83-497c-91e1-7fcc834ed6b9\",\"wgCSPNonce\":false,\"wgCanonicalNamespace\":\"\",\"wgCanonicalSpecialPageName\":false,\"wgNamespaceNumber\":0,\"wgPageName\":\"Content_analysis\",\"wgTitle\":\"Content analysis\",\"wgCurRevisionId\":1065940520,\"wgRevisionId\":1065940520,\"wgArticleId\":473317,\"wgIsArticle\":true,\"wgIsRedirect\":false,\"wgAction\":\"view\",\"wgUserName\":null,\"wgUserGroups\":[\"*\"],\"wgCategories\":[\"Articles with short description\",\"Short description matches Wikidata\",\"Articles prone to spam from October 2017\",\"Articles with BNE identifiers\",\n"
          ]
        }
      ],
      "source": [
        "print(wikiContentRequest.text[:1000])"
      ]
    },
    {
      "cell_type": "markdown",
      "metadata": {
        "id": "v476yylWOma6"
      },
      "source": [
        "This is not what we were looking for, because it is the start of the HTML that\n",
        "makes up the website. This is HTML and is meant to be read by computers. Luckily\n",
        "we have a computer to parse it for us. To do the parsing we will use [_Beautiful\n",
        "Soup_](https://www.crummy.com/software/BeautifulSoup/) which is a better parser\n",
        "than the one in the standard library."
      ]
    },
    {
      "cell_type": "markdown",
      "metadata": {
        "id": "sKsCntAsOma7"
      },
      "source": [
        "But before we proceed to Beautiful Soup, a digression about Python syntax, especially about objects and functions.\n",
        "For those who are not familiar with the syntax of python (or, if you're familiar with R programming), you might wonder what requests.get or wikiContentRequest.text mean. To understand this, you need to first understand what objects are. You may have heard that Python is an object oriented programming language (unlike the procedure oriented programming language, an example of which is R). Object is a set of variables (or, data) and functions into which you pass your data. So, in object oriented programming languages, like python, variables and functions are bunleded into objects.\n",
        "\n",
        "For example, let's look at wikiContentRequest. We use dir() function, which returns the list of attributes and functions of objects."
      ]
    },
    {
      "cell_type": "code",
      "execution_count": 8,
      "metadata": {
        "id": "bFWJZHqhOma7",
        "outputId": "01d3b785-c4f0-4140-bff0-a4aeaf033e91",
        "colab": {
          "base_uri": "https://localhost:8080/"
        }
      },
      "outputs": [
        {
          "output_type": "execute_result",
          "data": {
            "text/plain": [
              "['__attrs__',\n",
              " '__bool__',\n",
              " '__class__',\n",
              " '__delattr__',\n",
              " '__dict__',\n",
              " '__dir__',\n",
              " '__doc__',\n",
              " '__enter__',\n",
              " '__eq__',\n",
              " '__exit__',\n",
              " '__format__',\n",
              " '__ge__',\n",
              " '__getattribute__',\n",
              " '__getstate__',\n",
              " '__gt__',\n",
              " '__hash__',\n",
              " '__init__',\n",
              " '__init_subclass__',\n",
              " '__iter__',\n",
              " '__le__',\n",
              " '__lt__',\n",
              " '__module__',\n",
              " '__ne__',\n",
              " '__new__',\n",
              " '__nonzero__',\n",
              " '__reduce__',\n",
              " '__reduce_ex__',\n",
              " '__repr__',\n",
              " '__setattr__',\n",
              " '__setstate__',\n",
              " '__sizeof__',\n",
              " '__str__',\n",
              " '__subclasshook__',\n",
              " '__weakref__',\n",
              " '_content',\n",
              " '_content_consumed',\n",
              " '_next',\n",
              " 'apparent_encoding',\n",
              " 'close',\n",
              " 'connection',\n",
              " 'content',\n",
              " 'cookies',\n",
              " 'elapsed',\n",
              " 'encoding',\n",
              " 'headers',\n",
              " 'history',\n",
              " 'is_permanent_redirect',\n",
              " 'is_redirect',\n",
              " 'iter_content',\n",
              " 'iter_lines',\n",
              " 'json',\n",
              " 'links',\n",
              " 'next',\n",
              " 'ok',\n",
              " 'raise_for_status',\n",
              " 'raw',\n",
              " 'reason',\n",
              " 'request',\n",
              " 'status_code',\n",
              " 'text',\n",
              " 'url']"
            ]
          },
          "metadata": {},
          "execution_count": 8
        }
      ],
      "source": [
        " dir(wikiContentRequest)"
      ]
    },
    {
      "cell_type": "markdown",
      "metadata": {
        "id": "N2i8w-JwOma8"
      },
      "source": [
        "There's 'text' here. We used 'wikiContentRequest.text' to access 'text.' In other words, we use .(dot notation) to access functions from objects. wikiContentRequest has a set of functions, as shown above, and we used 'wikiContentRequest.text' to access one of them. By the way, dot notations do not necessarily refer to functions--it refers to anything that the entity contains. \n",
        "\n"
      ]
    },
    {
      "cell_type": "markdown",
      "metadata": {
        "id": "3heEYqz3Oma8"
      },
      "source": [
        "Moving on to the next step: BeautifulSoup, a Python library which extracts data from HTML and XML, and transforms HTML files into Python objects."
      ]
    },
    {
      "cell_type": "code",
      "execution_count": 9,
      "metadata": {
        "id": "q9aPjhBQOma8",
        "outputId": "95f21d6d-366d-4978-cf12-b4db95f856e6",
        "colab": {
          "base_uri": "https://localhost:8080/"
        }
      },
      "outputs": [
        {
          "output_type": "stream",
          "name": "stdout",
          "text": [
            "\n",
            "\n",
            "\n",
            "\n",
            "Content analysis - Wikipedia\n",
            "document.documentElement.className=\"client-js\";RLCONF={\"wgBreakFrames\":false,\"wgSeparatorTransformTable\":[\"\",\"\"],\"wgDigitTransformTable\":[\"\",\"\"],\"wgDefaultDateFormat\":\n"
          ]
        }
      ],
      "source": [
        "wikiContentSoup = bs4.BeautifulSoup(wikiContentRequest.text, 'html.parser')\n",
        "print(wikiContentSoup.text[:200])"
      ]
    },
    {
      "cell_type": "markdown",
      "metadata": {
        "id": "x3nSYukpOma9"
      },
      "source": [
        "This is better but there's still random whitespace and we have more than just\n",
        "the text of the article. This is because what we requested is the whole webpage,\n",
        "not just the text for the article.\n",
        "\n",
        "We want to extract only the text we care about, and in order to do this we will\n",
        "need to inspect the html. One way to do this is simply to go to the website with\n",
        "a browser and use its inspection or view source tool. If javascript or other\n",
        "dynamic loading occurs on the page, however, it is likely that what Python\n",
        "receives is not what you will see, so we will need to inspect what Python\n",
        "receives. To do this we can save the html `requests` obtained."
      ]
    },
    {
      "cell_type": "code",
      "execution_count": 10,
      "metadata": {
        "id": "ZcLAorw7Oma9"
      },
      "outputs": [],
      "source": [
        "#content_analysis_save = 'wikipedia_content_analysis.html'\n",
        "\n",
        "with open(content_analysis_save, mode='w', encoding='utf-8') as f:\n",
        "    f.write(wikiContentRequest.text)"
      ]
    },
    {
      "cell_type": "markdown",
      "metadata": {
        "id": "I7zi62goOma9"
      },
      "source": [
        "open() is a function which literally opens and returns the file. This function has multiple modes, and, here, we used mode as 'w', which means: open a file for writing. And then, we use 'write' function to write on the empty file (content_analysis_save) that we created using open(content_analysis_save, mode='w', encoding='utf-8').} What did we write on this file? The text we got from wikiContentRequest.text"
      ]
    },
    {
      "cell_type": "markdown",
      "metadata": {
        "id": "z9-kcKydOma-"
      },
      "source": [
        "Now let's open the file (`wikipedia_content_analysis.html`) we just created with\n",
        "a web browser. It should look sort of like the original but without the images\n",
        "and formatting.\n",
        "\n",
        "As there is very little standardization on structuring webpages, figuring out\n",
        "how best to extract what you want is an art. Looking at this page it looks like\n",
        "all the main textual content is inside `<p>`(paragraph) tags within the `<body>`\n",
        "tag. "
      ]
    },
    {
      "cell_type": "code",
      "execution_count": 11,
      "metadata": {
        "scrolled": true,
        "id": "UTiDo5jGOma-",
        "outputId": "efb3cebd-e616-4caa-e059-ed1f9d011a7a",
        "colab": {
          "base_uri": "https://localhost:8080/"
        }
      },
      "outputs": [
        {
          "output_type": "stream",
          "name": "stdout",
          "text": [
            "South Asia \n",
            "\n",
            "Middle East\n",
            "\n",
            "Europe\n",
            "\n"
          ]
        }
      ],
      "source": [
        "contentPTags = wikiContentSoup.body.findAll('p')\n",
        "for pTag in contentPTags[:3]:\n",
        "    print(pTag.text)"
      ]
    },
    {
      "cell_type": "markdown",
      "metadata": {
        "id": "K-HEFlXROma-"
      },
      "source": [
        "Another excursion for those who are not familiar with programming: for loop. For loop is used to iterate over a sequence. \"ContentPTags\" contains multiple paragraphs, each of which starts and ends with `<p>`. What the \"for pTag in contentPtags[:3]\" does here is: find each paragraph in contentPTags, which, here, we limited to the first three using contentPtags[:3], and then print each paragraph. So, we have three paragraphs. By the way, you can insert `<p>` in juputer notebook!"
      ]
    },
    {
      "cell_type": "markdown",
      "metadata": {
        "id": "P3WbGS2aOma_"
      },
      "source": [
        "We now have all the text from the page, split up by paragraph. If we wanted to\n",
        "get the section headers or references as well it would require a bit more work,\n",
        "but is doable.\n",
        "\n",
        "There is one more thing we might want to do before sending this text to be\n",
        "processed, remove the references indicators (`[2]`, `[3]` , etc). To do this we\n",
        "can use a short regular expression (regex)."
      ]
    },
    {
      "cell_type": "code",
      "execution_count": 12,
      "metadata": {
        "id": "W1Km-YmsOma_",
        "outputId": "ac939efa-0004-4a16-e9d1-1bc0fa1a402a",
        "colab": {
          "base_uri": "https://localhost:8080/"
        }
      },
      "outputs": [
        {
          "output_type": "stream",
          "name": "stdout",
          "text": [
            "                                       paragraph-text\n",
            "0                                       South Asia \\n\n",
            "1                                       Middle East\\n\n",
            "2                                            Europe\\n\n",
            "3                                     North America\\n\n",
            "4   Content analysis is the study of documents and...\n",
            "5   Practices and philosophies of content analysis...\n",
            "6   Computers are increasingly used in content ana...\n",
            "7   Content analysis is best understood as a broad...\n",
            "8   The simplest and most objective form of conten...\n",
            "9   A further step in analysis is the distinction ...\n",
            "10  Quantitative content analysis highlights frequ...\n",
            "11  Siegfried Kracauer provides a critique of quan...\n",
            "12  With the rise of common computing facilities l...\n",
            "13  By having contents of communication available ...\n",
            "14  Computer-assisted analysis can help with large...\n",
            "15  Robert Weber notes: \"To make valid inferences ...\n",
            "16  There are five types of texts in content analy...\n",
            "17  Content analysis is research using the categor...\n",
            "18  Over the years, content analysis has been appl...\n",
            "19  In recent times, particularly with the advent ...\n",
            "20  Quantitative content analysis has enjoyed a re...\n",
            "21  Content analysis can also be described as stud...\n",
            "22  Manifest content is readily understandable at ...\n",
            "23  Holsti groups fifteen uses of content analysis...\n",
            "24  He also places these uses into the context of ...\n",
            "25  The following table shows fifteen uses of cont...\n",
            "26  As a counterpoint, there are limits to the sco...\n",
            "27  The process of the initial coding scheme or ap...\n",
            "28  With either approach above, immersing oneself ...\n",
            "29                                                 \\n\n"
          ]
        }
      ],
      "source": [
        "contentParagraphs = []\n",
        "for pTag in contentPTags:\n",
        "    #strings starting with r are raw so their \\'s are not modifier characters\n",
        "    #If we didn't start with r the string would be: '\\\\[\\\\d+\\\\]'\n",
        "    contentParagraphs.append(re.sub(r'\\[\\d+\\]', '', pTag.text))\n",
        "\n",
        "#convert to a DataFrame\n",
        "contentParagraphsDF = pandas.DataFrame({'paragraph-text' : contentParagraphs})\n",
        "print(contentParagraphsDF)"
      ]
    },
    {
      "cell_type": "markdown",
      "metadata": {
        "id": "32iXyFviOma_"
      },
      "source": [
        "Since we learned how to do for loop, you might get what we did here: using contentParagraphs = [], we made an empty list; and then, for each paragraph in contentPTags, we substituted every [\\d+\\] with '', i.e., removed every [\\d+\\], and then appended each paragraph (now without [\\d+\\]) to the empty list. As we can see, we have a dataframe, each row of which is each paragraph of contentPTags, without reference indicators. \n",
        "\n",
        "By the way, what does [\\d+\\] mean? If you are not familiar with regex, it is a way of specifying searches in text.\n",
        "A regex engine takes in the search pattern, in the above case `'\\[\\d+\\]'` and\n",
        "some string, the paragraph texts. Then it reads the input string one character\n",
        "at a time checking if it matches the search. Here the regex `'\\d'` matches\n",
        "number characters (while `'\\['` and `'\\]'` capture the braces on either side)."
      ]
    },
    {
      "cell_type": "code",
      "execution_count": 13,
      "metadata": {
        "id": "aMRe7UEvOma_",
        "outputId": "5c59fde8-5a92-49bc-a63e-891a5dbbb5f7",
        "colab": {
          "base_uri": "https://localhost:8080/"
        }
      },
      "outputs": [
        {
          "output_type": "execute_result",
          "data": {
            "text/plain": [
              "<re.Match object; span=(36, 37), match='2'>"
            ]
          },
          "metadata": {},
          "execution_count": 13
        }
      ],
      "source": [
        "findNumber = r'\\d'\n",
        "regexResults = re.search(findNumber, 'not a number, not a number, numbers 2134567890, not a number')\n",
        "regexResults"
      ]
    },
    {
      "cell_type": "markdown",
      "metadata": {
        "id": "70nwprj2OmbA"
      },
      "source": [
        "In Python the regex package (`re`) usually returns `Match` objects (you can have\n",
        "multiple pattern hits in a a single `Match`), to get the string that matched our\n",
        "pattern we can use the `.group()` method, and as we want the first one we will\n",
        "ask for the 0'th group. Note that `re.search()` only looks for the _first_ match in the string, use `re.findall()` instead."
      ]
    },
    {
      "cell_type": "code",
      "execution_count": 14,
      "metadata": {
        "id": "YPz34LJiOmbA",
        "outputId": "a9b30aa2-9bf4-4f04-9956-0c4ebdf763ed",
        "colab": {
          "base_uri": "https://localhost:8080/"
        }
      },
      "outputs": [
        {
          "output_type": "stream",
          "name": "stdout",
          "text": [
            "2\n"
          ]
        }
      ],
      "source": [
        "print(regexResults.group(0))"
      ]
    },
    {
      "cell_type": "markdown",
      "metadata": {
        "id": "xu-YZGe4OmbA"
      },
      "source": [
        "That gives us the first number, if we wanted the whole block of numbers we can\n",
        "add a wildcard `'+'` which requests 1 or more instances of the preceding\n",
        "character."
      ]
    },
    {
      "cell_type": "code",
      "execution_count": 15,
      "metadata": {
        "id": "stERg5HHOmbA",
        "outputId": "61c62d55-6dc8-43d8-eec2-9d7dec41b200",
        "colab": {
          "base_uri": "https://localhost:8080/"
        }
      },
      "outputs": [
        {
          "output_type": "stream",
          "name": "stdout",
          "text": [
            "2134567890\n"
          ]
        }
      ],
      "source": [
        "findNumbers = r'\\d+'\n",
        "regexResults = re.search(findNumbers, 'not a number, not a number, numbers 2134567890, not a number')\n",
        "print(regexResults.group(0))"
      ]
    },
    {
      "cell_type": "markdown",
      "metadata": {
        "id": "DczZWZWeOmbB"
      },
      "source": [
        "Now we have the whole block of numbers, there are a huge number of special\n",
        "characters in regex, for the full description of Python's implementation look at\n",
        "the [re docs](https://docs.python.org/3/library/re.html) there is also a short\n",
        "[tutorial](https://docs.python.org/3/howto/regex.html#regex-howto)."
      ]
    },
    {
      "cell_type": "markdown",
      "metadata": {
        "id": "Ta624Xp-Oma_"
      },
      "source": [
        "Now we have a `DataFrame` containing all relevant text from the page ready to be processed"
      ]
    },
    {
      "cell_type": "markdown",
      "metadata": {
        "id": "dXtaSZCkOmbE"
      },
      "source": [
        "## API (Tumblr)\n",
        "\n",
        "Generally website owners do not like you scraping their sites. If done badly,\n",
        "scarping can act like a DOS attack so you should be careful how often you make\n",
        "calls to a site. Some sites want automated tools to access their data, so they\n",
        "create [application programming interface\n",
        "(APIs)](https://en.wikipedia.org/wiki/Application_programming_interface). An API\n",
        "specifies a procedure for an application (or script) to access their data. Often\n",
        "this is though a [representational state transfer\n",
        "(REST)](https://en.wikipedia.org/wiki/Representational_state_transfer) web\n",
        "service, which just means if you make correctly formatted HTTP requests they\n",
        "will return nicely formatted data.\n",
        "\n",
        "A nice example for us to study is [Tumblr](https://www.tumblr.com), they have a\n",
        "[simple RESTful API](https://www.tumblr.com/docs/en/api/v1) that allows you to\n",
        "read posts without any complicated html parsing.\n",
        "\n",
        "We can get the first 20 posts from a blog by making an http GET request to\n",
        "`'http://{blog}.tumblr.com/api/read/json'`, were `{blog}` is the name of the\n",
        "target blog. Lets try and get the posts from [http://lolcats-lol-\n",
        "cat.tumblr.com/](http://lolcats-lol-cat.tumblr.com/) (Note the blog says at the\n",
        "top 'One hour one pic lolcats', but the canonical name that Tumblr uses is in\n",
        "the URL 'lolcats-lol-cat')."
      ]
    },
    {
      "cell_type": "code",
      "execution_count": 16,
      "metadata": {
        "id": "MG5_q9A6OmbE",
        "outputId": "4dd2db39-bfd8-4690-96dc-4630df388717",
        "colab": {
          "base_uri": "https://localhost:8080/"
        }
      },
      "outputs": [
        {
          "output_type": "stream",
          "name": "stdout",
          "text": [
            "var tumblr_api_read = {\"tumblelog\":{\"title\":\"One hour one pic lolcats\",\"description\":\"\",\"name\":\"lolcats-lol-cat\",\"timezone\":\"Europe\\/Paris\",\"cname\":false,\"feeds\":[]},\"posts-start\":0,\"posts-total\":3925,\"posts-type\":false,\"posts\":[{\"id\":\"662815854023655425\",\"url\":\"https:\\/\\/lolcats-lol-cat.tumblr.com\\/post\\/662815854023655425\",\"url-with-slug\":\"https:\\/\\/lolcats-lol-cat.tumblr.com\\/post\\/662815854023655425\",\"type\":\"photo\",\"date-gmt\":\"2021-09-20 04:00:56 GMT\",\"date\":\"Mon, 20 Sep 2021 06:00:56\",\"bookmarklet\":0,\"mobile\":0,\"feed-item\":\"\",\"from-feed-id\":0,\"unix-timestamp\":1632110456,\"format\":\"html\",\"reblog-key\":\"kjH8cg34\",\"slug\":\"\",\"is-submission\":false,\"like-button\":\"<div class=\\\"like_button\\\" data-post-id=\\\"662815854023655425\\\" data-blog-name=\\\"lolcats-lol-cat\\\" id=\\\"like_button_662815854023655425\\\"><iframe id=\\\"like_iframe_662815854023655425\\\" src=\\\"https:\\/\\/assets.tumblr.com\\/assets\\/html\\/like_iframe.html?_v=66c22ab5319d742bca5762b8d18f9d06#name=lolcats-lol-cat&amp;post_id=66281585402365\n"
          ]
        }
      ],
      "source": [
        "tumblrAPItarget = 'http://{}.tumblr.com/api/read/json'\n",
        "\n",
        "r = requests.get(tumblrAPItarget.format('lolcats-lol-cat'))\n",
        "\n",
        "print(r.text[:1000])"
      ]
    },
    {
      "cell_type": "markdown",
      "metadata": {
        "id": "fUyJcV_BOmbF"
      },
      "source": [
        "This might not look very good on first inspection, but it has far fewer angle\n",
        "braces than html, which makes it easier to parse. What we have is\n",
        "[JSON](https://en.wikipedia.org/wiki/JSON) a 'human readable' text based data\n",
        "transmission format based on javascript. Luckily, we can readily convert it to a\n",
        "python `dict`."
      ]
    },
    {
      "cell_type": "code",
      "execution_count": 17,
      "metadata": {
        "id": "NAanoykvOmbF",
        "outputId": "d177968b-2413-4fcc-dd1a-0f0688187750",
        "colab": {
          "base_uri": "https://localhost:8080/"
        }
      },
      "outputs": [
        {
          "output_type": "stream",
          "name": "stdout",
          "text": [
            "dict_keys(['tumblelog', 'posts-start', 'posts-total', 'posts-type', 'posts'])\n",
            "20\n"
          ]
        }
      ],
      "source": [
        "#We need to load only the stuff between the curly braces\n",
        "d = json.loads(r.text[len('var tumblr_api_read = '):-2])\n",
        "print(d.keys())\n",
        "print(len(d['posts']))"
      ]
    },
    {
      "cell_type": "markdown",
      "metadata": {
        "id": "qiJMc6rMOmbF"
      },
      "source": [
        "If we read the [API specification](https://www.tumblr.com/docs/en/api/v1), we\n",
        "will see there are a lot of things we can get if we add things to our GET\n",
        "request. First we can retrieve posts by their id number. Let's first get post\n",
        "`146020177084`."
      ]
    },
    {
      "cell_type": "code",
      "execution_count": 18,
      "metadata": {
        "id": "BwWjv6WHOmbG"
      },
      "outputs": [],
      "source": [
        "r = requests.get(tumblrAPItarget.format('lolcats-lol-cat'), params = {'id' : 146020177084})\n",
        "d = json.loads(r.text[len('var tumblr_api_read = '):-2])\n",
        "d['posts'][0].keys()\n",
        "d['posts'][0]['photo-url-1280']\n",
        "\n",
        "with open('lolcat.gif', 'wb') as f:\n",
        "    gifRequest = requests.get(d['posts'][0]['photo-url-1280'], stream = True)\n",
        "    f.write(gifRequest.content)"
      ]
    },
    {
      "cell_type": "markdown",
      "metadata": {
        "id": "J3RRqYt-OmbG"
      },
      "source": [
        "<img src='lolcat.gif'>\n",
        "\n",
        "Such beauty; such vigor (If you can't see it you have to refresh the page). Now\n",
        "we could retrieve the text from all posts as well\n",
        "as related metadata, like the post date, caption or tags. We could also get\n",
        "links to all the images."
      ]
    },
    {
      "cell_type": "code",
      "execution_count": 19,
      "metadata": {
        "id": "KM33Tbc4OmbG",
        "outputId": "50999126-f72a-4d1c-eaab-79a6012bc091",
        "colab": {
          "base_uri": "https://localhost:8080/",
          "height": 0
        }
      },
      "outputs": [
        {
          "output_type": "execute_result",
          "data": {
            "text/html": [
              "\n",
              "  <div id=\"df-19b2ebe8-c98f-483d-981a-3da0c546e4fc\">\n",
              "    <div class=\"colab-df-container\">\n",
              "      <div>\n",
              "<style scoped>\n",
              "    .dataframe tbody tr th:only-of-type {\n",
              "        vertical-align: middle;\n",
              "    }\n",
              "\n",
              "    .dataframe tbody tr th {\n",
              "        vertical-align: top;\n",
              "    }\n",
              "\n",
              "    .dataframe thead th {\n",
              "        text-align: right;\n",
              "    }\n",
              "</style>\n",
              "<table border=\"1\" class=\"dataframe\">\n",
              "  <thead>\n",
              "    <tr style=\"text-align: right;\">\n",
              "      <th></th>\n",
              "      <th>id</th>\n",
              "      <th>photo-url</th>\n",
              "      <th>date</th>\n",
              "      <th>tags</th>\n",
              "      <th>photo-type</th>\n",
              "    </tr>\n",
              "  </thead>\n",
              "  <tbody>\n",
              "    <tr>\n",
              "      <th>0</th>\n",
              "      <td>662815854023655425</td>\n",
              "      <td>https://64.media.tumblr.com/021eac8fbcafbb00a5...</td>\n",
              "      <td>Mon, 20 Sep 2021 06:00:56</td>\n",
              "      <td>[gif, lolcat, lolcats, cat, funny]</td>\n",
              "      <td>gif</td>\n",
              "    </tr>\n",
              "    <tr>\n",
              "      <th>1</th>\n",
              "      <td>662778109891952640</td>\n",
              "      <td>https://64.media.tumblr.com/8c0517adb8c71e4a3d...</td>\n",
              "      <td>Sun, 19 Sep 2021 20:01:00</td>\n",
              "      <td>[cat, cats, lol, lolcat, lolcats]</td>\n",
              "      <td>png</td>\n",
              "    </tr>\n",
              "    <tr>\n",
              "      <th>2</th>\n",
              "      <td>662657302700146688</td>\n",
              "      <td>https://64.media.tumblr.com/061d27cda309d5c809...</td>\n",
              "      <td>Sat, 18 Sep 2021 12:00:50</td>\n",
              "      <td>[cat, cats, lol, lolcat, lolcats]</td>\n",
              "      <td>jpg</td>\n",
              "    </tr>\n",
              "    <tr>\n",
              "      <th>3</th>\n",
              "      <td>662513901538246656</td>\n",
              "      <td>https://64.media.tumblr.com/80584a9d1ff4ddc4fc...</td>\n",
              "      <td>Thu, 16 Sep 2021 22:01:32</td>\n",
              "      <td>[cat, cats, lol, lolcat, lolcats]</td>\n",
              "      <td>png</td>\n",
              "    </tr>\n",
              "    <tr>\n",
              "      <th>4</th>\n",
              "      <td>662257177983090688</td>\n",
              "      <td>https://64.media.tumblr.com/893b320cd2e8970a20...</td>\n",
              "      <td>Tue, 14 Sep 2021 02:01:01</td>\n",
              "      <td>[cat, cats, lol, lolcat, lolcats]</td>\n",
              "      <td>jpg</td>\n",
              "    </tr>\n",
              "    <tr>\n",
              "      <th>5</th>\n",
              "      <td>662166591527698432</td>\n",
              "      <td>https://64.media.tumblr.com/c7f0a0a9184e480e15...</td>\n",
              "      <td>Mon, 13 Sep 2021 02:01:11</td>\n",
              "      <td>[cat, cats, lol, lolcat, lolcats]</td>\n",
              "      <td>jpg</td>\n",
              "    </tr>\n",
              "    <tr>\n",
              "      <th>6</th>\n",
              "      <td>662113740899090432</td>\n",
              "      <td>https://64.media.tumblr.com/07f7be7f71917a6049...</td>\n",
              "      <td>Sun, 12 Sep 2021 12:01:09</td>\n",
              "      <td>[cat, cats, lol, lolcat, lolcats]</td>\n",
              "      <td>jpg</td>\n",
              "    </tr>\n",
              "    <tr>\n",
              "      <th>7</th>\n",
              "      <td>661955166248026112</td>\n",
              "      <td>https://64.media.tumblr.com/205f030c48d31f8960...</td>\n",
              "      <td>Fri, 10 Sep 2021 18:00:40</td>\n",
              "      <td>[cat, cats, lol, lolcat, lolcats]</td>\n",
              "      <td>jpg</td>\n",
              "    </tr>\n",
              "    <tr>\n",
              "      <th>8</th>\n",
              "      <td>661894830378614784</td>\n",
              "      <td>https://64.media.tumblr.com/c463bff883fec2045b...</td>\n",
              "      <td>Fri, 10 Sep 2021 02:01:39</td>\n",
              "      <td>[cat, cats, lol, lolcat, lolcats]</td>\n",
              "      <td>png</td>\n",
              "    </tr>\n",
              "    <tr>\n",
              "      <th>9</th>\n",
              "      <td>661864596682964992</td>\n",
              "      <td>https://64.media.tumblr.com/b840ddb3aa2303206b...</td>\n",
              "      <td>Thu, 09 Sep 2021 18:01:06</td>\n",
              "      <td>[cat, cats, lol, lolcat, lolcats]</td>\n",
              "      <td>jpg</td>\n",
              "    </tr>\n",
              "    <tr>\n",
              "      <th>10</th>\n",
              "      <td>661826822696321024</td>\n",
              "      <td>https://64.media.tumblr.com/adc18e35b1844be41a...</td>\n",
              "      <td>Thu, 09 Sep 2021 08:00:42</td>\n",
              "      <td>[cat, cats, lol, lolcat, lolcats]</td>\n",
              "      <td>png</td>\n",
              "    </tr>\n",
              "    <tr>\n",
              "      <th>11</th>\n",
              "      <td>661804260632215552</td>\n",
              "      <td>https://64.media.tumblr.com/caae5b433ada6d6cb3...</td>\n",
              "      <td>Thu, 09 Sep 2021 02:02:05</td>\n",
              "      <td>[cat, cats, lol, lolcat, lolcats]</td>\n",
              "      <td>png</td>\n",
              "    </tr>\n",
              "    <tr>\n",
              "      <th>12</th>\n",
              "      <td>661766453508407296</td>\n",
              "      <td>https://64.media.tumblr.com/9d8cf92208aec32b93...</td>\n",
              "      <td>Wed, 08 Sep 2021 16:01:10</td>\n",
              "      <td>[cat, cats, lol, lolcat, lolcats]</td>\n",
              "      <td>jpg</td>\n",
              "    </tr>\n",
              "    <tr>\n",
              "      <th>13</th>\n",
              "      <td>661623017704685568</td>\n",
              "      <td>https://64.media.tumblr.com/4a5ae6732ab54227a4...</td>\n",
              "      <td>Tue, 07 Sep 2021 02:01:19</td>\n",
              "      <td>[cat, cats, lol, lolcat, lolcats]</td>\n",
              "      <td>jpg</td>\n",
              "    </tr>\n",
              "    <tr>\n",
              "      <th>14</th>\n",
              "      <td>661555057316298752</td>\n",
              "      <td>https://64.media.tumblr.com/c92a31829a6d88381e...</td>\n",
              "      <td>Mon, 06 Sep 2021 08:01:07</td>\n",
              "      <td>[cat, cats, lol, lolcat, lolcats]</td>\n",
              "      <td>jpg</td>\n",
              "    </tr>\n",
              "    <tr>\n",
              "      <th>15</th>\n",
              "      <td>661509804401065984</td>\n",
              "      <td>https://64.media.tumblr.com/2653be7b6e3a8efb9e...</td>\n",
              "      <td>Sun, 05 Sep 2021 20:01:50</td>\n",
              "      <td>[cat, cats, lol, lolcat, lolcats]</td>\n",
              "      <td>png</td>\n",
              "    </tr>\n",
              "    <tr>\n",
              "      <th>16</th>\n",
              "      <td>661411625970106368</td>\n",
              "      <td>https://64.media.tumblr.com/e508b4d0fcc083750b...</td>\n",
              "      <td>Sat, 04 Sep 2021 18:01:20</td>\n",
              "      <td>[cat, cats, lol, lolcat, lolcats]</td>\n",
              "      <td>jpg</td>\n",
              "    </tr>\n",
              "    <tr>\n",
              "      <th>17</th>\n",
              "      <td>661260621178945536</td>\n",
              "      <td>https://64.media.tumblr.com/28e64b8d19014a4c98...</td>\n",
              "      <td>Fri, 03 Sep 2021 02:01:10</td>\n",
              "      <td>[cat, cats, lol, lolcat, lolcats]</td>\n",
              "      <td>png</td>\n",
              "    </tr>\n",
              "    <tr>\n",
              "      <th>18</th>\n",
              "      <td>661177569862991872</td>\n",
              "      <td>https://64.media.tumblr.com/9ffadbe3e1d5fb20f8...</td>\n",
              "      <td>Thu, 02 Sep 2021 04:01:06</td>\n",
              "      <td>[cat, cats, lol, lolcat, lolcats]</td>\n",
              "      <td>png</td>\n",
              "    </tr>\n",
              "    <tr>\n",
              "      <th>19</th>\n",
              "      <td>661154964805140480</td>\n",
              "      <td>https://64.media.tumblr.com/27dce173c9e6cf3f05...</td>\n",
              "      <td>Wed, 01 Sep 2021 22:01:49</td>\n",
              "      <td>[cat, cats, lol, lolcat, lolcats]</td>\n",
              "      <td>jpg</td>\n",
              "    </tr>\n",
              "    <tr>\n",
              "      <th>20</th>\n",
              "      <td>660988818837651457</td>\n",
              "      <td>https://64.media.tumblr.com/02db958e8649c04d19...</td>\n",
              "      <td>Tue, 31 Aug 2021 02:00:59</td>\n",
              "      <td>[cat, cats, lol, lolcat, lolcats]</td>\n",
              "      <td>jpg</td>\n",
              "    </tr>\n",
              "    <tr>\n",
              "      <th>21</th>\n",
              "      <td>660935942249578496</td>\n",
              "      <td>https://64.media.tumblr.com/80b5d0f3c5636990b9...</td>\n",
              "      <td>Mon, 30 Aug 2021 12:00:32</td>\n",
              "      <td>[cat, cats, lol, lolcat, lolcats]</td>\n",
              "      <td>jpg</td>\n",
              "    </tr>\n",
              "    <tr>\n",
              "      <th>22</th>\n",
              "      <td>660905765646843905</td>\n",
              "      <td>https://64.media.tumblr.com/a2eb4c91986a0c1e23...</td>\n",
              "      <td>Mon, 30 Aug 2021 04:00:54</td>\n",
              "      <td>[cat, cats, lol, lolcat, lolcats]</td>\n",
              "      <td>jpg</td>\n",
              "    </tr>\n",
              "    <tr>\n",
              "      <th>23</th>\n",
              "      <td>660898202755661824</td>\n",
              "      <td>https://64.media.tumblr.com/061d27cda309d5c809...</td>\n",
              "      <td>Mon, 30 Aug 2021 02:00:41</td>\n",
              "      <td>[cat, cats, lol, lolcat, lolcats]</td>\n",
              "      <td>jpg</td>\n",
              "    </tr>\n",
              "    <tr>\n",
              "      <th>24</th>\n",
              "      <td>660883122996576256</td>\n",
              "      <td>https://64.media.tumblr.com/2d1137cbf0dbe21d8b...</td>\n",
              "      <td>Sun, 29 Aug 2021 22:01:00</td>\n",
              "      <td>[cat, cats, lol, lolcat, lolcats]</td>\n",
              "      <td>png</td>\n",
              "    </tr>\n",
              "    <tr>\n",
              "      <th>25</th>\n",
              "      <td>660732105459924992</td>\n",
              "      <td>https://64.media.tumblr.com/cccbbc09b009b581a9...</td>\n",
              "      <td>Sat, 28 Aug 2021 06:00:38</td>\n",
              "      <td>[cat, cats, lol, lolcat, lolcats]</td>\n",
              "      <td>jpg</td>\n",
              "    </tr>\n",
              "    <tr>\n",
              "      <th>26</th>\n",
              "      <td>660475424163364864</td>\n",
              "      <td>https://64.media.tumblr.com/9d700e79b1615fac2f...</td>\n",
              "      <td>Wed, 25 Aug 2021 10:00:48</td>\n",
              "      <td>[cat, cats, lol, lolcat, lolcats]</td>\n",
              "      <td>jpg</td>\n",
              "    </tr>\n",
              "    <tr>\n",
              "      <th>27</th>\n",
              "      <td>660324431590277120</td>\n",
              "      <td>https://64.media.tumblr.com/7cc2c0f675bc099be4...</td>\n",
              "      <td>Mon, 23 Aug 2021 18:00:50</td>\n",
              "      <td>[cat, cats, lol, lolcat, lolcats]</td>\n",
              "      <td>png</td>\n",
              "    </tr>\n",
              "    <tr>\n",
              "      <th>28</th>\n",
              "      <td>660196106964221952</td>\n",
              "      <td>https://64.media.tumblr.com/c024195387a46a6f77...</td>\n",
              "      <td>Sun, 22 Aug 2021 08:01:10</td>\n",
              "      <td>[cat, cats, lol, lolcat, lolcats]</td>\n",
              "      <td>png</td>\n",
              "    </tr>\n",
              "    <tr>\n",
              "      <th>29</th>\n",
              "      <td>660143257603506176</td>\n",
              "      <td>https://64.media.tumblr.com/fdf46563a9b09ec147...</td>\n",
              "      <td>Sat, 21 Aug 2021 18:01:09</td>\n",
              "      <td>[cat, cats, lol, lolcat, lolcats]</td>\n",
              "      <td>jpg</td>\n",
              "    </tr>\n",
              "    <tr>\n",
              "      <th>30</th>\n",
              "      <td>660060193333346304</td>\n",
              "      <td>https://64.media.tumblr.com/4183c34ae67f92f290...</td>\n",
              "      <td>Fri, 20 Aug 2021 20:00:53</td>\n",
              "      <td>[cat, cats, lol, lolcat, lolcats]</td>\n",
              "      <td>jpg</td>\n",
              "    </tr>\n",
              "    <tr>\n",
              "      <th>31</th>\n",
              "      <td>659743087466332160</td>\n",
              "      <td>https://64.media.tumblr.com/01c63fcc1d5fc2e0e0...</td>\n",
              "      <td>Tue, 17 Aug 2021 08:00:37</td>\n",
              "      <td>[cat, cats, lol, lolcat, lolcats]</td>\n",
              "      <td>png</td>\n",
              "    </tr>\n",
              "    <tr>\n",
              "      <th>32</th>\n",
              "      <td>659705393411391488</td>\n",
              "      <td>https://64.media.tumblr.com/42a1477d18728fb088...</td>\n",
              "      <td>Mon, 16 Aug 2021 22:01:30</td>\n",
              "      <td>[cat, cats, lol, lolcat, lolcats]</td>\n",
              "      <td>png</td>\n",
              "    </tr>\n",
              "    <tr>\n",
              "      <th>33</th>\n",
              "      <td>659660051218317312</td>\n",
              "      <td>https://64.media.tumblr.com/a4392b133ed186fad8...</td>\n",
              "      <td>Mon, 16 Aug 2021 10:00:48</td>\n",
              "      <td>[cat, cats, lol, lolcat, lolcats]</td>\n",
              "      <td>jpg</td>\n",
              "    </tr>\n",
              "    <tr>\n",
              "      <th>34</th>\n",
              "      <td>659539266591981568</td>\n",
              "      <td>https://64.media.tumblr.com/9024bc51ad17d40b80...</td>\n",
              "      <td>Sun, 15 Aug 2021 02:00:59</td>\n",
              "      <td>[cat, cats, lol, lolcat, lolcats]</td>\n",
              "      <td>jpg</td>\n",
              "    </tr>\n",
              "    <tr>\n",
              "      <th>35</th>\n",
              "      <td>659509078641557504</td>\n",
              "      <td>https://64.media.tumblr.com/12afb1b79928488a1a...</td>\n",
              "      <td>Sat, 14 Aug 2021 18:01:09</td>\n",
              "      <td>[cat, cats, lol, lolcat, lolcats]</td>\n",
              "      <td>png</td>\n",
              "    </tr>\n",
              "    <tr>\n",
              "      <th>36</th>\n",
              "      <td>659342999892967424</td>\n",
              "      <td>https://64.media.tumblr.com/29a90b59498d9ae55f...</td>\n",
              "      <td>Thu, 12 Aug 2021 22:01:24</td>\n",
              "      <td>[cat, cats, lol, lolcat, lolcats]</td>\n",
              "      <td>jpg</td>\n",
              "    </tr>\n",
              "    <tr>\n",
              "      <th>37</th>\n",
              "      <td>659108907014356992</td>\n",
              "      <td>https://64.media.tumblr.com/7a11be8b9524535da2...</td>\n",
              "      <td>Tue, 10 Aug 2021 08:00:36</td>\n",
              "      <td>[cat, cats, lol, lolcat, lolcats]</td>\n",
              "      <td>jpg</td>\n",
              "    </tr>\n",
              "    <tr>\n",
              "      <th>38</th>\n",
              "      <td>658867320238850049</td>\n",
              "      <td>https://64.media.tumblr.com/bf7efc7edad65675ad...</td>\n",
              "      <td>Sat, 07 Aug 2021 16:00:41</td>\n",
              "      <td>[cat, cats, lol, lolcat, lolcats]</td>\n",
              "      <td>jpg</td>\n",
              "    </tr>\n",
              "    <tr>\n",
              "      <th>39</th>\n",
              "      <td>658844675622453248</td>\n",
              "      <td>https://64.media.tumblr.com/c2b58415fe3fed86a2...</td>\n",
              "      <td>Sat, 07 Aug 2021 10:00:45</td>\n",
              "      <td>[cat, cats, lol, lolcat, lolcats]</td>\n",
              "      <td>jpg</td>\n",
              "    </tr>\n",
              "    <tr>\n",
              "      <th>40</th>\n",
              "      <td>658814510935769088</td>\n",
              "      <td>https://64.media.tumblr.com/d70155b2bdd5763cca...</td>\n",
              "      <td>Sat, 07 Aug 2021 02:01:18</td>\n",
              "      <td>[cat, cats, lol, lolcat, lolcats]</td>\n",
              "      <td>jpg</td>\n",
              "    </tr>\n",
              "    <tr>\n",
              "      <th>41</th>\n",
              "      <td>658338845753999360</td>\n",
              "      <td>https://64.media.tumblr.com/1fca341b03f832d679...</td>\n",
              "      <td>Sun, 01 Aug 2021 20:00:48</td>\n",
              "      <td>[cat, cats, lol, lolcat, lolcats]</td>\n",
              "      <td>png</td>\n",
              "    </tr>\n",
              "    <tr>\n",
              "      <th>42</th>\n",
              "      <td>658225598089609217</td>\n",
              "      <td>https://64.media.tumblr.com/07aad399cc881a2399...</td>\n",
              "      <td>Sat, 31 Jul 2021 14:00:47</td>\n",
              "      <td>[cat, cats, lol, lolcat, lolcats]</td>\n",
              "      <td>jpg</td>\n",
              "    </tr>\n",
              "    <tr>\n",
              "      <th>43</th>\n",
              "      <td>658210575863742464</td>\n",
              "      <td>https://64.media.tumblr.com/d5b0639155ee97c854...</td>\n",
              "      <td>Sat, 31 Jul 2021 10:02:00</td>\n",
              "      <td>[cat, cats, lol, lolcat, lolcats]</td>\n",
              "      <td>jpg</td>\n",
              "    </tr>\n",
              "    <tr>\n",
              "      <th>44</th>\n",
              "      <td>658165190497583104</td>\n",
              "      <td>https://64.media.tumblr.com/ea6ad0eae613c5f60f...</td>\n",
              "      <td>Fri, 30 Jul 2021 22:00:38</td>\n",
              "      <td>[gif, lolcat, lolcats, cat, funny]</td>\n",
              "      <td>gif</td>\n",
              "    </tr>\n",
              "    <tr>\n",
              "      <th>45</th>\n",
              "      <td>657946256220536832</td>\n",
              "      <td>https://64.media.tumblr.com/16cf3a5e394112f7d0...</td>\n",
              "      <td>Wed, 28 Jul 2021 12:00:46</td>\n",
              "      <td>[cat, cats, lol, lolcat, lolcats]</td>\n",
              "      <td>jpg</td>\n",
              "    </tr>\n",
              "    <tr>\n",
              "      <th>46</th>\n",
              "      <td>657931173576704000</td>\n",
              "      <td>https://64.media.tumblr.com/2b7dfb6b1677079a45...</td>\n",
              "      <td>Wed, 28 Jul 2021 08:01:02</td>\n",
              "      <td>[cat, cats, lol, lolcat, lolcats]</td>\n",
              "      <td>jpg</td>\n",
              "    </tr>\n",
              "    <tr>\n",
              "      <th>47</th>\n",
              "      <td>657312093673078784</td>\n",
              "      <td>https://64.media.tumblr.com/17fe9380eed8516e45...</td>\n",
              "      <td>Wed, 21 Jul 2021 12:01:01</td>\n",
              "      <td>[cat, cats, lol, lolcat, lolcats]</td>\n",
              "      <td>png</td>\n",
              "    </tr>\n",
              "    <tr>\n",
              "      <th>48</th>\n",
              "      <td>656677912834195456</td>\n",
              "      <td>https://64.media.tumblr.com/7c4e668dc5eb0e89ed...</td>\n",
              "      <td>Wed, 14 Jul 2021 12:00:59</td>\n",
              "      <td>[cat, cats, lol, lolcat, lolcats]</td>\n",
              "      <td>jpg</td>\n",
              "    </tr>\n",
              "    <tr>\n",
              "      <th>49</th>\n",
              "      <td>656647679801212928</td>\n",
              "      <td>https://64.media.tumblr.com/f411261fd1e6911697...</td>\n",
              "      <td>Wed, 14 Jul 2021 04:00:27</td>\n",
              "      <td>[cat, cats, lol, lolcat, lolcats]</td>\n",
              "      <td>jpg</td>\n",
              "    </tr>\n",
              "  </tbody>\n",
              "</table>\n",
              "</div>\n",
              "      <button class=\"colab-df-convert\" onclick=\"convertToInteractive('df-19b2ebe8-c98f-483d-981a-3da0c546e4fc')\"\n",
              "              title=\"Convert this dataframe to an interactive table.\"\n",
              "              style=\"display:none;\">\n",
              "        \n",
              "  <svg xmlns=\"http://www.w3.org/2000/svg\" height=\"24px\"viewBox=\"0 0 24 24\"\n",
              "       width=\"24px\">\n",
              "    <path d=\"M0 0h24v24H0V0z\" fill=\"none\"/>\n",
              "    <path d=\"M18.56 5.44l.94 2.06.94-2.06 2.06-.94-2.06-.94-.94-2.06-.94 2.06-2.06.94zm-11 1L8.5 8.5l.94-2.06 2.06-.94-2.06-.94L8.5 2.5l-.94 2.06-2.06.94zm10 10l.94 2.06.94-2.06 2.06-.94-2.06-.94-.94-2.06-.94 2.06-2.06.94z\"/><path d=\"M17.41 7.96l-1.37-1.37c-.4-.4-.92-.59-1.43-.59-.52 0-1.04.2-1.43.59L10.3 9.45l-7.72 7.72c-.78.78-.78 2.05 0 2.83L4 21.41c.39.39.9.59 1.41.59.51 0 1.02-.2 1.41-.59l7.78-7.78 2.81-2.81c.8-.78.8-2.07 0-2.86zM5.41 20L4 18.59l7.72-7.72 1.47 1.35L5.41 20z\"/>\n",
              "  </svg>\n",
              "      </button>\n",
              "      \n",
              "  <style>\n",
              "    .colab-df-container {\n",
              "      display:flex;\n",
              "      flex-wrap:wrap;\n",
              "      gap: 12px;\n",
              "    }\n",
              "\n",
              "    .colab-df-convert {\n",
              "      background-color: #E8F0FE;\n",
              "      border: none;\n",
              "      border-radius: 50%;\n",
              "      cursor: pointer;\n",
              "      display: none;\n",
              "      fill: #1967D2;\n",
              "      height: 32px;\n",
              "      padding: 0 0 0 0;\n",
              "      width: 32px;\n",
              "    }\n",
              "\n",
              "    .colab-df-convert:hover {\n",
              "      background-color: #E2EBFA;\n",
              "      box-shadow: 0px 1px 2px rgba(60, 64, 67, 0.3), 0px 1px 3px 1px rgba(60, 64, 67, 0.15);\n",
              "      fill: #174EA6;\n",
              "    }\n",
              "\n",
              "    [theme=dark] .colab-df-convert {\n",
              "      background-color: #3B4455;\n",
              "      fill: #D2E3FC;\n",
              "    }\n",
              "\n",
              "    [theme=dark] .colab-df-convert:hover {\n",
              "      background-color: #434B5C;\n",
              "      box-shadow: 0px 1px 3px 1px rgba(0, 0, 0, 0.15);\n",
              "      filter: drop-shadow(0px 1px 2px rgba(0, 0, 0, 0.3));\n",
              "      fill: #FFFFFF;\n",
              "    }\n",
              "  </style>\n",
              "\n",
              "      <script>\n",
              "        const buttonEl =\n",
              "          document.querySelector('#df-19b2ebe8-c98f-483d-981a-3da0c546e4fc button.colab-df-convert');\n",
              "        buttonEl.style.display =\n",
              "          google.colab.kernel.accessAllowed ? 'block' : 'none';\n",
              "\n",
              "        async function convertToInteractive(key) {\n",
              "          const element = document.querySelector('#df-19b2ebe8-c98f-483d-981a-3da0c546e4fc');\n",
              "          const dataTable =\n",
              "            await google.colab.kernel.invokeFunction('convertToInteractive',\n",
              "                                                     [key], {});\n",
              "          if (!dataTable) return;\n",
              "\n",
              "          const docLinkHtml = 'Like what you see? Visit the ' +\n",
              "            '<a target=\"_blank\" href=https://colab.research.google.com/notebooks/data_table.ipynb>data table notebook</a>'\n",
              "            + ' to learn more about interactive tables.';\n",
              "          element.innerHTML = '';\n",
              "          dataTable['output_type'] = 'display_data';\n",
              "          await google.colab.output.renderOutput(dataTable, element);\n",
              "          const docLink = document.createElement('div');\n",
              "          docLink.innerHTML = docLinkHtml;\n",
              "          element.appendChild(docLink);\n",
              "        }\n",
              "      </script>\n",
              "    </div>\n",
              "  </div>\n",
              "  "
            ],
            "text/plain": [
              "                    id  ... photo-type\n",
              "0   662815854023655425  ...        gif\n",
              "1   662778109891952640  ...        png\n",
              "2   662657302700146688  ...        jpg\n",
              "3   662513901538246656  ...        png\n",
              "4   662257177983090688  ...        jpg\n",
              "5   662166591527698432  ...        jpg\n",
              "6   662113740899090432  ...        jpg\n",
              "7   661955166248026112  ...        jpg\n",
              "8   661894830378614784  ...        png\n",
              "9   661864596682964992  ...        jpg\n",
              "10  661826822696321024  ...        png\n",
              "11  661804260632215552  ...        png\n",
              "12  661766453508407296  ...        jpg\n",
              "13  661623017704685568  ...        jpg\n",
              "14  661555057316298752  ...        jpg\n",
              "15  661509804401065984  ...        png\n",
              "16  661411625970106368  ...        jpg\n",
              "17  661260621178945536  ...        png\n",
              "18  661177569862991872  ...        png\n",
              "19  661154964805140480  ...        jpg\n",
              "20  660988818837651457  ...        jpg\n",
              "21  660935942249578496  ...        jpg\n",
              "22  660905765646843905  ...        jpg\n",
              "23  660898202755661824  ...        jpg\n",
              "24  660883122996576256  ...        png\n",
              "25  660732105459924992  ...        jpg\n",
              "26  660475424163364864  ...        jpg\n",
              "27  660324431590277120  ...        png\n",
              "28  660196106964221952  ...        png\n",
              "29  660143257603506176  ...        jpg\n",
              "30  660060193333346304  ...        jpg\n",
              "31  659743087466332160  ...        png\n",
              "32  659705393411391488  ...        png\n",
              "33  659660051218317312  ...        jpg\n",
              "34  659539266591981568  ...        jpg\n",
              "35  659509078641557504  ...        png\n",
              "36  659342999892967424  ...        jpg\n",
              "37  659108907014356992  ...        jpg\n",
              "38  658867320238850049  ...        jpg\n",
              "39  658844675622453248  ...        jpg\n",
              "40  658814510935769088  ...        jpg\n",
              "41  658338845753999360  ...        png\n",
              "42  658225598089609217  ...        jpg\n",
              "43  658210575863742464  ...        jpg\n",
              "44  658165190497583104  ...        gif\n",
              "45  657946256220536832  ...        jpg\n",
              "46  657931173576704000  ...        jpg\n",
              "47  657312093673078784  ...        png\n",
              "48  656677912834195456  ...        jpg\n",
              "49  656647679801212928  ...        jpg\n",
              "\n",
              "[50 rows x 5 columns]"
            ]
          },
          "metadata": {},
          "execution_count": 19
        }
      ],
      "source": [
        "#Putting a max in case the blog has millions of images\n",
        "#The given max will be rounded up to the nearest multiple of 50\n",
        "def tumblrImageScrape(blogName, maxImages = 200):\n",
        "    #Restating this here so the function isn't dependent on any external variables\n",
        "    tumblrAPItarget = 'http://{}.tumblr.com/api/read/json'\n",
        "\n",
        "    #There are a bunch of possible locations for the photo url\n",
        "    possiblePhotoSuffixes = [1280, 500, 400, 250, 100]\n",
        "\n",
        "    #These are the pieces of information we will be gathering,\n",
        "    #at the end we will convert this to a DataFrame.\n",
        "    #There are a few other datums we could gather like the captions\n",
        "    #you can read the Tumblr documentation to learn how to get them\n",
        "    #https://www.tumblr.com/docs/en/api/v1\n",
        "    postsData = {\n",
        "        'id' : [],\n",
        "        'photo-url' : [],\n",
        "        'date' : [],\n",
        "        'tags' : [],\n",
        "        'photo-type' : []\n",
        "    }\n",
        "\n",
        "    #Tumblr limits us to a max of 50 posts per request\n",
        "    for requestNum in range(maxImages // 50):\n",
        "        requestParams = {\n",
        "            'start' : requestNum * 50,\n",
        "            'num' : 50,\n",
        "            'type' : 'photo'\n",
        "        }\n",
        "        r = requests.get(tumblrAPItarget.format(blogName), params = requestParams)\n",
        "        requestDict = json.loads(r.text[len('var tumblr_api_read = '):-2])\n",
        "        for postDict in requestDict['posts']:\n",
        "            #We are dealing with uncleaned data, we can't trust it.\n",
        "            #Specifically, not all posts are guaranteed to have the fields we want\n",
        "            try:\n",
        "                postsData['id'].append(postDict['id'])\n",
        "                postsData['date'].append(postDict['date'])\n",
        "                postsData['tags'].append(postDict['tags'])\n",
        "            except KeyError as e:\n",
        "                raise KeyError(\"Post {} from {} is missing: {}\".format(postDict['id'], blogName, e))\n",
        "\n",
        "            foundSuffix = False\n",
        "            for suffix in possiblePhotoSuffixes:\n",
        "                try:\n",
        "                    photoURL = postDict['photo-url-{}'.format(suffix)]\n",
        "                    postsData['photo-url'].append(photoURL)\n",
        "                    postsData['photo-type'].append(photoURL.split('.')[-1])\n",
        "                    foundSuffix = True\n",
        "                    break\n",
        "                except KeyError:\n",
        "                    pass\n",
        "            if not foundSuffix:\n",
        "                #Make sure your error messages are useful\n",
        "                #You will be one of the users\n",
        "                raise KeyError(\"Post {} from {} is missing a photo url\".format(postDict['id'], blogName))\n",
        "\n",
        "    return pandas.DataFrame(postsData)\n",
        "tumblrImageScrape('lolcats-lol-cat', 50)"
      ]
    },
    {
      "cell_type": "markdown",
      "source": [
        "Now we have the urls of a bunch of images and can run OCR on them to gather\n",
        "compelling meme narratives, accompanied by cats."
      ],
      "metadata": {
        "id": "ChAz_8gL1_On"
      }
    },
    {
      "cell_type": "markdown",
      "metadata": {
        "id": "8jW4D33OOmbB"
      },
      "source": [
        "\n",
        "# Spidering\n",
        "\n",
        "What if we want to to get a bunch of different pages from wikipedia. We would\n",
        "need to get the url for each of the pages we want. Typically, we want pages that\n",
        "are linked to by other pages and so we will need to parse pages and identify the\n",
        "links. Right now we will be retrieving all links in the body of the content\n",
        "analysis page.\n",
        "\n",
        "To do this we will need to find all the `<a>` (anchor) tags with `href`s\n",
        "(hyperlink references) inside of `<p>` tags. `href` can have many\n",
        "[different](http://stackoverflow.com/questions/4855168/what-is-href-and-why-is-\n",
        "it-used) [forms](https://en.wikipedia.org/wiki/Hyperlink#Hyperlinks_in_HTML) so\n",
        "dealing with them can be tricky, but generally, you will want to extract\n",
        "absolute or relative links. An absolute link is one you can follow without\n",
        "modification, while a relative link requires a base url that you will then\n",
        "append. Wikipedia uses relative urls for its internal links: below is an example\n",
        "for dealing with them."
      ]
    },
    {
      "cell_type": "code",
      "execution_count": 20,
      "metadata": {
        "id": "qdkr4sdqOmbB",
        "outputId": "874b9c18-84b8-42a8-f7c4-779c243784e1",
        "colab": {
          "base_uri": "https://localhost:8080/"
        }
      },
      "outputs": [
        {
          "output_type": "stream",
          "name": "stdout",
          "text": [
            "[('https://en.wikipedia.org/wiki/Document', 4, 'documents'), ('https://en.wikipedia.org/wiki/Text_(literary_theory)', 5, 'texts'), ('https://en.wikipedia.org/wiki/Coding_(social_sciences)', 5, 'assigned labels (sometimes called codes)'), ('https://en.wikipedia.org/wiki/Semantics', 5, 'meaningful'), ('https://en.wikipedia.org/wiki/Text_(literary_theory)', 5, 'texts'), ('https://en.wikipedia.org/wiki/Quantitative_research', 5, 'quantitatively'), ('https://en.wikipedia.org/wiki/Statistics', 5, 'statistical methods'), ('https://en.wikipedia.org/wiki/Qualitative_research', 5, 'qualitative'), ('https://en.wikipedia.org/wiki/Text_(literary_theory)', 5, 'texts'), ('https://en.wikipedia.org/wiki/Machine_learning', 6, 'Machine learning')]\n"
          ]
        }
      ],
      "source": [
        "#wikipedia_base_url = 'https://en.wikipedia.org'\n",
        "\n",
        "otherPAgeURLS = []\n",
        "#We also want to know where the links come from so we also will get:\n",
        "#the paragraph number\n",
        "#the word the link is in\n",
        "for paragraphNum, pTag in enumerate(contentPTags):\n",
        "    #we only want hrefs that link to wiki pages\n",
        "    tagLinks = pTag.findAll('a', href=re.compile('/wiki/'), class_=False)\n",
        "    for aTag in tagLinks:\n",
        "        #We need to extract the url from the <a> tag\n",
        "        relurl = aTag.get('href')\n",
        "        linkText = aTag.text\n",
        "        #wikipedia_base_url is the base we can use the urllib joining function to merge them\n",
        "        #Giving a nice structured tupe like this means we can use tuple expansion later\n",
        "        otherPAgeURLS.append((\n",
        "            urllib.parse.urljoin(wikipedia_base_url, relurl),\n",
        "            paragraphNum,\n",
        "            linkText,\n",
        "        ))\n",
        "print(otherPAgeURLS[:10])"
      ]
    },
    {
      "cell_type": "code",
      "execution_count": 21,
      "metadata": {
        "id": "VXTYESNnOmbC",
        "outputId": "d4e7890b-c3d5-4bec-c454-e8f2b2b17ba7",
        "colab": {
          "base_uri": "https://localhost:8080/"
        }
      },
      "outputs": [
        {
          "output_type": "stream",
          "name": "stdout",
          "text": [
            "[<p><b>South Asia </b>\n",
            "</p>, <p><b>Middle East</b>\n",
            "</p>, <p><b>Europe</b>\n",
            "</p>, <p><b>North America</b>\n",
            "</p>, <p><b>Content analysis</b> is the study of <a href=\"/wiki/Document\" title=\"Document\">documents</a> and communication artifacts, which might be texts of various formats, pictures, audio or video. Social scientists use content analysis to examine patterns in communication in a replicable and systematic manner.<sup class=\"reference\" id=\"cite_ref-1\"><a href=\"#cite_note-1\">[1]</a></sup> One of the key advantages of using content analysis to analyse social phenomena is its non-invasive nature, in contrast to simulating social experiences or collecting survey answers.\n",
            "</p>, <p>Practices and philosophies of content analysis vary between academic disciplines. They all involve systematic reading or observation of <a href=\"/wiki/Text_(literary_theory)\" title=\"Text (literary theory)\">texts</a> or artifacts which are <a href=\"/wiki/Coding_(social_sciences)\" title=\"Coding (social sciences)\">assigned labels (sometimes called codes)</a> to indicate the presence of interesting, <a href=\"/wiki/Semantics\" title=\"Semantics\">meaningful</a> pieces of content.<sup class=\"reference\" id=\"cite_ref-2\"><a href=\"#cite_note-2\">[2]</a></sup><sup class=\"reference\" id=\"cite_ref-Tipaldo_2014_42_3-0\"><a href=\"#cite_note-Tipaldo_2014_42-3\">[3]</a></sup> By systematically labeling the content of a set of <a href=\"/wiki/Text_(literary_theory)\" title=\"Text (literary theory)\">texts</a>, researchers can analyse patterns of content <a href=\"/wiki/Quantitative_research\" title=\"Quantitative research\">quantitatively</a> using <a href=\"/wiki/Statistics\" title=\"Statistics\">statistical methods</a>, or use <a href=\"/wiki/Qualitative_research\" title=\"Qualitative research\">qualitative</a> methods to analyse meanings of content within <a href=\"/wiki/Text_(literary_theory)\" title=\"Text (literary theory)\">texts</a>.\n",
            "</p>, <p>Computers are increasingly used in content analysis to automate the labeling (or coding) of documents. Simple computational techniques can provide descriptive data such as word frequencies and document lengths. <a href=\"/wiki/Machine_learning\" title=\"Machine learning\">Machine learning</a> classifiers can greatly increase the number of texts that can be labeled, but the scientific utility of doing so is a matter of debate. Further, numerous computer-aided text analysis (CATA) computer programs are available that analyze text for pre-determined linguistic, semantic, and psychological characteristics.<sup class=\"reference\" id=\"cite_ref-Neuendorf2016_4-0\"><a href=\"#cite_note-Neuendorf2016-4\">[4]</a></sup>\n",
            "</p>, <p>Content analysis is best understood as a broad family of techniques. Effective researchers choose techniques that best help them answer their substantive questions. That said, according to <a href=\"/wiki/Klaus_Krippendorff\" title=\"Klaus Krippendorff\">Klaus Krippendorff</a>, six questions must be addressed in every content analysis:<sup class=\"reference\" id=\"cite_ref-Krippendorff2004_5-0\"><a href=\"#cite_note-Krippendorff2004-5\">[5]</a></sup>\n",
            "</p>, <p>The simplest and most objective form of content analysis considers unambiguous characteristics of the text such as <a class=\"mw-redirect\" href=\"/wiki/Word_frequencies\" title=\"Word frequencies\">word frequencies</a>, the page area taken by a newspaper column, or the duration of a <a href=\"/wiki/Radio\" title=\"Radio\">radio</a> or <a href=\"/wiki/Television\" title=\"Television\">television</a> program. Analysis of simple word frequencies is limited because the meaning of a word depends on surrounding text.  <a href=\"/wiki/Key_Word_in_Context\" title=\"Key Word in Context\">Key Word In Context</a> (KWIC) routines address this by placing words in their textual context. This helps resolve ambiguities such as those introduced by <a href=\"/wiki/Synonym\" title=\"Synonym\">synonyms</a> and <a href=\"/wiki/Homonym\" title=\"Homonym\">homonyms</a>.\n",
            "</p>, <p>A further step in analysis is the distinction between dictionary-based (quantitative) approaches and qualitative approaches. Dictionary-based approaches set up a list of categories derived from the frequency list of words and control the distribution of words and their respective categories over the texts. While methods in quantitative content analysis in this way transform observations of found categories into quantitative statistical data, the qualitative content analysis focuses more on the intentionality and its implications. There are strong parallels between qualitative content analysis and <a href=\"/wiki/Thematic_analysis\" title=\"Thematic analysis\">thematic analysis</a>.<sup class=\"reference\" id=\"cite_ref-6\"><a href=\"#cite_note-6\">[6]</a></sup>\n",
            "</p>, <p>Quantitative content analysis highlights frequency counts and objective analysis of these coded frequencies.<sup class=\"reference\" id=\"cite_ref-:03_7-0\"><a href=\"#cite_note-:03-7\">[7]</a></sup> Additionally, quantitative content analysis begins with a framed hypothesis with coding decided on before the analysis begins. These coding categories are strictly relevant to the researcher's hypothesis. Quantitative analysis also takes a deductive approach.<sup class=\"reference\" id=\"cite_ref-:12_8-0\"><a href=\"#cite_note-:12-8\">[8]</a></sup>\n",
            "</p>, <p><a href=\"/wiki/Siegfried_Kracauer\" title=\"Siegfried Kracauer\">Siegfried Kracauer</a> provides a critique of quantitative analysis, asserting that it oversimplifies complex communications in order to be more reliable. On the other hand, qualitative analysis deals with the intricacies of latent interpretations, whereas quantitative has a focus on manifest meanings. He also acknowledges an \"overlap\" of qualitative and quantitative content analysis.<sup class=\"reference\" id=\"cite_ref-:03_7-1\"><a href=\"#cite_note-:03-7\">[7]</a></sup> Patterns are looked at more closely in qualitative analysis, and based on the latent meanings that the researcher may find, the course of the research could be changed. It is inductive and begins with open research questions, as opposed to a hypothesis.<sup class=\"reference\" id=\"cite_ref-:12_8-1\"><a href=\"#cite_note-:12-8\">[8]</a></sup>\n",
            "</p>, <p>With the rise of common computing facilities like PCs, computer-based methods of analysis are growing in popularity.<sup class=\"reference\" id=\"cite_ref-9\"><a href=\"#cite_note-9\">[9]</a></sup><sup class=\"reference\" id=\"cite_ref-10\"><a href=\"#cite_note-10\">[10]</a></sup><sup class=\"reference\" id=\"cite_ref-11\"><a href=\"#cite_note-11\">[11]</a></sup> Answers to open ended questions, newspaper articles, political party manifestos, medical records or systematic observations in experiments can all be subject to systematic analysis of textual data.\n",
            "</p>, <p>By having contents of communication available in form of machine readable texts, the input is analyzed for frequencies and coded into categories for building up inferences.\n",
            "</p>, <p>Computer-assisted analysis can help with large, electronic data sets by cutting out time and eliminating the need for multiple human coders to establish inter-coder reliability. However, human coders can still be employed for content analysis, as they are often more able to pick out nuanced and latent meanings in text. A study  found that human coders were able to evaluate a broader range and make inferences based on latent meanings.<sup class=\"reference\" id=\"cite_ref-12\"><a href=\"#cite_note-12\">[12]</a></sup>\n",
            "</p>, <p>Robert Weber notes: \"To make valid inferences from the text, it is important that the classification procedure be reliable in the sense of being consistent: Different people should code the same text in the same way\".<sup class=\"reference\" id=\"cite_ref-13\"><a href=\"#cite_note-13\">[13]</a></sup> The validity, inter-coder reliability and intra-coder reliability are subject to intense methodological research efforts over long years.<sup class=\"reference\" id=\"cite_ref-Krippendorff2004_5-1\"><a href=\"#cite_note-Krippendorff2004-5\">[5]</a></sup>\n",
            "Neuendorf suggests that when human coders are used in content analysis at least two independent coders should be used. Reliability of human coding is often measured using a statistical measure of <i>inter-coder reliability</i> or \"the amount of agreement or correspondence among two or more coders\".<sup class=\"reference\" id=\"cite_ref-Neuendorf2016_4-1\"><a href=\"#cite_note-Neuendorf2016-4\">[4]</a></sup> Lacy and Riffe identify the measurement of inter-coder reliability as a strength of quantitative content analysis, arguing that, if content analysts do not measure inter-coder reliability, their data are no more reliable than the subjective impressions of a single reader.<sup class=\"reference\" id=\"cite_ref-14\"><a href=\"#cite_note-14\">[14]</a></sup>\n",
            "</p>, <p>There are five types of texts in content analysis:\n",
            "</p>, <p>Content analysis is research using the categorization and classification of speech, written text, interviews, images, or other forms of communication.  In its beginnings, using the first newspapers at the end of the 19th century, analysis was done manually by measuring the number of columns given a subject. The approach can also be traced back to a university student studying patterns in Shakespeare's literature in 1893.<sup class=\"reference\" id=\"cite_ref-15\"><a href=\"#cite_note-15\">[15]</a></sup>\n",
            "</p>, <p>Over the years, content analysis has been applied to a variety of scopes. <a href=\"/wiki/Hermeneutics\" title=\"Hermeneutics\">Hermeneutics</a> and <a href=\"/wiki/Philology\" title=\"Philology\">philology</a> have long used content analysis to interpret sacred and profane texts and, in many cases, to attribute texts' <a class=\"mw-redirect\" href=\"/wiki/Authorship\" title=\"Authorship\">authorship</a> and <a href=\"/wiki/Authentication\" title=\"Authentication\">authenticity</a>.<sup class=\"reference\" id=\"cite_ref-Tipaldo_2014_42_3-1\"><a href=\"#cite_note-Tipaldo_2014_42-3\">[3]</a></sup><sup class=\"reference\" id=\"cite_ref-Krippendorff2004_5-2\"><a href=\"#cite_note-Krippendorff2004-5\">[5]</a></sup>\n",
            "</p>, <p>In recent times, particularly with the advent of <a href=\"/wiki/Mass_communication\" title=\"Mass communication\">mass communication</a>, content analysis has known an increasing use to deeply analyze and understand media content and <a class=\"new\" href=\"/w/index.php?title=Media_logic&amp;action=edit&amp;redlink=1\" title=\"Media logic (page does not exist)\">media logic</a>. \n",
            "The political scientist <a href=\"/wiki/Harold_Lasswell\" title=\"Harold Lasswell\">Harold Lasswell</a> formulated the core questions of content analysis in its early-mid 20th-century mainstream version: \"Who says what, to whom, why, to what extent and with what effect?\".<sup class=\"reference\" id=\"cite_ref-16\"><a href=\"#cite_note-16\">[16]</a></sup> The strong emphasis for a quantitative approach started up by Lasswell was finally carried out by another \"father\" of content analysis, <a href=\"/wiki/Bernard_Berelson\" title=\"Bernard Berelson\">Bernard Berelson</a>, who proposed a definition of content analysis which, from this point of view, is emblematic: \"a research technique for the objective, systematic and quantitative description of the manifest content of communication\".<sup class=\"reference\" id=\"cite_ref-Berelson1952_17-0\"><a href=\"#cite_note-Berelson1952-17\">[17]</a></sup>\n",
            "</p>, <p>Quantitative content analysis has enjoyed a renewed popularity in recent years thanks to technological advances and fruitful application in of mass communication and personal communication research. Content analysis of textual <a href=\"/wiki/Big_data\" title=\"Big data\">big data</a> produced by <a href=\"/wiki/New_media\" title=\"New media\">new media</a>, particularly <a href=\"/wiki/Social_media\" title=\"Social media\">social media</a> and <a class=\"mw-redirect\" href=\"/wiki/Mobile_devices\" title=\"Mobile devices\">mobile devices</a> has become popular. These approaches take a simplified view of language that ignores the complexity of semiosis, the process by which meaning is formed out of language. Quantitative content analysts have been criticized for limiting the scope of content analysis to simple counting, and for applying the measurement methodologies of the natural sciences without reflecting critically on their appropriateness to social science.<sup class=\"reference\" id=\"cite_ref-:0_18-0\"><a href=\"#cite_note-:0-18\">[18]</a></sup> Conversely, qualitative content analysts have been criticized for being insufficiently systematic and too impressionistic.<sup class=\"reference\" id=\"cite_ref-:0_18-1\"><a href=\"#cite_note-:0-18\">[18]</a></sup> Krippendorff argues that quantitative and qualitative approaches to content analysis tend to overlap, and that there can be no generalisable conclusion as to which approach is superior.<sup class=\"reference\" id=\"cite_ref-:0_18-2\"><a href=\"#cite_note-:0-18\">[18]</a></sup>\n",
            "</p>, <p>Content analysis can also be described as studying <a href=\"/wiki/Trace_evidence\" title=\"Trace evidence\">traces</a>, which are documents from past times, and artifacts, which are non-linguistic documents. Texts are understood to be produced by communication processes in a broad sense of that phrase—often gaining mean through <a href=\"/wiki/Abductive_reasoning\" title=\"Abductive reasoning\">abduction</a>.<sup class=\"reference\" id=\"cite_ref-Tipaldo_2014_42_3-2\"><a href=\"#cite_note-Tipaldo_2014_42-3\">[3]</a></sup><sup class=\"reference\" id=\"cite_ref-19\"><a href=\"#cite_note-19\">[19]</a></sup>\n",
            "</p>, <p>Manifest content is readily understandable at its face value. Its meaning is direct. Latent content is not as overt, and requires interpretation to uncover the meaning or implication.<sup class=\"reference\" id=\"cite_ref-20\"><a href=\"#cite_note-20\">[20]</a></sup>\n",
            "</p>, <p>Holsti groups fifteen uses of content analysis into three basic <a class=\"mw-redirect\" href=\"/wiki/Categorisation\" title=\"Categorisation\">categories</a>:<sup class=\"reference\" id=\"cite_ref-Holsti1969_21-0\"><a href=\"#cite_note-Holsti1969-21\">[21]</a></sup>\n",
            "</p>, <p>He also places these uses into the context of the basic communication <a href=\"/wiki/Paradigm\" title=\"Paradigm\">paradigm</a>.\n",
            "</p>, <p>The following table shows fifteen uses of content analysis in terms of their general purpose, element of the communication paradigm to which they apply, and the general question they are intended to answer.\n",
            "</p>, <p>As a counterpoint, there are limits to the scope of use for the procedures that characterize content analysis. In particular, if access to the goal of analysis can be obtained by direct means without material interference, then direct measurement techniques yield better data.<sup class=\"reference\" id=\"cite_ref-23\"><a href=\"#cite_note-23\">[23]</a></sup> Thus, while content analysis attempts to quantifiably describe <em>communications</em> whose features are primarily categorical——limited usually to a nominal or ordinal scale——via selected conceptual units (the <em>unitization</em>) which are assigned values (the <em>categorization</em>) for <em>enumeration</em> while monitoring <em>intercoder reliability</em>, if instead the target quantity manifestly is already directly measurable——typically on an interval or ratio scale——especially a continuous physical quantity, then such targets usually are not listed among those needing the \"subjective\" selections and formulations of content analysis.<sup class=\"reference\" id=\"cite_ref-24\"><a href=\"#cite_note-24\">[24]</a></sup><sup class=\"reference\" id=\"cite_ref-25\"><a href=\"#cite_note-25\">[25]</a></sup><sup class=\"reference\" id=\"cite_ref-26\"><a href=\"#cite_note-26\">[26]</a></sup><sup class=\"reference\" id=\"cite_ref-27\"><a href=\"#cite_note-27\">[27]</a></sup><sup class=\"reference\" id=\"cite_ref-28\"><a href=\"#cite_note-28\">[28]</a></sup><sup class=\"reference\" id=\"cite_ref-29\"><a href=\"#cite_note-29\">[29]</a></sup><sup class=\"reference\" id=\"cite_ref-30\"><a href=\"#cite_note-30\">[30]</a></sup><sup class=\"reference\" id=\"cite_ref-31\"><a href=\"#cite_note-31\">[31]</a></sup> For example (from mixed research and clinical application), as medical images <em>communicate</em> diagnostic features to physicians, <a href=\"/wiki/Neuroimaging\" title=\"Neuroimaging\">neuroimaging</a>'s <a href=\"/wiki/Stroke\" title=\"Stroke\">stroke</a> (infarct) volume scale called ASPECTS is <em>unitized</em> as 10 qualitatively delineated (unequal) brain regions in the <a href=\"/wiki/Middle_cerebral_artery\" title=\"Middle cerebral artery\">middle cerebral artery</a> territory, which it <em>categorizes</em> as being at least partly versus not at all infarcted in order to <em>enumerate</em> the latter, with published series often assessing <em>intercoder reliability</em> by <a href=\"/wiki/Cohen%27s_kappa\" title=\"Cohen's kappa\">Cohen's kappa</a>. The foregoing <em>italicized operations</em> impose the uncredited <em>form</em> of content analysis onto an estimation of infarct extent, which instead is easily enough and more accurately measured as a volume directly on the images.<sup class=\"reference\" id=\"cite_ref-32\"><a href=\"#cite_note-32\">[32]</a></sup><sup class=\"reference\" id=\"cite_ref-33\"><a href=\"#cite_note-33\">[33]</a></sup> (\"Accuracy ... is the highest form of reliability.\"<sup class=\"reference\" id=\"cite_ref-34\"><a href=\"#cite_note-34\">[34]</a></sup>) The concomitant clinical assessment, however, by the <a href=\"/wiki/National_Institutes_of_Health_Stroke_Scale\" title=\"National Institutes of Health Stroke Scale\">National Institutes of Health Stroke Scale</a> (NIHSS) or the <a href=\"/wiki/Modified_Rankin_Scale\" title=\"Modified Rankin Scale\">modified Rankin Scale</a> (mRS), retains the necessary form of content analysis. Recognizing potential limits of content analysis across the contents of language and images alike, <a href=\"/wiki/Klaus_Krippendorff\" title=\"Klaus Krippendorff\">Klaus Krippendorff</a> affirms that \"comprehen[sion] ... may ... not conform at all to the process of classification and/or counting by which most content analyses proceed,\"<sup class=\"reference\" id=\"cite_ref-35\"><a href=\"#cite_note-35\">[35]</a></sup> suggesting that content analysis might materially distort a message.\n",
            "</p>, <p>The process of the initial coding scheme or approach to coding is contingent on the particular content analysis approach selected. Through a directed content analysis, the scholars draft a preliminary coding scheme from pre-existing theory or assumptions. While with the conventional content analysis approach, the initial coding scheme developed from the data.\n",
            "</p>, <p>With either approach above, immersing oneself into the data to obtain an overall picture is recommendable for researchers to conduct. Furthermore, identifying a consistent and clear unit of coding is vital, and researchers' choices range from a single word to several paragraphs, from texts to iconic symbols. Last, constructing the relationships between codes by sorting out them within specific categories or themes.<sup class=\"reference\" id=\"cite_ref-36\"><a href=\"#cite_note-36\">[36]</a></sup>\n",
            "</p>, <p><br/>\n",
            "</p>]\n"
          ]
        }
      ],
      "source": [
        "print(contentPTags)"
      ]
    },
    {
      "cell_type": "markdown",
      "metadata": {
        "id": "-q30EjBVOmbC"
      },
      "source": [
        "Another excursion: Why do we use enumerate() here? enumerate() takes a collection, enumerates, and returns an enumate object with both the numbers and the collection. For example, contentPTags (the collection we used here) is comprised of paragraphs. We want the paragraph number of each paragraph. And this is what enumerate() does: it returns the paragraph number and the paragraph. "
      ]
    },
    {
      "cell_type": "markdown",
      "metadata": {
        "id": "kq15Be4lOmbC"
      },
      "source": [
        "We will be adding these new texts to our DataFrame `contentParagraphsDF` so we\n",
        "will need to add 2 more columns to keep track of paragraph numbers and sources."
      ]
    },
    {
      "cell_type": "code",
      "execution_count": 22,
      "metadata": {
        "id": "bTC9HDnnOmbC",
        "outputId": "405c57e3-d5d6-486f-fd34-7e384f041f53",
        "colab": {
          "base_uri": "https://localhost:8080/",
          "height": 0
        }
      },
      "outputs": [
        {
          "output_type": "execute_result",
          "data": {
            "text/html": [
              "\n",
              "  <div id=\"df-7e09a0fd-53fc-4e73-8962-f933e55a448b\">\n",
              "    <div class=\"colab-df-container\">\n",
              "      <div>\n",
              "<style scoped>\n",
              "    .dataframe tbody tr th:only-of-type {\n",
              "        vertical-align: middle;\n",
              "    }\n",
              "\n",
              "    .dataframe tbody tr th {\n",
              "        vertical-align: top;\n",
              "    }\n",
              "\n",
              "    .dataframe thead th {\n",
              "        text-align: right;\n",
              "    }\n",
              "</style>\n",
              "<table border=\"1\" class=\"dataframe\">\n",
              "  <thead>\n",
              "    <tr style=\"text-align: right;\">\n",
              "      <th></th>\n",
              "      <th>paragraph-text</th>\n",
              "      <th>source</th>\n",
              "      <th>paragraph-number</th>\n",
              "    </tr>\n",
              "  </thead>\n",
              "  <tbody>\n",
              "    <tr>\n",
              "      <th>0</th>\n",
              "      <td>South Asia \\n</td>\n",
              "      <td>https://en.wikipedia.org/wiki/Content_analysis</td>\n",
              "      <td>0</td>\n",
              "    </tr>\n",
              "    <tr>\n",
              "      <th>1</th>\n",
              "      <td>Middle East\\n</td>\n",
              "      <td>https://en.wikipedia.org/wiki/Content_analysis</td>\n",
              "      <td>1</td>\n",
              "    </tr>\n",
              "    <tr>\n",
              "      <th>2</th>\n",
              "      <td>Europe\\n</td>\n",
              "      <td>https://en.wikipedia.org/wiki/Content_analysis</td>\n",
              "      <td>2</td>\n",
              "    </tr>\n",
              "    <tr>\n",
              "      <th>3</th>\n",
              "      <td>North America\\n</td>\n",
              "      <td>https://en.wikipedia.org/wiki/Content_analysis</td>\n",
              "      <td>3</td>\n",
              "    </tr>\n",
              "    <tr>\n",
              "      <th>4</th>\n",
              "      <td>Content analysis is the study of documents and...</td>\n",
              "      <td>https://en.wikipedia.org/wiki/Content_analysis</td>\n",
              "      <td>4</td>\n",
              "    </tr>\n",
              "    <tr>\n",
              "      <th>5</th>\n",
              "      <td>Practices and philosophies of content analysis...</td>\n",
              "      <td>https://en.wikipedia.org/wiki/Content_analysis</td>\n",
              "      <td>5</td>\n",
              "    </tr>\n",
              "    <tr>\n",
              "      <th>6</th>\n",
              "      <td>Computers are increasingly used in content ana...</td>\n",
              "      <td>https://en.wikipedia.org/wiki/Content_analysis</td>\n",
              "      <td>6</td>\n",
              "    </tr>\n",
              "    <tr>\n",
              "      <th>7</th>\n",
              "      <td>Content analysis is best understood as a broad...</td>\n",
              "      <td>https://en.wikipedia.org/wiki/Content_analysis</td>\n",
              "      <td>7</td>\n",
              "    </tr>\n",
              "    <tr>\n",
              "      <th>8</th>\n",
              "      <td>The simplest and most objective form of conten...</td>\n",
              "      <td>https://en.wikipedia.org/wiki/Content_analysis</td>\n",
              "      <td>8</td>\n",
              "    </tr>\n",
              "    <tr>\n",
              "      <th>9</th>\n",
              "      <td>A further step in analysis is the distinction ...</td>\n",
              "      <td>https://en.wikipedia.org/wiki/Content_analysis</td>\n",
              "      <td>9</td>\n",
              "    </tr>\n",
              "    <tr>\n",
              "      <th>10</th>\n",
              "      <td>Quantitative content analysis highlights frequ...</td>\n",
              "      <td>https://en.wikipedia.org/wiki/Content_analysis</td>\n",
              "      <td>10</td>\n",
              "    </tr>\n",
              "    <tr>\n",
              "      <th>11</th>\n",
              "      <td>Siegfried Kracauer provides a critique of quan...</td>\n",
              "      <td>https://en.wikipedia.org/wiki/Content_analysis</td>\n",
              "      <td>11</td>\n",
              "    </tr>\n",
              "    <tr>\n",
              "      <th>12</th>\n",
              "      <td>With the rise of common computing facilities l...</td>\n",
              "      <td>https://en.wikipedia.org/wiki/Content_analysis</td>\n",
              "      <td>12</td>\n",
              "    </tr>\n",
              "    <tr>\n",
              "      <th>13</th>\n",
              "      <td>By having contents of communication available ...</td>\n",
              "      <td>https://en.wikipedia.org/wiki/Content_analysis</td>\n",
              "      <td>13</td>\n",
              "    </tr>\n",
              "    <tr>\n",
              "      <th>14</th>\n",
              "      <td>Computer-assisted analysis can help with large...</td>\n",
              "      <td>https://en.wikipedia.org/wiki/Content_analysis</td>\n",
              "      <td>14</td>\n",
              "    </tr>\n",
              "    <tr>\n",
              "      <th>15</th>\n",
              "      <td>Robert Weber notes: \"To make valid inferences ...</td>\n",
              "      <td>https://en.wikipedia.org/wiki/Content_analysis</td>\n",
              "      <td>15</td>\n",
              "    </tr>\n",
              "    <tr>\n",
              "      <th>16</th>\n",
              "      <td>There are five types of texts in content analy...</td>\n",
              "      <td>https://en.wikipedia.org/wiki/Content_analysis</td>\n",
              "      <td>16</td>\n",
              "    </tr>\n",
              "    <tr>\n",
              "      <th>17</th>\n",
              "      <td>Content analysis is research using the categor...</td>\n",
              "      <td>https://en.wikipedia.org/wiki/Content_analysis</td>\n",
              "      <td>17</td>\n",
              "    </tr>\n",
              "    <tr>\n",
              "      <th>18</th>\n",
              "      <td>Over the years, content analysis has been appl...</td>\n",
              "      <td>https://en.wikipedia.org/wiki/Content_analysis</td>\n",
              "      <td>18</td>\n",
              "    </tr>\n",
              "    <tr>\n",
              "      <th>19</th>\n",
              "      <td>In recent times, particularly with the advent ...</td>\n",
              "      <td>https://en.wikipedia.org/wiki/Content_analysis</td>\n",
              "      <td>19</td>\n",
              "    </tr>\n",
              "    <tr>\n",
              "      <th>20</th>\n",
              "      <td>Quantitative content analysis has enjoyed a re...</td>\n",
              "      <td>https://en.wikipedia.org/wiki/Content_analysis</td>\n",
              "      <td>20</td>\n",
              "    </tr>\n",
              "    <tr>\n",
              "      <th>21</th>\n",
              "      <td>Content analysis can also be described as stud...</td>\n",
              "      <td>https://en.wikipedia.org/wiki/Content_analysis</td>\n",
              "      <td>21</td>\n",
              "    </tr>\n",
              "    <tr>\n",
              "      <th>22</th>\n",
              "      <td>Manifest content is readily understandable at ...</td>\n",
              "      <td>https://en.wikipedia.org/wiki/Content_analysis</td>\n",
              "      <td>22</td>\n",
              "    </tr>\n",
              "    <tr>\n",
              "      <th>23</th>\n",
              "      <td>Holsti groups fifteen uses of content analysis...</td>\n",
              "      <td>https://en.wikipedia.org/wiki/Content_analysis</td>\n",
              "      <td>23</td>\n",
              "    </tr>\n",
              "    <tr>\n",
              "      <th>24</th>\n",
              "      <td>He also places these uses into the context of ...</td>\n",
              "      <td>https://en.wikipedia.org/wiki/Content_analysis</td>\n",
              "      <td>24</td>\n",
              "    </tr>\n",
              "    <tr>\n",
              "      <th>25</th>\n",
              "      <td>The following table shows fifteen uses of cont...</td>\n",
              "      <td>https://en.wikipedia.org/wiki/Content_analysis</td>\n",
              "      <td>25</td>\n",
              "    </tr>\n",
              "    <tr>\n",
              "      <th>26</th>\n",
              "      <td>As a counterpoint, there are limits to the sco...</td>\n",
              "      <td>https://en.wikipedia.org/wiki/Content_analysis</td>\n",
              "      <td>26</td>\n",
              "    </tr>\n",
              "    <tr>\n",
              "      <th>27</th>\n",
              "      <td>The process of the initial coding scheme or ap...</td>\n",
              "      <td>https://en.wikipedia.org/wiki/Content_analysis</td>\n",
              "      <td>27</td>\n",
              "    </tr>\n",
              "    <tr>\n",
              "      <th>28</th>\n",
              "      <td>With either approach above, immersing oneself ...</td>\n",
              "      <td>https://en.wikipedia.org/wiki/Content_analysis</td>\n",
              "      <td>28</td>\n",
              "    </tr>\n",
              "    <tr>\n",
              "      <th>29</th>\n",
              "      <td>\\n</td>\n",
              "      <td>https://en.wikipedia.org/wiki/Content_analysis</td>\n",
              "      <td>29</td>\n",
              "    </tr>\n",
              "  </tbody>\n",
              "</table>\n",
              "</div>\n",
              "      <button class=\"colab-df-convert\" onclick=\"convertToInteractive('df-7e09a0fd-53fc-4e73-8962-f933e55a448b')\"\n",
              "              title=\"Convert this dataframe to an interactive table.\"\n",
              "              style=\"display:none;\">\n",
              "        \n",
              "  <svg xmlns=\"http://www.w3.org/2000/svg\" height=\"24px\"viewBox=\"0 0 24 24\"\n",
              "       width=\"24px\">\n",
              "    <path d=\"M0 0h24v24H0V0z\" fill=\"none\"/>\n",
              "    <path d=\"M18.56 5.44l.94 2.06.94-2.06 2.06-.94-2.06-.94-.94-2.06-.94 2.06-2.06.94zm-11 1L8.5 8.5l.94-2.06 2.06-.94-2.06-.94L8.5 2.5l-.94 2.06-2.06.94zm10 10l.94 2.06.94-2.06 2.06-.94-2.06-.94-.94-2.06-.94 2.06-2.06.94z\"/><path d=\"M17.41 7.96l-1.37-1.37c-.4-.4-.92-.59-1.43-.59-.52 0-1.04.2-1.43.59L10.3 9.45l-7.72 7.72c-.78.78-.78 2.05 0 2.83L4 21.41c.39.39.9.59 1.41.59.51 0 1.02-.2 1.41-.59l7.78-7.78 2.81-2.81c.8-.78.8-2.07 0-2.86zM5.41 20L4 18.59l7.72-7.72 1.47 1.35L5.41 20z\"/>\n",
              "  </svg>\n",
              "      </button>\n",
              "      \n",
              "  <style>\n",
              "    .colab-df-container {\n",
              "      display:flex;\n",
              "      flex-wrap:wrap;\n",
              "      gap: 12px;\n",
              "    }\n",
              "\n",
              "    .colab-df-convert {\n",
              "      background-color: #E8F0FE;\n",
              "      border: none;\n",
              "      border-radius: 50%;\n",
              "      cursor: pointer;\n",
              "      display: none;\n",
              "      fill: #1967D2;\n",
              "      height: 32px;\n",
              "      padding: 0 0 0 0;\n",
              "      width: 32px;\n",
              "    }\n",
              "\n",
              "    .colab-df-convert:hover {\n",
              "      background-color: #E2EBFA;\n",
              "      box-shadow: 0px 1px 2px rgba(60, 64, 67, 0.3), 0px 1px 3px 1px rgba(60, 64, 67, 0.15);\n",
              "      fill: #174EA6;\n",
              "    }\n",
              "\n",
              "    [theme=dark] .colab-df-convert {\n",
              "      background-color: #3B4455;\n",
              "      fill: #D2E3FC;\n",
              "    }\n",
              "\n",
              "    [theme=dark] .colab-df-convert:hover {\n",
              "      background-color: #434B5C;\n",
              "      box-shadow: 0px 1px 3px 1px rgba(0, 0, 0, 0.15);\n",
              "      filter: drop-shadow(0px 1px 2px rgba(0, 0, 0, 0.3));\n",
              "      fill: #FFFFFF;\n",
              "    }\n",
              "  </style>\n",
              "\n",
              "      <script>\n",
              "        const buttonEl =\n",
              "          document.querySelector('#df-7e09a0fd-53fc-4e73-8962-f933e55a448b button.colab-df-convert');\n",
              "        buttonEl.style.display =\n",
              "          google.colab.kernel.accessAllowed ? 'block' : 'none';\n",
              "\n",
              "        async function convertToInteractive(key) {\n",
              "          const element = document.querySelector('#df-7e09a0fd-53fc-4e73-8962-f933e55a448b');\n",
              "          const dataTable =\n",
              "            await google.colab.kernel.invokeFunction('convertToInteractive',\n",
              "                                                     [key], {});\n",
              "          if (!dataTable) return;\n",
              "\n",
              "          const docLinkHtml = 'Like what you see? Visit the ' +\n",
              "            '<a target=\"_blank\" href=https://colab.research.google.com/notebooks/data_table.ipynb>data table notebook</a>'\n",
              "            + ' to learn more about interactive tables.';\n",
              "          element.innerHTML = '';\n",
              "          dataTable['output_type'] = 'display_data';\n",
              "          await google.colab.output.renderOutput(dataTable, element);\n",
              "          const docLink = document.createElement('div');\n",
              "          docLink.innerHTML = docLinkHtml;\n",
              "          element.appendChild(docLink);\n",
              "        }\n",
              "      </script>\n",
              "    </div>\n",
              "  </div>\n",
              "  "
            ],
            "text/plain": [
              "                                       paragraph-text  ... paragraph-number\n",
              "0                                       South Asia \\n  ...                0\n",
              "1                                       Middle East\\n  ...                1\n",
              "2                                            Europe\\n  ...                2\n",
              "3                                     North America\\n  ...                3\n",
              "4   Content analysis is the study of documents and...  ...                4\n",
              "5   Practices and philosophies of content analysis...  ...                5\n",
              "6   Computers are increasingly used in content ana...  ...                6\n",
              "7   Content analysis is best understood as a broad...  ...                7\n",
              "8   The simplest and most objective form of conten...  ...                8\n",
              "9   A further step in analysis is the distinction ...  ...                9\n",
              "10  Quantitative content analysis highlights frequ...  ...               10\n",
              "11  Siegfried Kracauer provides a critique of quan...  ...               11\n",
              "12  With the rise of common computing facilities l...  ...               12\n",
              "13  By having contents of communication available ...  ...               13\n",
              "14  Computer-assisted analysis can help with large...  ...               14\n",
              "15  Robert Weber notes: \"To make valid inferences ...  ...               15\n",
              "16  There are five types of texts in content analy...  ...               16\n",
              "17  Content analysis is research using the categor...  ...               17\n",
              "18  Over the years, content analysis has been appl...  ...               18\n",
              "19  In recent times, particularly with the advent ...  ...               19\n",
              "20  Quantitative content analysis has enjoyed a re...  ...               20\n",
              "21  Content analysis can also be described as stud...  ...               21\n",
              "22  Manifest content is readily understandable at ...  ...               22\n",
              "23  Holsti groups fifteen uses of content analysis...  ...               23\n",
              "24  He also places these uses into the context of ...  ...               24\n",
              "25  The following table shows fifteen uses of cont...  ...               25\n",
              "26  As a counterpoint, there are limits to the sco...  ...               26\n",
              "27  The process of the initial coding scheme or ap...  ...               27\n",
              "28  With either approach above, immersing oneself ...  ...               28\n",
              "29                                                 \\n  ...               29\n",
              "\n",
              "[30 rows x 3 columns]"
            ]
          },
          "metadata": {},
          "execution_count": 22
        }
      ],
      "source": [
        "contentParagraphsDF['source'] = [wikipedia_content_analysis] * len(contentParagraphsDF['paragraph-text'])\n",
        "contentParagraphsDF['paragraph-number'] = range(len(contentParagraphsDF['paragraph-text']))\n",
        "\n",
        "contentParagraphsDF"
      ]
    },
    {
      "cell_type": "markdown",
      "metadata": {
        "id": "W4gwpoSiOmbC"
      },
      "source": [
        "Then we can add two more columns to our `Dataframe` and define a function to\n",
        "parse\n",
        "each linked page and add its text to our DataFrame."
      ]
    },
    {
      "cell_type": "code",
      "execution_count": 23,
      "metadata": {
        "id": "x4bPl7pHOmbD"
      },
      "outputs": [],
      "source": [
        "contentParagraphsDF['source-paragraph-number'] = [None] * len(contentParagraphsDF['paragraph-text'])\n",
        "contentParagraphsDF['source-paragraph-text'] = [None] * len(contentParagraphsDF['paragraph-text'])\n",
        "\n",
        "def getTextFromWikiPage(targetURL, sourceParNum, sourceText):\n",
        "    #Make a dict to store data before adding it to the DataFrame\n",
        "    parsDict = {'source' : [], 'paragraph-number' : [], 'paragraph-text' : [], 'source-paragraph-number' : [],  'source-paragraph-text' : []}\n",
        "    #Now we get the page\n",
        "    r = requests.get(targetURL)\n",
        "    soup = bs4.BeautifulSoup(r.text, 'html.parser')\n",
        "    #enumerating gives use the paragraph number\n",
        "    for parNum, pTag in enumerate(soup.body.findAll('p')):\n",
        "        #same regex as before\n",
        "        parsDict['paragraph-text'].append(re.sub(r'\\[\\d+\\]', '', pTag.text))\n",
        "        parsDict['paragraph-number'].append(parNum)\n",
        "        parsDict['source'].append(targetURL)\n",
        "        parsDict['source-paragraph-number'].append(sourceParNum)\n",
        "        parsDict['source-paragraph-text'].append(sourceText)\n",
        "    return pandas.DataFrame(parsDict)"
      ]
    },
    {
      "cell_type": "markdown",
      "metadata": {
        "id": "06YOrHrSOmbD"
      },
      "source": [
        "And run it on our list of link tags"
      ]
    },
    {
      "cell_type": "code",
      "execution_count": 24,
      "metadata": {
        "id": "R_H3t8gtOmbD",
        "outputId": "31de044b-31b5-4021-d7fa-566d64bf1987",
        "colab": {
          "base_uri": "https://localhost:8080/",
          "height": 0
        }
      },
      "outputs": [
        {
          "output_type": "execute_result",
          "data": {
            "text/html": [
              "\n",
              "  <div id=\"df-2b741ad0-0148-4bd0-abfd-701b008209ff\">\n",
              "    <div class=\"colab-df-container\">\n",
              "      <div>\n",
              "<style scoped>\n",
              "    .dataframe tbody tr th:only-of-type {\n",
              "        vertical-align: middle;\n",
              "    }\n",
              "\n",
              "    .dataframe tbody tr th {\n",
              "        vertical-align: top;\n",
              "    }\n",
              "\n",
              "    .dataframe thead th {\n",
              "        text-align: right;\n",
              "    }\n",
              "</style>\n",
              "<table border=\"1\" class=\"dataframe\">\n",
              "  <thead>\n",
              "    <tr style=\"text-align: right;\">\n",
              "      <th></th>\n",
              "      <th>paragraph-text</th>\n",
              "      <th>source</th>\n",
              "      <th>paragraph-number</th>\n",
              "      <th>source-paragraph-number</th>\n",
              "      <th>source-paragraph-text</th>\n",
              "    </tr>\n",
              "  </thead>\n",
              "  <tbody>\n",
              "    <tr>\n",
              "      <th>0</th>\n",
              "      <td>South Asia \\n</td>\n",
              "      <td>https://en.wikipedia.org/wiki/Content_analysis</td>\n",
              "      <td>0</td>\n",
              "      <td>None</td>\n",
              "      <td>None</td>\n",
              "    </tr>\n",
              "    <tr>\n",
              "      <th>1</th>\n",
              "      <td>Middle East\\n</td>\n",
              "      <td>https://en.wikipedia.org/wiki/Content_analysis</td>\n",
              "      <td>1</td>\n",
              "      <td>None</td>\n",
              "      <td>None</td>\n",
              "    </tr>\n",
              "    <tr>\n",
              "      <th>2</th>\n",
              "      <td>Europe\\n</td>\n",
              "      <td>https://en.wikipedia.org/wiki/Content_analysis</td>\n",
              "      <td>2</td>\n",
              "      <td>None</td>\n",
              "      <td>None</td>\n",
              "    </tr>\n",
              "    <tr>\n",
              "      <th>3</th>\n",
              "      <td>North America\\n</td>\n",
              "      <td>https://en.wikipedia.org/wiki/Content_analysis</td>\n",
              "      <td>3</td>\n",
              "      <td>None</td>\n",
              "      <td>None</td>\n",
              "    </tr>\n",
              "    <tr>\n",
              "      <th>4</th>\n",
              "      <td>Content analysis is the study of documents and...</td>\n",
              "      <td>https://en.wikipedia.org/wiki/Content_analysis</td>\n",
              "      <td>4</td>\n",
              "      <td>None</td>\n",
              "      <td>None</td>\n",
              "    </tr>\n",
              "    <tr>\n",
              "      <th>...</th>\n",
              "      <td>...</td>\n",
              "      <td>...</td>\n",
              "      <td>...</td>\n",
              "      <td>...</td>\n",
              "      <td>...</td>\n",
              "    </tr>\n",
              "    <tr>\n",
              "      <th>58</th>\n",
              "      <td>Much of qualitative coding can be attributed t...</td>\n",
              "      <td>https://en.wikipedia.org/wiki/Coding_(social_s...</td>\n",
              "      <td>8</td>\n",
              "      <td>5</td>\n",
              "      <td>assigned labels (sometimes called codes)</td>\n",
              "    </tr>\n",
              "    <tr>\n",
              "      <th>59</th>\n",
              "      <td>Coding is considered a process of discovery an...</td>\n",
              "      <td>https://en.wikipedia.org/wiki/Coding_(social_s...</td>\n",
              "      <td>9</td>\n",
              "      <td>5</td>\n",
              "      <td>assigned labels (sometimes called codes)</td>\n",
              "    </tr>\n",
              "    <tr>\n",
              "      <th>60</th>\n",
              "      <td>The process can be done manually, which can be...</td>\n",
              "      <td>https://en.wikipedia.org/wiki/Coding_(social_s...</td>\n",
              "      <td>10</td>\n",
              "      <td>5</td>\n",
              "      <td>assigned labels (sometimes called codes)</td>\n",
              "    </tr>\n",
              "    <tr>\n",
              "      <th>61</th>\n",
              "      <td>After assembling codes it is time to organize ...</td>\n",
              "      <td>https://en.wikipedia.org/wiki/Coding_(social_s...</td>\n",
              "      <td>11</td>\n",
              "      <td>5</td>\n",
              "      <td>assigned labels (sometimes called codes)</td>\n",
              "    </tr>\n",
              "    <tr>\n",
              "      <th>62</th>\n",
              "      <td>Creating memos during the coding process is in...</td>\n",
              "      <td>https://en.wikipedia.org/wiki/Coding_(social_s...</td>\n",
              "      <td>12</td>\n",
              "      <td>5</td>\n",
              "      <td>assigned labels (sometimes called codes)</td>\n",
              "    </tr>\n",
              "  </tbody>\n",
              "</table>\n",
              "<p>63 rows × 5 columns</p>\n",
              "</div>\n",
              "      <button class=\"colab-df-convert\" onclick=\"convertToInteractive('df-2b741ad0-0148-4bd0-abfd-701b008209ff')\"\n",
              "              title=\"Convert this dataframe to an interactive table.\"\n",
              "              style=\"display:none;\">\n",
              "        \n",
              "  <svg xmlns=\"http://www.w3.org/2000/svg\" height=\"24px\"viewBox=\"0 0 24 24\"\n",
              "       width=\"24px\">\n",
              "    <path d=\"M0 0h24v24H0V0z\" fill=\"none\"/>\n",
              "    <path d=\"M18.56 5.44l.94 2.06.94-2.06 2.06-.94-2.06-.94-.94-2.06-.94 2.06-2.06.94zm-11 1L8.5 8.5l.94-2.06 2.06-.94-2.06-.94L8.5 2.5l-.94 2.06-2.06.94zm10 10l.94 2.06.94-2.06 2.06-.94-2.06-.94-.94-2.06-.94 2.06-2.06.94z\"/><path d=\"M17.41 7.96l-1.37-1.37c-.4-.4-.92-.59-1.43-.59-.52 0-1.04.2-1.43.59L10.3 9.45l-7.72 7.72c-.78.78-.78 2.05 0 2.83L4 21.41c.39.39.9.59 1.41.59.51 0 1.02-.2 1.41-.59l7.78-7.78 2.81-2.81c.8-.78.8-2.07 0-2.86zM5.41 20L4 18.59l7.72-7.72 1.47 1.35L5.41 20z\"/>\n",
              "  </svg>\n",
              "      </button>\n",
              "      \n",
              "  <style>\n",
              "    .colab-df-container {\n",
              "      display:flex;\n",
              "      flex-wrap:wrap;\n",
              "      gap: 12px;\n",
              "    }\n",
              "\n",
              "    .colab-df-convert {\n",
              "      background-color: #E8F0FE;\n",
              "      border: none;\n",
              "      border-radius: 50%;\n",
              "      cursor: pointer;\n",
              "      display: none;\n",
              "      fill: #1967D2;\n",
              "      height: 32px;\n",
              "      padding: 0 0 0 0;\n",
              "      width: 32px;\n",
              "    }\n",
              "\n",
              "    .colab-df-convert:hover {\n",
              "      background-color: #E2EBFA;\n",
              "      box-shadow: 0px 1px 2px rgba(60, 64, 67, 0.3), 0px 1px 3px 1px rgba(60, 64, 67, 0.15);\n",
              "      fill: #174EA6;\n",
              "    }\n",
              "\n",
              "    [theme=dark] .colab-df-convert {\n",
              "      background-color: #3B4455;\n",
              "      fill: #D2E3FC;\n",
              "    }\n",
              "\n",
              "    [theme=dark] .colab-df-convert:hover {\n",
              "      background-color: #434B5C;\n",
              "      box-shadow: 0px 1px 3px 1px rgba(0, 0, 0, 0.15);\n",
              "      filter: drop-shadow(0px 1px 2px rgba(0, 0, 0, 0.3));\n",
              "      fill: #FFFFFF;\n",
              "    }\n",
              "  </style>\n",
              "\n",
              "      <script>\n",
              "        const buttonEl =\n",
              "          document.querySelector('#df-2b741ad0-0148-4bd0-abfd-701b008209ff button.colab-df-convert');\n",
              "        buttonEl.style.display =\n",
              "          google.colab.kernel.accessAllowed ? 'block' : 'none';\n",
              "\n",
              "        async function convertToInteractive(key) {\n",
              "          const element = document.querySelector('#df-2b741ad0-0148-4bd0-abfd-701b008209ff');\n",
              "          const dataTable =\n",
              "            await google.colab.kernel.invokeFunction('convertToInteractive',\n",
              "                                                     [key], {});\n",
              "          if (!dataTable) return;\n",
              "\n",
              "          const docLinkHtml = 'Like what you see? Visit the ' +\n",
              "            '<a target=\"_blank\" href=https://colab.research.google.com/notebooks/data_table.ipynb>data table notebook</a>'\n",
              "            + ' to learn more about interactive tables.';\n",
              "          element.innerHTML = '';\n",
              "          dataTable['output_type'] = 'display_data';\n",
              "          await google.colab.output.renderOutput(dataTable, element);\n",
              "          const docLink = document.createElement('div');\n",
              "          docLink.innerHTML = docLinkHtml;\n",
              "          element.appendChild(docLink);\n",
              "        }\n",
              "      </script>\n",
              "    </div>\n",
              "  </div>\n",
              "  "
            ],
            "text/plain": [
              "                                       paragraph-text  ...                     source-paragraph-text\n",
              "0                                       South Asia \\n  ...                                      None\n",
              "1                                       Middle East\\n  ...                                      None\n",
              "2                                            Europe\\n  ...                                      None\n",
              "3                                     North America\\n  ...                                      None\n",
              "4   Content analysis is the study of documents and...  ...                                      None\n",
              "..                                                ...  ...                                       ...\n",
              "58  Much of qualitative coding can be attributed t...  ...  assigned labels (sometimes called codes)\n",
              "59  Coding is considered a process of discovery an...  ...  assigned labels (sometimes called codes)\n",
              "60  The process can be done manually, which can be...  ...  assigned labels (sometimes called codes)\n",
              "61  After assembling codes it is time to organize ...  ...  assigned labels (sometimes called codes)\n",
              "62  Creating memos during the coding process is in...  ...  assigned labels (sometimes called codes)\n",
              "\n",
              "[63 rows x 5 columns]"
            ]
          },
          "metadata": {},
          "execution_count": 24
        }
      ],
      "source": [
        "for urlTuple in otherPAgeURLS[:3]:\n",
        "    #ignore_index means the indices will not be reset after each append\n",
        "    contentParagraphsDF = contentParagraphsDF.append(getTextFromWikiPage(*urlTuple),ignore_index=True)\n",
        "contentParagraphsDF"
      ]
    },
    {
      "cell_type": "markdown",
      "source": [
        "# Files\n",
        "\n",
        "What if the text we want isn't on a webpage? There are a many other sources of\n",
        "text available, typically organized into *files*."
      ],
      "metadata": {
        "id": "FpcuQHevOE5K"
      }
    },
    {
      "cell_type": "markdown",
      "metadata": {
        "id": "CswLIJBZOmbH"
      },
      "source": [
        "## Raw text (and encoding)\n",
        "\n",
        "The most basic form of storing text is as a _raw text_ document. Source code\n",
        "(`.py`, `.r`, etc) is usually raw text as are text files (`.txt`) and those with\n",
        "many other extension (e.g., .csv, .dat, etc.). Opening an unknown file with a\n",
        "text editor is often a great way of learning what the file is.\n",
        "\n",
        "We can create a text file in python with the `open()` function"
      ]
    },
    {
      "cell_type": "code",
      "execution_count": 47,
      "metadata": {
        "id": "iqMbyp3oOmbH"
      },
      "outputs": [],
      "source": [
        "#example_text_file = 'sometextfile.txt'\n",
        "#stringToWrite = 'A line\\nAnother line\\nA line with a few unusual symbols \\u2421 \\u241B \\u20A0 \\u20A1 \\u20A2 \\u20A3 \\u0D60\\n'\n",
        "stringToWrite = 'A line\\nAnother line\\nA line with a few unusual symbols ␡ ␛ ₠ ₡ ₢ ₣ ൠ\\n'\n",
        "\n",
        "with open(example_text_file, mode = 'w', encoding='utf-8') as f:\n",
        "    f.write(stringToWrite)"
      ]
    },
    {
      "cell_type": "markdown",
      "metadata": {
        "id": "9ezVCruFOmbH"
      },
      "source": [
        "Notice the `encoding='utf-8'` argument, which specifies how we map the bits from\n",
        "the file to the glyphs (and whitespace characters like tab (`'\\t'`) or newline\n",
        "(`'\\n'`)) on the screen. When dealing only with latin letters, arabic numerals\n",
        "and the other symbols on America keyboards you usually do not have to worry\n",
        "about encodings as the ones used today are backwards compatible with\n",
        "[ASCII](https://en.wikipedia.org/wiki/ASCII), which gives the binary\n",
        "representation of 128 characters.\n",
        "\n",
        "Some of you, however, will want to use other characters (e.g., Chinese\n",
        "characters). To solve this there is\n",
        "[Unicode](https://en.wikipedia.org/wiki/Unicode) which assigns numbers to\n",
        "symbols, e.g., 041 is `'A'` and 03A3 is `'Σ'` (numbers starting with 0 are\n",
        "hexadecimal). Often non/beyond-ASCII characters are called Unicode characters.\n",
        "Unicode contains 1,114,112 characters, about 10\\% of which have been assigned.\n",
        "Unfortunately there are many ways used to map combinations of bits to Unicode\n",
        "symbols. The ones you are likely to encounter are called by Python _utf-8_,\n",
        "_utf-16_ and _latin-1_. _utf-8_ is the standard for Linux and Mac OS while both\n",
        "_utf-16_ and _latin-1_ are used by windows. If you use the wrong encoding,\n",
        "characters can appear wrong, sometimes change in number or Python could raise an\n",
        "exception. Lets see what happens when we open the file we just created with\n",
        "different encodings."
      ]
    },
    {
      "cell_type": "code",
      "execution_count": 48,
      "metadata": {
        "id": "FNSzFZkUOmbI",
        "outputId": "5d502428-83a3-4d45-ff5b-d6b8757481fe",
        "colab": {
          "base_uri": "https://localhost:8080/"
        }
      },
      "outputs": [
        {
          "output_type": "stream",
          "name": "stdout",
          "text": [
            "This is with the correct encoding:\n",
            "A line\n",
            "Another line\n",
            "A line with a few unusual symbols ␡ ␛ ₠ ₡ ₢ ₣ ൠ\n",
            "\n",
            "This is with the wrong encoding:\n",
            "A line\n",
            "Another line\n",
            "A line with a few unusual symbols â¡ â â  â¡ â¢ â£ àµ \n",
            "\n"
          ]
        }
      ],
      "source": [
        "with open(example_text_file, encoding='utf-8') as f:\n",
        "    print(\"This is with the correct encoding:\")\n",
        "    print(f.read())\n",
        "\n",
        "with open(example_text_file, encoding='latin-1') as f:\n",
        "    print(\"This is with the wrong encoding:\")\n",
        "    print(f.read())"
      ]
    },
    {
      "cell_type": "markdown",
      "metadata": {
        "id": "bw8ytOqgOmbI"
      },
      "source": [
        "Notice that with _latin-1_ the unicode characters are mixed up and there are too\n",
        "many of them. You need to keep in mind encoding when obtaining text files.\n",
        "Determining the encoding can sometime involve substantial work."
      ]
    },
    {
      "cell_type": "markdown",
      "metadata": {
        "id": "bbfdy4vGOmbI"
      },
      "source": [
        "We can also load many text files at once. Lets start by looking at the Shakespeare files in the `data` directory "
      ]
    },
    {
      "cell_type": "code",
      "execution_count": null,
      "metadata": {
        "id": "sjLJ-XecOmbI"
      },
      "outputs": [],
      "source": [
        "with open('./data/Shakespeare/midsummer_nights_dream.txt') as f:\n",
        "    midsummer = f.read()\n",
        "print(midsummer[-700:])"
      ]
    },
    {
      "cell_type": "markdown",
      "metadata": {
        "id": "mRXmq-UaOmbI"
      },
      "source": [
        "By the way, depending on your working directory, you might get errors such as: [Errno 2] No such file or directory: '../data/Shakespeare/midsummer_nights_dream.txt.' Don't panic, it's nothing, just check your working directory. \n",
        "\n",
        "Then to load all the files in `./data/Shakespeare` we can use a for loop with `scandir`:"
      ]
    },
    {
      "cell_type": "code",
      "execution_count": null,
      "metadata": {
        "id": "21UaeDenOmbJ"
      },
      "outputs": [],
      "source": [
        "targetDir = './data/Shakespeare' #Change this to your own directory of texts\n",
        "shakespearText = []\n",
        "shakespearFileName = []\n",
        "\n",
        "for file in (file for file in os.scandir(targetDir) if file.is_file() and not file.name.startswith('.')):\n",
        "    with open(file.path, encoding=\"utf-8\") as f:\n",
        "        shakespearText.append(f.read())\n",
        "    shakespearFileName.append(file.name)"
      ]
    },
    {
      "cell_type": "markdown",
      "metadata": {
        "id": "BWWr9-tcOmbJ"
      },
      "source": [
        "Then we can put them all in pandas DataFrame"
      ]
    },
    {
      "cell_type": "code",
      "execution_count": null,
      "metadata": {
        "id": "Knvif7JmOmbJ"
      },
      "outputs": [],
      "source": [
        "shakespear_df = pandas.DataFrame({'text' : shakespearText}, index = shakespearFileName)\n",
        "shakespear_df"
      ]
    },
    {
      "cell_type": "markdown",
      "metadata": {
        "id": "CWKhyCfCOmbJ"
      },
      "source": [
        "Getting your text in a format like this is the first step of most analysis"
      ]
    },
    {
      "cell_type": "markdown",
      "metadata": {
        "id": "V9T2gL7UOmbJ"
      },
      "source": [
        "## PDF\n",
        "\n",
        "Another common way text will be stored is in a PDF file. First we will download\n",
        "a pdf in Python. To do that lets grab a chapter from\n",
        "_Speech and Language Processing_, chapter 21 is on Information Extraction which\n",
        "seems apt. It is stored as a pdf at [https://web.stanford.edu/~jurafsky/slp3/21.\n",
        "pdf](https://web.stanford.edu/~jurafsky/slp3/21.pdf) although we are downloading\n",
        "from a copy just in case Jurafsky changes their website."
      ]
    },
    {
      "cell_type": "code",
      "execution_count": 49,
      "metadata": {
        "id": "zv1NpgUkOmbJ",
        "outputId": "eafde979-6676-436f-bab1-2e3205d3be47",
        "colab": {
          "base_uri": "https://localhost:8080/"
        }
      },
      "outputs": [
        {
          "output_type": "stream",
          "name": "stdout",
          "text": [
            "%PDF-1.3\n",
            "%���������\n",
            "4 0 obj\n",
            "<< /Length 5 0 R /Filter /FlateDecode >>\n",
            "stream\n",
            "x\u0001�]۶�F�}�W�c����T���\u0017C\u000f�i�\u0019<t\u001f�b\u0001\u000fM�f\n",
            "Tn�\u0006<3_�\u000b�CDf�\u001d�J�N�i�\u000f�#�%.;.\u0019���\t?\u000f߄��7�]8������ux��}\u001b޾\u000fm����y��bǾ���\u0010�!\u001c\u000e���$�Ǯ���C�\u0007�F\u0006�����p�\u000f��5��1��1�P<�{�\u0010$�\u001a�/$�P�\fs�v��P\u001egH?�����Q�~�*�:l��ˇ�m�ǰ��C�l����܊\u0017��E��\u001e���\u000f!�^�y��\u001am�$�Ý���wۡل׼�6w���ī�K�~؞���r��\u0010~\u001b\u001e?�ˡkO�;6IH�9{ԡ���\u0000]?�E�E�\u0012�~���.l������+��\u001cW�\u000e\u0002_�\u000e��\u0002\u0002��C��S�|�~\u0005C��N�3ӛB`8�ޚ\b\u0001j9���AZ�\u0004�\u00110�d�l^�\u000e�����SY\u0012\t�Ƨ��>\u000bq�ۇ&\n",
            "����.�����0���\u0015�;\u0000��>a8�$\fw�p��p����ST���\u000b.\u0000�7��@�\u0012���)�\u0013�&1�|���\u0002\u0004WՃ jOv�G2b�L8I��N�@\u0001\u001egǍ�\u0004����\u0019�O�C��������IN@@���\u0002��\u0013}�8��+L����a�\u0005&ү\b�o\u0005\u0013�V(\u0019���0\f���+5\u001b�\n",
            "S\u001dfS&��<�2���\u001e��>l�V��&��=4⇤\u0019=\u001a�W��<�J\u0013Mo�\u001c���\"����d�C����[vY�|K\u001c{_ܔ\\��\u0017��%\u0001H�/@'�QA�+D�l��c��L�G�.��\t�̎�V�:f>���Aw\u0010K���o$`D\u0007��\u000bbE45�\u000b0\b�\u0015%th6h��\u0005���>*�2vQd\u0010\u0015�+M��Y}�Q���u�[���N�o'b\u0010��/u�.r'Z�\u0017��J�\u0019e8�v\u0013\u000b��;�\u001d�{T�\t\f�����^8�\u0014 \u001a\u0018 l<�E�<���b�����C8\fj��f��xB>\u0001K\u0010���\u0019��|\u001f\u0004w��f�|?�\u0001s̭\u0018��Y�'�Ip&�\"�\u000bA���f�?�\b!IYi���U�\"��y;�\u0007��#�\u000b\u000f�e3)�+B�&���\u001d�<\bE9I�g�/]\"D��yfC;e����Y^�z ��s'�)/�X�-HY��<ˬ�ݰ\n"
          ]
        }
      ],
      "source": [
        "#information_extraction_pdf = 'https://github.com/KnowledgeLab/content_analysis/raw/data/21.pdf'\n",
        "\n",
        "infoExtractionRequest = requests.get(information_extraction_pdf, stream=True)\n",
        "print(infoExtractionRequest.text[:1000])"
      ]
    },
    {
      "cell_type": "markdown",
      "metadata": {
        "id": "pZcS8uBlOmbJ"
      },
      "source": [
        "It says `'pdf'`, so thats a good sign. The rest though looks like we are having\n",
        "issues with an encoding. The random characters are not caused by our encoding\n",
        "being wrong, however. They are cause by there not being an encoding for those\n",
        "parts at all. PDFs are nominally binary files, meaning there are sections of\n",
        "binary that are specific to pdf and nothing else so you need something that\n",
        "knows about pdf to read them. To do that we will be using\n",
        "[`PyPDF2`](https://github.com/mstamy2/PyPDF2), a PDF processing library for\n",
        "Python 3.\n",
        "\n",
        "\n",
        "Because PDFs are a very complicated file format pdfminer requires a large amount\n",
        "of boilerplate code to extract text, we have written a function that takes in an\n",
        "open PDF file and returns the text so you don't have to."
      ]
    },
    {
      "cell_type": "code",
      "execution_count": 50,
      "metadata": {
        "id": "G-NK0_u0OmbK"
      },
      "outputs": [],
      "source": [
        "def readPDF(pdfFile):\n",
        "    #Based on code from http://stackoverflow.com/a/20905381/4955164\n",
        "    #Using utf-8, if there are a bunch of random symbols try changing this\n",
        "    codec = 'utf-8'\n",
        "    rsrcmgr = pdfminer.pdfinterp.PDFResourceManager()\n",
        "    retstr = io.StringIO()\n",
        "    layoutParams = pdfminer.layout.LAParams()\n",
        "    device = pdfminer.converter.TextConverter(rsrcmgr, retstr, laparams = layoutParams, codec = codec)\n",
        "    #We need a device and an interpreter\n",
        "    interpreter = pdfminer.pdfinterp.PDFPageInterpreter(rsrcmgr, device)\n",
        "    password = ''\n",
        "    maxpages = 0\n",
        "    caching = True\n",
        "    pagenos=set()\n",
        "    for page in pdfminer.pdfpage.PDFPage.get_pages(pdfFile, pagenos, maxpages=maxpages, password=password,caching=caching, check_extractable=True):\n",
        "        interpreter.process_page(page)\n",
        "    device.close()\n",
        "    returnedString = retstr.getvalue()\n",
        "    retstr.close()\n",
        "    return returnedString"
      ]
    },
    {
      "cell_type": "markdown",
      "metadata": {
        "id": "4z-HjO90OmbK"
      },
      "source": [
        "First we need to take the response object and convert it into a 'file like'\n",
        "object so that pdfminer can read it. To do this we will use `io`'s `BytesIO`."
      ]
    },
    {
      "cell_type": "code",
      "execution_count": 51,
      "metadata": {
        "id": "sM0uY2utOmbK"
      },
      "outputs": [],
      "source": [
        "infoExtractionBytes = io.BytesIO(infoExtractionRequest.content)"
      ]
    },
    {
      "cell_type": "markdown",
      "metadata": {
        "id": "stf5WQdeOmbK"
      },
      "source": [
        "Now we can give it to pdfminer."
      ]
    },
    {
      "cell_type": "code",
      "execution_count": 52,
      "metadata": {
        "id": "iuUIzn_UOmbK",
        "outputId": "348abf83-ab35-41cb-bc0f-f9dfc654be70",
        "colab": {
          "base_uri": "https://localhost:8080/"
        }
      },
      "outputs": [
        {
          "output_type": "stream",
          "name": "stdout",
          "text": [
            "Department of  Sociology \n",
            "\n",
            "THE UNIVERSITY OF CHICAGO \n",
            "\n",
            "SOCIOLOGY 40133 \n",
            "\n",
            "Computational Content Analysis \n",
            "\n",
            "Friday 1:00 – 3:50pm \n",
            "Winter 2017-2018 \n",
            "Classroom: Harper Memorial 130       \n",
            "http://chalk.uchicago.edu/ \n",
            "\n",
            " \n",
            "\n",
            "                                                                                           \n",
            "\n",
            "          Office: McGiffert 210 \n",
            "                                                    Tel.: 834-3612; jevans@uchicago.edu \n",
            "                                  Office Hours: Thursday 12:30-2:30pm \n",
            "\n",
            "     \n",
            "\n",
            "        James A. Evans            \n",
            "\n",
            "    \n"
          ]
        }
      ],
      "source": [
        "print(readPDF(infoExtractionBytes)[:550])"
      ]
    },
    {
      "cell_type": "markdown",
      "metadata": {
        "id": "-AldBWnAOmbK"
      },
      "source": [
        "From here we can either look at the full text or fiddle with our PDF reader and\n",
        "get more information about individual blocks of text.\n",
        "\n",
        "## Word Docs\n",
        "\n",
        "The other type of document you are likely to encounter is the `.docx`, these are\n",
        "actually a version of [XML](https://en.wikipedia.org/wiki/Office_Open_XML), just\n",
        "like HTML, and like HTML we will use a specialized parser.\n",
        "\n",
        "For this class we will use [`python-docx`](https://python-docx.readthedocs.io/en/latest/) which provides a nice simple interface for\n",
        "reading `.docx` files"
      ]
    },
    {
      "cell_type": "code",
      "execution_count": 53,
      "metadata": {
        "id": "HZwVUc8POmbK",
        "outputId": "b7cf19b3-bbbb-4edd-c9d3-4d622e26aba8",
        "colab": {
          "base_uri": "https://localhost:8080/"
        }
      },
      "outputs": [
        {
          "output_type": "stream",
          "name": "stdout",
          "text": [
            " \n",
            " \n",
            "\n",
            "Accessing the Research Computing Center Resources\n",
            "\n",
            "To connect to the midway compute cluster to access your home directory and the macs60000 storage space, and utilize the HPC resources, you will either use a terminal client (with or without X11 forwarding capabilities) or the Linux remote desktop server software client (Thinlinc) to connect to the midway cluster. To submit jobs, monitor jobs, browse directories or do other computing you will need to connect through either the terminal or remote desktop. Setup and utilization of these clients will be discussed below in the context of your local platform’s architecture.\n",
            "SSH Client Setup & Remote Desktop Server\n"
          ]
        }
      ],
      "source": [
        "#example_docx = 'https://github.com/KnowledgeLab/content_analysis/raw/data/example_doc.docx'\n",
        "\n",
        "r = requests.get(example_docx, stream=True)\n",
        "d = docx.Document(io.BytesIO(r.content))\n",
        "for paragraph in d.paragraphs[:7]:\n",
        "    print(paragraph.text)"
      ]
    },
    {
      "cell_type": "markdown",
      "metadata": {
        "id": "Zo8XdsmpOmbL"
      },
      "source": [
        "This procedure uses the `io.BytesIO` class again, since `docx.Document` expects\n",
        "a file. Another way to do it is to save the document to a file and then read it\n",
        "like any other file. If we do this we can either delete the file afterwords, or\n",
        "save it and avoid downloading the following time.\n",
        "\n",
        "This function is useful as a part of many different tasks so it and others like it will be added to the helper package `lucem_illud` so we can use it later without having to retype it."
      ]
    },
    {
      "cell_type": "code",
      "execution_count": null,
      "metadata": {
        "id": "H0LzxTw-OmbL"
      },
      "outputs": [],
      "source": [
        "def downloadIfNeeded(targetURL, outputFile, **openkwargs):\n",
        "    if not os.path.isfile(outputFile):\n",
        "        outputDir = os.path.dirname(outputFile)\n",
        "        #This function is a more general os.mkdir()\n",
        "        if len(outputDir) > 0:\n",
        "            os.makedirs(outputDir, exist_ok = True)\n",
        "        r = requests.get(targetURL, stream=True)\n",
        "        #Using a closure like this is generally better than having to\n",
        "        #remember to close the file. There are ways to make this function\n",
        "        #work as a closure too\n",
        "        with open(outputFile, 'wb') as f:\n",
        "            f.write(r.content)\n",
        "    return open(outputFile, **openkwargs)"
      ]
    },
    {
      "cell_type": "markdown",
      "metadata": {
        "id": "BTtnnzAyOmbL"
      },
      "source": [
        "This function will download, save and open `outputFile` as `outputFile` or just\n",
        "open it if `outputFile` exists. By default `open()` will open the file as read\n",
        "only text with the local encoding, which may cause issues if its not a text\n",
        "file."
      ]
    },
    {
      "cell_type": "code",
      "execution_count": null,
      "metadata": {
        "id": "l4F3q0wpOmbL"
      },
      "outputs": [],
      "source": [
        "try:\n",
        "    d = docx.Document(downloadIfNeeded(example_docx, example_docx_save))\n",
        "except Exception as e:\n",
        "    print(e)"
      ]
    },
    {
      "cell_type": "markdown",
      "metadata": {
        "id": "8jy-hEavOmbL"
      },
      "source": [
        "We need to tell `open()` to read in binary mode (`'rb'`), this is why we added\n",
        "`**openkwargs`, this allows us to pass any keyword arguments (kwargs) from\n",
        "`downloadIfNeeded` to `open()`."
      ]
    },
    {
      "cell_type": "code",
      "execution_count": null,
      "metadata": {
        "id": "V9An1Z_QOmbL"
      },
      "outputs": [],
      "source": [
        "d = docx.Document(downloadIfNeeded(example_docx, example_docx_save, mode = 'rb'))\n",
        "for paragraph in d.paragraphs[:7]:\n",
        "    print(paragraph.text)"
      ]
    },
    {
      "cell_type": "markdown",
      "metadata": {
        "id": "AECbTJunOmbL"
      },
      "source": [
        "Now we can read the file with `docx.Document` and not have to wait for it to be\n",
        "downloaded every time."
      ]
    },
    {
      "cell_type": "markdown",
      "metadata": {
        "id": "vVTLl6J-OmbB"
      },
      "source": [
        "# <font color=\"red\">Exercise 1</font>\n",
        "<font color=\"red\">Construct cells immediately below this that describe and download webcontent relating to your anticipated final project. Use beautiful soup and at least five regular expressions to extract relevant, nontrivial *chunks* of that content (e.g., cleaned sentences, paragraphs, etc.) to a pandas `Dataframe`.</font>"
      ]
    },
    {
      "cell_type": "markdown",
      "source": [
        "I am still finalizing my final project topic, but the starting point may be the investigation in the important judicial cases in the U.S. with NLP. I take on the page: [Dred Scott v. Sandford](https://en.wikipedia.org/wiki/Dred_Scott_v._Sandford) first."
      ],
      "metadata": {
        "id": "6YX6MF_6zB7o"
      }
    },
    {
      "cell_type": "code",
      "source": [
        "wikiCaseRequset = requests.get('https://en.wikipedia.org/wiki/Dred_Scott_v._Sandford')\n",
        "wikiCaseSoup = bs4.BeautifulSoup(wikiCaseRequset.text, 'html.parser')\n",
        "print(wikiCaseSoup.text[:10000])"
      ],
      "metadata": {
        "id": "8l0R5lV6STmk",
        "outputId": "387f0f60-225c-4b2c-8cd4-ef584e2f8a9f",
        "colab": {
          "base_uri": "https://localhost:8080/"
        }
      },
      "execution_count": 25,
      "outputs": [
        {
          "output_type": "stream",
          "name": "stdout",
          "text": [
            "\n",
            "\n",
            "\n",
            "\n",
            "Dred Scott v. Sandford - Wikipedia\n",
            "document.documentElement.className=\"client-js\";RLCONF={\"wgBreakFrames\":false,\"wgSeparatorTransformTable\":[\"\",\"\"],\"wgDigitTransformTable\":[\"\",\"\"],\"wgDefaultDateFormat\":\"dmy\",\"wgMonthNames\":[\"\",\"January\",\"February\",\"March\",\"April\",\"May\",\"June\",\"July\",\"August\",\"September\",\"October\",\"November\",\"December\"],\"wgRequestId\":\"387dd0d4-07eb-4581-83d4-0017fb201146\",\"wgCSPNonce\":false,\"wgCanonicalNamespace\":\"\",\"wgCanonicalSpecialPageName\":false,\"wgNamespaceNumber\":0,\"wgPageName\":\"Dred_Scott_v._Sandford\",\"wgTitle\":\"Dred Scott v. Sandford\",\"wgCurRevisionId\":1065473551,\"wgRevisionId\":1065473551,\"wgArticleId\":105816,\"wgIsArticle\":true,\"wgIsRedirect\":false,\"wgAction\":\"view\",\"wgUserName\":null,\"wgUserGroups\":[\"*\"],\"wgCategories\":[\"Harv and Sfn no-target errors\",\"Articles with Encyclopædia Britannica links\",\"Webarchive template wayback links\",\"CS1 errors: missing periodical\",\"Articles with short description\",\"Short description is different from Wikidata\",\"Wikipedia pending changes protected pages\",\n",
            "\"Use mdy dates from September 2020\",\"Articles needing additional references from March 2020\",\"All articles needing additional references\",\"Pages using multiple image with auto scaled images\",\"Wikipedia articles incorporating a citation from the New International Encyclopedia\",\"Wikipedia articles incorporating a citation from Collier's Encyclopedia\",\"1857 in United States case law\",\"Abrogated United States Supreme Court decisions\",\"Freedom suits in the United States\",\"History of St. Louis\",\"Pre-emancipation African-American history\",\"Presidency of James Buchanan\",\"United States slavery case law\",\"United States substantive due process case law\",\"United States Supreme Court cases of the Taney Court\",\"Missouri in the American Civil War\",\"Origins of the American Civil War\",\"Legal history of Missouri\",\"Race and law in the United States\"],\"wgPageContentLanguage\":\"en\",\"wgPageContentModel\":\"wikitext\",\"wgRelevantPageName\":\"Dred_Scott_v._Sandford\",\"wgRelevantArticleId\":105816,\n",
            "\"wgIsProbablyEditable\":true,\"wgRelevantPageIsProbablyEditable\":true,\"wgRestrictionEdit\":[],\"wgRestrictionMove\":[],\"skin\":\"vector\",\"wgFlaggedRevsParams\":{\"tags\":{\"status\":{\"levels\":-1}}},\"wgStableRevisionId\":1065473551,\"wgVisualEditor\":{\"pageLanguageCode\":\"en\",\"pageLanguageDir\":\"ltr\",\"pageVariantFallbacks\":\"en\"},\"wgMFDisplayWikibaseDescriptions\":{\"search\":true,\"nearby\":true,\"watchlist\":true,\"tagline\":false},\"wgWMESchemaEditAttemptStepOversample\":false,\"wgWMEPageLength\":60000,\"wgNoticeProject\":\"wikipedia\",\"wgMediaViewerOnClick\":true,\"wgMediaViewerEnabledByDefault\":true,\"wgPopupsFlags\":10,\"wgULSCurrentAutonym\":\"English\",\"wgEditSubmitButtonLabelPublish\":true,\"wgCentralAuthMobileDomain\":false,\"wgULSPosition\":\"interlanguage\",\"wgULSisCompactLinksEnabled\":true,\"wgWikibaseItemId\":\"Q690462\",\"wgGENewcomerTasksGuidanceEnabled\":true,\"wgGEAskQuestionEnabled\":false,\"wgGELinkRecommendationsFrontendEnabled\":false};RLSTATE={\"ext.globalCssJs.user.styles\":\"ready\",\"site.styles\":\"ready\",\"user.styles\":\n",
            "\"ready\",\"ext.globalCssJs.user\":\"ready\",\"user\":\"ready\",\"user.options\":\"loading\",\"ext.flaggedRevs.icons\":\"ready\",\"oojs-ui-core.styles\":\"ready\",\"oojs-ui.styles.indicators\":\"ready\",\"mediawiki.widgets.styles\":\"ready\",\"oojs-ui-core.icons\":\"ready\",\"ext.cite.styles\":\"ready\",\"skins.vector.styles.legacy\":\"ready\",\"jquery.makeCollapsible.styles\":\"ready\",\"ext.flaggedRevs.basic\":\"ready\",\"ext.visualEditor.desktopArticleTarget.noscript\":\"ready\",\"ext.wikimediaBadges\":\"ready\",\"ext.uls.interlanguage\":\"ready\",\"wikibase.client.init\":\"ready\"};RLPAGEMODULES=[\"ext.cite.ux-enhancements\",\"ext.scribunto.logs\",\"site\",\"mediawiki.page.ready\",\"jquery.makeCollapsible\",\"mediawiki.toc\",\"skins.vector.legacy.js\",\"ext.flaggedRevs.advanced\",\"ext.gadget.ReferenceTooltips\",\"ext.gadget.charinsert\",\"ext.gadget.extra-toolbar-buttons\",\"ext.gadget.refToolbar\",\"ext.gadget.switcher\",\"mmv.head\",\"mmv.bootstrap.autostart\",\"ext.visualEditor.desktopArticleTarget.init\",\"ext.visualEditor.targetLoader\",\"ext.eventLogging\",\n",
            "\"ext.wikimediaEvents\",\"ext.navigationTiming\",\"ext.cx.eventlogging.campaigns\",\"ext.centralNotice.geoIP\",\"ext.centralNotice.startUp\",\"ext.centralauth.centralautologin\",\"ext.popups\",\"ext.uls.compactlinks\",\"ext.uls.interface\",\"ext.growthExperiments.SuggestedEditSession\"];\n",
            "(RLQ=window.RLQ||[]).push(function(){mw.loader.implement(\"user.options@1i9g4\",function($,jQuery,require,module){mw.user.tokens.set({\"patrolToken\":\"+\\\\\",\"watchToken\":\"+\\\\\",\"csrfToken\":\"+\\\\\"});});});\n",
            "\n",
            "\n",
            "\n",
            "\n",
            "\n",
            "\n",
            "\n",
            "\n",
            "\n",
            "\n",
            "\n",
            "\n",
            "\n",
            "\n",
            "\n",
            "\n",
            "\n",
            "\n",
            "\n",
            "\n",
            "\n",
            "\n",
            "\n",
            "\n",
            "\n",
            "\n",
            "\n",
            "\n",
            "\n",
            "\n",
            "\n",
            "Dred Scott v. Sandford\n",
            "\n",
            "From Wikipedia, the free encyclopedia\n",
            "\n",
            "This is the latest accepted revision, reviewed on 13 January 2022.\n",
            "\n",
            "\n",
            "\n",
            "\n",
            "\n",
            "Jump to navigation\n",
            "Jump to search\n",
            "1857 U.S. Supreme Court case on the citizenship of African-Americans\n",
            "\n",
            "\n",
            "United States Supreme Court case.mw-parser-output .infobox-subbox{padding:0;border:none;margin:-3px;width:auto;min-width:100%;font-size:100%;clear:none;float:none;background-color:transparent}.mw-parser-output .infobox-3cols-child{margin:auto}.mw-parser-output .infobox .navbar{font-size:100%}body.skin-minerva .mw-parser-output .infobox-header,body.skin-minerva .mw-parser-output .infobox-subheader,body.skin-minerva .mw-parser-output .infobox-above,body.skin-minerva .mw-parser-output .infobox-title,body.skin-minerva .mw-parser-output .infobox-image,body.skin-minerva .mw-parser-output .infobox-full-data,body.skin-minerva .mw-parser-output .infobox-below{text-align:center}Dred Scott v. SandfordSupreme Court of the United StatesArgued February 11–14, 1856Reargued December 15–18, 1856Decided March 6, 1857Full case nameDred Scott v. John F. A. Sandford[note 1]Citations60 U.S. 393 (more)19 How. 393; 15 L. Ed. 691; 1856 WL 8721; 1856 U.S. LEXIS 472DecisionOpinionCase historyPriorJudgment for defendant, C.C.D. Mo.HoldingJudgment reversed and suit dismissed for lack of jurisdiction. Persons of African descent cannot be and were never intended to be citizens under the US Constitution. Plaintiff is without standing to file a suit.The Property Clause is applicable only to lands possessed at the time of the Constitution's ratification (1787). As such, Congress cannot ban slavery in the territories. The Missouri Compromise is unconstitutional.The Due Process Clause of the Fifth Amendment prohibits the federal government from freeing slaves brought into federal territories.Court membership\n",
            "Chief Justice\n",
            "Roger B. Taney\n",
            "\n",
            "Associate Justices\n",
            "John McLean · James M. WayneJohn Catron · Peter V. DanielSamuel Nelson · Robert C. GrierBenjamin R. Curtis · John A. Campbell\n",
            "Case opinionsMajorityTaney, joined by Wayne, Catron, Daniel, Nelson, Grier, CampbellConcurrenceWayneConcurrenceCatronConcurrenceDanielConcurrenceNelson, joined by GrierConcurrenceGrierConcurrenceCampbellDissentMcLeanDissentCurtisLaws appliedU.S. Const. amend. V; U.S. Const. art. IV, § 3, cl. 2;; Missouri CompromiseSuperseded byU.S. Const. amends. XIII, XIV, XV;Civil Rights Act of 1866;Kleppe v. New Mexico (1976) (in part)[2]\n",
            "\n",
            "\n",
            "\n",
            "Wikisource has original text related to this article:\n",
            "Dred Scott v. Sandford\n",
            "\n",
            "Dred Scott v. Sandford,[note 1] 60 U.S. (19 How.) 393 (1857), was a landmark decision of the United States Supreme Court in which the Court held that the United States Constitution was not meant to include American citizenship for people of African descent, regardless of whether they were enslaved or free, and so the rights and privileges that the Constitution confers upon American citizens could not apply to them.[3][4] The Supreme Court's decision has been widely denounced, both for how overtly racist the decision was and its crucial role in the near collapse of the United States of America four years later.[5] Bernard Schwartz said that it \"stands first in any list of the worst Supreme Court decisions—Chief Justice Hughes called it the Court's greatest self-inflicted wound.\"[6] Junius P. Rodriguez said that it is \"universally condemned as the U.S. Supreme Court's worst decision\".[7] Historian David Thomas Konig said that it was \"unquestionably, our court's worst decision ever.\"[8]\n",
            "The decision was made in the case of Dred Scott, an enslaved black man whose owners had taken him from Missouri, a slave-holding state, into Illinois and the Wisconsin Territory, where slavery was illegal. When his owners later brought him back to Missouri, Scott sued in court for his freedom and claimed that because he had been taken into \"free\" U.S. territory, he had automatically been freed and was legally no longer a slave. Scott sued first in Missouri state court, which ruled that he was still a slave under its law. He then sued in U.S. federal court, which ruled against him by deciding that it had to apply Missouri law to the case. He then appealed to the U.S. Supreme Court.\n",
            "In March 1857, the Supreme Court issued a 7–2 decision against Dred Scott. In an opinion written by Chief Justice Roger Taney, the Court ruled that people of African descent \"are not included, and were not intended to be included, under the word 'citizens' in the Constitution, and can therefore claim none of the rights and privileges which that instrument provides for and secures to citizens of the United States\". Taney supported his ruling with an extended survey of American state and local laws from the time of the Constitution's drafting in 1787 that purported to show that a \"perpetual and impassable barrier was intended to be erected between the white race and the one which they had reduced to slavery\". Because the Court ruled that Scott was not an American citizen, he was also not a citizen of any state and, accordingly, could never establish the \"diversity of citizenship\" that Article III of the U.S. Constitution requires for a U.S. federal court to be able to exercise jurisdiction over a case.[3] After ruling on those issues surrounding Scott, Taney continued further and struck down the entire Missouri Compromise as a limitation on slavery that exceeded the U.S. Congress's constitutional powers.\n",
            "Although Taney and several other justices hoped the decision would permanen\n"
          ]
        }
      ]
    },
    {
      "cell_type": "code",
      "source": [
        "casePTags = wikiCaseSoup.body.findAll('p')\n",
        "reg = r'((\\[\\d+\\])|(\\[note \\d+\\])|(\\.mw-parser-output.+))' # remove syntax like [1], [note 1], quotation blank\n",
        "caseParagraphs = [re.sub(reg, '', i.text) for i in casePTags if i.text.strip() != ''] # if condition removes the redundent empty rows\n",
        "\n",
        "#convert to a DataFrame\n",
        "caseParagraphsDF = pandas.DataFrame({'paragraph-text' : caseParagraphs})"
      ],
      "metadata": {
        "id": "lsI6hYmlSv5C"
      },
      "execution_count": 26,
      "outputs": []
    },
    {
      "cell_type": "code",
      "source": [
        "caseParagraphsDF"
      ],
      "metadata": {
        "id": "R3n3aDIgWTR1",
        "outputId": "d656783c-d0fe-436a-f543-623905228995",
        "colab": {
          "base_uri": "https://localhost:8080/",
          "height": 424
        }
      },
      "execution_count": 27,
      "outputs": [
        {
          "output_type": "execute_result",
          "data": {
            "text/html": [
              "\n",
              "  <div id=\"df-ac4c6959-67b8-490c-8574-081321642dec\">\n",
              "    <div class=\"colab-df-container\">\n",
              "      <div>\n",
              "<style scoped>\n",
              "    .dataframe tbody tr th:only-of-type {\n",
              "        vertical-align: middle;\n",
              "    }\n",
              "\n",
              "    .dataframe tbody tr th {\n",
              "        vertical-align: top;\n",
              "    }\n",
              "\n",
              "    .dataframe thead th {\n",
              "        text-align: right;\n",
              "    }\n",
              "</style>\n",
              "<table border=\"1\" class=\"dataframe\">\n",
              "  <thead>\n",
              "    <tr style=\"text-align: right;\">\n",
              "      <th></th>\n",
              "      <th>paragraph-text</th>\n",
              "    </tr>\n",
              "  </thead>\n",
              "  <tbody>\n",
              "    <tr>\n",
              "      <th>0</th>\n",
              "      <td>Dred Scott v. Sandford, 60 U.S. (19 How.) 393 ...</td>\n",
              "    </tr>\n",
              "    <tr>\n",
              "      <th>1</th>\n",
              "      <td>The decision was made in the case of Dred Scot...</td>\n",
              "    </tr>\n",
              "    <tr>\n",
              "      <th>2</th>\n",
              "      <td>In March 1857, the Supreme Court issued a 7–2 ...</td>\n",
              "    </tr>\n",
              "    <tr>\n",
              "      <th>3</th>\n",
              "      <td>Although Taney and several other justices hope...</td>\n",
              "    </tr>\n",
              "    <tr>\n",
              "      <th>4</th>\n",
              "      <td>In the late 1810s, a major political dispute a...</td>\n",
              "    </tr>\n",
              "    <tr>\n",
              "      <th>...</th>\n",
              "      <td>...</td>\n",
              "    </tr>\n",
              "    <tr>\n",
              "      <th>60</th>\n",
              "      <td>In a memo to Justice Robert H. Jackson in 1952...</td>\n",
              "    </tr>\n",
              "    <tr>\n",
              "      <th>61</th>\n",
              "      <td>Justice Antonin Scalia made the comparison bet...</td>\n",
              "    </tr>\n",
              "    <tr>\n",
              "      <th>62</th>\n",
              "      <td>Dred Scott ... rested upon the concept of \"sub...</td>\n",
              "    </tr>\n",
              "    <tr>\n",
              "      <th>63</th>\n",
              "      <td>Scalia noted that the Dred Scott decision had ...</td>\n",
              "    </tr>\n",
              "    <tr>\n",
              "      <th>64</th>\n",
              "      <td>Chief Justice John Roberts compared Obergefell...</td>\n",
              "    </tr>\n",
              "  </tbody>\n",
              "</table>\n",
              "<p>65 rows × 1 columns</p>\n",
              "</div>\n",
              "      <button class=\"colab-df-convert\" onclick=\"convertToInteractive('df-ac4c6959-67b8-490c-8574-081321642dec')\"\n",
              "              title=\"Convert this dataframe to an interactive table.\"\n",
              "              style=\"display:none;\">\n",
              "        \n",
              "  <svg xmlns=\"http://www.w3.org/2000/svg\" height=\"24px\"viewBox=\"0 0 24 24\"\n",
              "       width=\"24px\">\n",
              "    <path d=\"M0 0h24v24H0V0z\" fill=\"none\"/>\n",
              "    <path d=\"M18.56 5.44l.94 2.06.94-2.06 2.06-.94-2.06-.94-.94-2.06-.94 2.06-2.06.94zm-11 1L8.5 8.5l.94-2.06 2.06-.94-2.06-.94L8.5 2.5l-.94 2.06-2.06.94zm10 10l.94 2.06.94-2.06 2.06-.94-2.06-.94-.94-2.06-.94 2.06-2.06.94z\"/><path d=\"M17.41 7.96l-1.37-1.37c-.4-.4-.92-.59-1.43-.59-.52 0-1.04.2-1.43.59L10.3 9.45l-7.72 7.72c-.78.78-.78 2.05 0 2.83L4 21.41c.39.39.9.59 1.41.59.51 0 1.02-.2 1.41-.59l7.78-7.78 2.81-2.81c.8-.78.8-2.07 0-2.86zM5.41 20L4 18.59l7.72-7.72 1.47 1.35L5.41 20z\"/>\n",
              "  </svg>\n",
              "      </button>\n",
              "      \n",
              "  <style>\n",
              "    .colab-df-container {\n",
              "      display:flex;\n",
              "      flex-wrap:wrap;\n",
              "      gap: 12px;\n",
              "    }\n",
              "\n",
              "    .colab-df-convert {\n",
              "      background-color: #E8F0FE;\n",
              "      border: none;\n",
              "      border-radius: 50%;\n",
              "      cursor: pointer;\n",
              "      display: none;\n",
              "      fill: #1967D2;\n",
              "      height: 32px;\n",
              "      padding: 0 0 0 0;\n",
              "      width: 32px;\n",
              "    }\n",
              "\n",
              "    .colab-df-convert:hover {\n",
              "      background-color: #E2EBFA;\n",
              "      box-shadow: 0px 1px 2px rgba(60, 64, 67, 0.3), 0px 1px 3px 1px rgba(60, 64, 67, 0.15);\n",
              "      fill: #174EA6;\n",
              "    }\n",
              "\n",
              "    [theme=dark] .colab-df-convert {\n",
              "      background-color: #3B4455;\n",
              "      fill: #D2E3FC;\n",
              "    }\n",
              "\n",
              "    [theme=dark] .colab-df-convert:hover {\n",
              "      background-color: #434B5C;\n",
              "      box-shadow: 0px 1px 3px 1px rgba(0, 0, 0, 0.15);\n",
              "      filter: drop-shadow(0px 1px 2px rgba(0, 0, 0, 0.3));\n",
              "      fill: #FFFFFF;\n",
              "    }\n",
              "  </style>\n",
              "\n",
              "      <script>\n",
              "        const buttonEl =\n",
              "          document.querySelector('#df-ac4c6959-67b8-490c-8574-081321642dec button.colab-df-convert');\n",
              "        buttonEl.style.display =\n",
              "          google.colab.kernel.accessAllowed ? 'block' : 'none';\n",
              "\n",
              "        async function convertToInteractive(key) {\n",
              "          const element = document.querySelector('#df-ac4c6959-67b8-490c-8574-081321642dec');\n",
              "          const dataTable =\n",
              "            await google.colab.kernel.invokeFunction('convertToInteractive',\n",
              "                                                     [key], {});\n",
              "          if (!dataTable) return;\n",
              "\n",
              "          const docLinkHtml = 'Like what you see? Visit the ' +\n",
              "            '<a target=\"_blank\" href=https://colab.research.google.com/notebooks/data_table.ipynb>data table notebook</a>'\n",
              "            + ' to learn more about interactive tables.';\n",
              "          element.innerHTML = '';\n",
              "          dataTable['output_type'] = 'display_data';\n",
              "          await google.colab.output.renderOutput(dataTable, element);\n",
              "          const docLink = document.createElement('div');\n",
              "          docLink.innerHTML = docLinkHtml;\n",
              "          element.appendChild(docLink);\n",
              "        }\n",
              "      </script>\n",
              "    </div>\n",
              "  </div>\n",
              "  "
            ],
            "text/plain": [
              "                                       paragraph-text\n",
              "0   Dred Scott v. Sandford, 60 U.S. (19 How.) 393 ...\n",
              "1   The decision was made in the case of Dred Scot...\n",
              "2   In March 1857, the Supreme Court issued a 7–2 ...\n",
              "3   Although Taney and several other justices hope...\n",
              "4   In the late 1810s, a major political dispute a...\n",
              "..                                                ...\n",
              "60  In a memo to Justice Robert H. Jackson in 1952...\n",
              "61  Justice Antonin Scalia made the comparison bet...\n",
              "62  Dred Scott ... rested upon the concept of \"sub...\n",
              "63  Scalia noted that the Dred Scott decision had ...\n",
              "64  Chief Justice John Roberts compared Obergefell...\n",
              "\n",
              "[65 rows x 1 columns]"
            ]
          },
          "metadata": {},
          "execution_count": 27
        }
      ]
    },
    {
      "cell_type": "markdown",
      "metadata": {
        "id": "JFgBxV4LOmbD"
      },
      "source": [
        "\n",
        "# <font color=\"red\">Exercise 2</font>\n",
        "<font color=\"red\">Construct cells immediately below this that spider webcontent from another site with content relating to your anticipated final project. Specifically, identify urls on a core page, then follow and extract content from them into a pandas `Dataframe`. In addition, demonstrate a *recursive* spider, which follows more than one level of links (i.e., follows links from a site, then follows links on followed sites to new sites, etc.), making sure to define a reasonable endpoint so that you do not wander the web forever :-).</font>\n",
        "\n"
      ]
    },
    {
      "cell_type": "markdown",
      "source": [
        "Use the [List of landmark court decisions in the United States](https://en.wikipedia.org/wiki/List_of_landmark_court_decisions_in_the_United_States) here so I can follow the important judicial trends."
      ],
      "metadata": {
        "id": "p2SBAZSqsLVK"
      }
    },
    {
      "cell_type": "code",
      "source": [
        "# Overview on the page\n",
        "wikiCourtDecisionsRequest = requests.get('https://en.wikipedia.org/wiki/List_of_landmark_court_decisions_in_the_United_States')\n",
        "wikiCourtDecisionsSoup = bs4.BeautifulSoup(wikiCourtDecisionsRequest.text, 'html.parser')\n",
        "CourtDecisionsiTags = wikiCourtDecisionsSoup.body.findAll('i')\n",
        "reg = r'\\[\\d+\\]' # remove syntax like [1], [note 1], quotation blank\n",
        "CourtDecisionsLists = [re.sub(reg, '', i.text) for i in CourtDecisionsiTags if i.text.strip() != ''] # if condition removes the redundent empty rows\n",
        "\n",
        "#convert to a DataFrame\n",
        "CourtDecisionsListsDF = pandas.DataFrame({'paragraph-text' : CourtDecisionsLists})"
      ],
      "metadata": {
        "id": "Y1-UpsGTrfdq"
      },
      "execution_count": 28,
      "outputs": []
    },
    {
      "cell_type": "code",
      "source": [
        "#wikipedia_base_url = 'https://en.wikipedia.org'\n",
        "\n",
        "otherPAgeURLS = []\n",
        "#We also want to know where the links come from so we also will get:\n",
        "#the paragraph number\n",
        "#the word the link is in\n",
        "for paragraphNum, pTag in enumerate(CourtDecisionsiTags):\n",
        "    #we only want hrefs that link to wiki pages\n",
        "    tagLinks = pTag.findAll('a', href=re.compile('/wiki/'), class_=False)\n",
        "    for aTag in tagLinks:\n",
        "        #We need to extract the url from the <a> tag\n",
        "        relurl = aTag.get('href')\n",
        "        linkText = aTag.text\n",
        "        #wikipedia_base_url is the base we can use the urllib joining function to merge them\n",
        "        #Giving a nice structured tupe like this means we can use tuple expansion later\n",
        "        otherPAgeURLS.append((\n",
        "            urllib.parse.urljoin(wikipedia_base_url, relurl),\n",
        "            paragraphNum,\n",
        "            linkText,\n",
        "        ))\n",
        "print(otherPAgeURLS[:10])"
      ],
      "metadata": {
        "id": "KPQvtxLlskFN",
        "outputId": "506c1e50-0fc9-4476-fb9e-8ccf48ebde7c",
        "colab": {
          "base_uri": "https://localhost:8080/"
        }
      },
      "execution_count": 29,
      "outputs": [
        {
          "output_type": "stream",
          "name": "stdout",
          "text": [
            "[('https://en.wikipedia.org/wiki/National_Socialist_Party_of_America_v._Village_of_Skokie', 1, 'Smith v. Collin'), ('https://en.wikipedia.org/wiki/Dred_Scott_v._Sandford', 2, 'Dred Scott v. Sandford'), ('https://en.wikipedia.org/wiki/Strauder_v._West_Virginia', 3, 'Strauder v. West Virginia'), ('https://en.wikipedia.org/wiki/Yick_Wo_v._Hopkins', 4, 'Yick Wo v. Hopkins'), ('https://en.wikipedia.org/wiki/Plessy_v._Ferguson', 5, 'Plessy v. Ferguson'), ('https://en.wikipedia.org/wiki/Brown_v._Board_of_Education', 7, 'Brown v. Board of Education'), ('https://en.wikipedia.org/wiki/Missouri_ex_rel._Gaines_v._Canada', 8, 'Missouri ex rel. Gaines v. Canada'), ('https://en.wikipedia.org/wiki/Smith_v._Allwright', 10, 'Smith v. Allwright'), ('https://en.wikipedia.org/wiki/Steele_v._Louisville_%26_Nashville_Railway_Co.', 11, 'Steele v. Louisville & Nashville Railway Co.'), ('https://en.wikipedia.org/wiki/Korematsu_v._United_States', 12, 'Korematsu v. United States')]\n"
          ]
        }
      ]
    },
    {
      "cell_type": "code",
      "source": [
        "def getTextFromWikiPage(targetURL, sourceParNum, sourceText):\n",
        "    #Make a dict to store data before adding it to the DataFrame\n",
        "    parsDict = {'source' : [], 'paragraph-number' : [], 'paragraph-text' : [], 'source-paragraph-number' : [],  'source-paragraph-text' : []}\n",
        "    #Now we get the page\n",
        "    r = requests.get(targetURL)\n",
        "    soup = bs4.BeautifulSoup(r.text, 'html.parser')\n",
        "    #enumerating gives use the paragraph number\n",
        "    for parNum, pTag in enumerate(soup.body.findAll('p')):\n",
        "        #same regex as before\n",
        "        parsDict['paragraph-text'].append(re.sub(r'\\[\\d+\\]', '', pTag.text))\n",
        "        parsDict['paragraph-number'].append(parNum)\n",
        "        parsDict['source'].append(targetURL)\n",
        "        parsDict['source-paragraph-number'].append(sourceParNum)\n",
        "        parsDict['source-paragraph-text'].append(sourceText)\n",
        "    return pandas.DataFrame(parsDict)"
      ],
      "metadata": {
        "id": "4BJgbmqctNy_"
      },
      "execution_count": 30,
      "outputs": []
    },
    {
      "cell_type": "code",
      "source": [
        "CourtDecisionsListsDF['source'] = ['https://en.wikipedia.org/wiki/List_of_landmark_court_decisions_in_the_United_States'] * len(CourtDecisionsListsDF['paragraph-text'])\n",
        "CourtDecisionsListsDF['paragraph-number'] = range(len(CourtDecisionsListsDF['paragraph-text']))\n",
        "CourtDecisionsListsDF['source-paragraph-number'] = [None] * len(CourtDecisionsListsDF['paragraph-text'])\n",
        "CourtDecisionsListsDF['source-paragraph-text'] = [None] * len(CourtDecisionsListsDF['paragraph-text'])"
      ],
      "metadata": {
        "id": "hLETmxCOs-0L"
      },
      "execution_count": 31,
      "outputs": []
    },
    {
      "cell_type": "code",
      "source": [
        "for urlTuple in otherPAgeURLS:\n",
        "    #ignore_index means the indices will not be reset after each append\n",
        "    CourtDecisionsListsDF = CourtDecisionsListsDF.append(getTextFromWikiPage(*urlTuple),ignore_index=True)\n",
        "CourtDecisionsListsDF"
      ],
      "metadata": {
        "id": "ibIOgrSatSlm",
        "outputId": "d71ed26c-698e-4992-82a1-ad15d0edf7ee",
        "colab": {
          "base_uri": "https://localhost:8080/",
          "height": 424
        }
      },
      "execution_count": 32,
      "outputs": [
        {
          "output_type": "execute_result",
          "data": {
            "text/html": [
              "\n",
              "  <div id=\"df-d7a5aef5-4e69-4900-8d13-6f2dfe22c295\">\n",
              "    <div class=\"colab-df-container\">\n",
              "      <div>\n",
              "<style scoped>\n",
              "    .dataframe tbody tr th:only-of-type {\n",
              "        vertical-align: middle;\n",
              "    }\n",
              "\n",
              "    .dataframe tbody tr th {\n",
              "        vertical-align: top;\n",
              "    }\n",
              "\n",
              "    .dataframe thead th {\n",
              "        text-align: right;\n",
              "    }\n",
              "</style>\n",
              "<table border=\"1\" class=\"dataframe\">\n",
              "  <thead>\n",
              "    <tr style=\"text-align: right;\">\n",
              "      <th></th>\n",
              "      <th>paragraph-text</th>\n",
              "      <th>source</th>\n",
              "      <th>paragraph-number</th>\n",
              "      <th>source-paragraph-number</th>\n",
              "      <th>source-paragraph-text</th>\n",
              "    </tr>\n",
              "  </thead>\n",
              "  <tbody>\n",
              "    <tr>\n",
              "      <th>0</th>\n",
              "      <td>stare decisis</td>\n",
              "      <td>https://en.wikipedia.org/wiki/List_of_landmark...</td>\n",
              "      <td>0</td>\n",
              "      <td>None</td>\n",
              "      <td>None</td>\n",
              "    </tr>\n",
              "    <tr>\n",
              "      <th>1</th>\n",
              "      <td>Smith v. Collin</td>\n",
              "      <td>https://en.wikipedia.org/wiki/List_of_landmark...</td>\n",
              "      <td>1</td>\n",
              "      <td>None</td>\n",
              "      <td>None</td>\n",
              "    </tr>\n",
              "    <tr>\n",
              "      <th>2</th>\n",
              "      <td>Dred Scott v. Sandford</td>\n",
              "      <td>https://en.wikipedia.org/wiki/List_of_landmark...</td>\n",
              "      <td>2</td>\n",
              "      <td>None</td>\n",
              "      <td>None</td>\n",
              "    </tr>\n",
              "    <tr>\n",
              "      <th>3</th>\n",
              "      <td>Strauder v. West Virginia</td>\n",
              "      <td>https://en.wikipedia.org/wiki/List_of_landmark...</td>\n",
              "      <td>3</td>\n",
              "      <td>None</td>\n",
              "      <td>None</td>\n",
              "    </tr>\n",
              "    <tr>\n",
              "      <th>4</th>\n",
              "      <td>Yick Wo v. Hopkins</td>\n",
              "      <td>https://en.wikipedia.org/wiki/List_of_landmark...</td>\n",
              "      <td>4</td>\n",
              "      <td>None</td>\n",
              "      <td>None</td>\n",
              "    </tr>\n",
              "    <tr>\n",
              "      <th>...</th>\n",
              "      <td>...</td>\n",
              "      <td>...</td>\n",
              "      <td>...</td>\n",
              "      <td>...</td>\n",
              "      <td>...</td>\n",
              "    </tr>\n",
              "    <tr>\n",
              "      <th>8671</th>\n",
              "      <td>The early volumes of the United States Reports...</td>\n",
              "      <td>https://en.wikipedia.org/wiki/United_States_Re...</td>\n",
              "      <td>3</td>\n",
              "      <td>459</td>\n",
              "      <td>United States Reports</td>\n",
              "    </tr>\n",
              "    <tr>\n",
              "      <th>8672</th>\n",
              "      <td>The decisions appearing in the entire first vo...</td>\n",
              "      <td>https://en.wikipedia.org/wiki/United_States_Re...</td>\n",
              "      <td>4</td>\n",
              "      <td>459</td>\n",
              "      <td>United States Reports</td>\n",
              "    </tr>\n",
              "    <tr>\n",
              "      <th>8673</th>\n",
              "      <td>When the United States Supreme Court, along wi...</td>\n",
              "      <td>https://en.wikipedia.org/wiki/United_States_Re...</td>\n",
              "      <td>5</td>\n",
              "      <td>459</td>\n",
              "      <td>United States Reports</td>\n",
              "    </tr>\n",
              "    <tr>\n",
              "      <th>8674</th>\n",
              "      <td>When the Supreme Court moved to Washington, D....</td>\n",
              "      <td>https://en.wikipedia.org/wiki/United_States_Re...</td>\n",
              "      <td>6</td>\n",
              "      <td>459</td>\n",
              "      <td>United States Reports</td>\n",
              "    </tr>\n",
              "    <tr>\n",
              "      <th>8675</th>\n",
              "      <td>In 1874, the U.S. government began to fund the...</td>\n",
              "      <td>https://en.wikipedia.org/wiki/United_States_Re...</td>\n",
              "      <td>7</td>\n",
              "      <td>459</td>\n",
              "      <td>United States Reports</td>\n",
              "    </tr>\n",
              "  </tbody>\n",
              "</table>\n",
              "<p>8676 rows × 5 columns</p>\n",
              "</div>\n",
              "      <button class=\"colab-df-convert\" onclick=\"convertToInteractive('df-d7a5aef5-4e69-4900-8d13-6f2dfe22c295')\"\n",
              "              title=\"Convert this dataframe to an interactive table.\"\n",
              "              style=\"display:none;\">\n",
              "        \n",
              "  <svg xmlns=\"http://www.w3.org/2000/svg\" height=\"24px\"viewBox=\"0 0 24 24\"\n",
              "       width=\"24px\">\n",
              "    <path d=\"M0 0h24v24H0V0z\" fill=\"none\"/>\n",
              "    <path d=\"M18.56 5.44l.94 2.06.94-2.06 2.06-.94-2.06-.94-.94-2.06-.94 2.06-2.06.94zm-11 1L8.5 8.5l.94-2.06 2.06-.94-2.06-.94L8.5 2.5l-.94 2.06-2.06.94zm10 10l.94 2.06.94-2.06 2.06-.94-2.06-.94-.94-2.06-.94 2.06-2.06.94z\"/><path d=\"M17.41 7.96l-1.37-1.37c-.4-.4-.92-.59-1.43-.59-.52 0-1.04.2-1.43.59L10.3 9.45l-7.72 7.72c-.78.78-.78 2.05 0 2.83L4 21.41c.39.39.9.59 1.41.59.51 0 1.02-.2 1.41-.59l7.78-7.78 2.81-2.81c.8-.78.8-2.07 0-2.86zM5.41 20L4 18.59l7.72-7.72 1.47 1.35L5.41 20z\"/>\n",
              "  </svg>\n",
              "      </button>\n",
              "      \n",
              "  <style>\n",
              "    .colab-df-container {\n",
              "      display:flex;\n",
              "      flex-wrap:wrap;\n",
              "      gap: 12px;\n",
              "    }\n",
              "\n",
              "    .colab-df-convert {\n",
              "      background-color: #E8F0FE;\n",
              "      border: none;\n",
              "      border-radius: 50%;\n",
              "      cursor: pointer;\n",
              "      display: none;\n",
              "      fill: #1967D2;\n",
              "      height: 32px;\n",
              "      padding: 0 0 0 0;\n",
              "      width: 32px;\n",
              "    }\n",
              "\n",
              "    .colab-df-convert:hover {\n",
              "      background-color: #E2EBFA;\n",
              "      box-shadow: 0px 1px 2px rgba(60, 64, 67, 0.3), 0px 1px 3px 1px rgba(60, 64, 67, 0.15);\n",
              "      fill: #174EA6;\n",
              "    }\n",
              "\n",
              "    [theme=dark] .colab-df-convert {\n",
              "      background-color: #3B4455;\n",
              "      fill: #D2E3FC;\n",
              "    }\n",
              "\n",
              "    [theme=dark] .colab-df-convert:hover {\n",
              "      background-color: #434B5C;\n",
              "      box-shadow: 0px 1px 3px 1px rgba(0, 0, 0, 0.15);\n",
              "      filter: drop-shadow(0px 1px 2px rgba(0, 0, 0, 0.3));\n",
              "      fill: #FFFFFF;\n",
              "    }\n",
              "  </style>\n",
              "\n",
              "      <script>\n",
              "        const buttonEl =\n",
              "          document.querySelector('#df-d7a5aef5-4e69-4900-8d13-6f2dfe22c295 button.colab-df-convert');\n",
              "        buttonEl.style.display =\n",
              "          google.colab.kernel.accessAllowed ? 'block' : 'none';\n",
              "\n",
              "        async function convertToInteractive(key) {\n",
              "          const element = document.querySelector('#df-d7a5aef5-4e69-4900-8d13-6f2dfe22c295');\n",
              "          const dataTable =\n",
              "            await google.colab.kernel.invokeFunction('convertToInteractive',\n",
              "                                                     [key], {});\n",
              "          if (!dataTable) return;\n",
              "\n",
              "          const docLinkHtml = 'Like what you see? Visit the ' +\n",
              "            '<a target=\"_blank\" href=https://colab.research.google.com/notebooks/data_table.ipynb>data table notebook</a>'\n",
              "            + ' to learn more about interactive tables.';\n",
              "          element.innerHTML = '';\n",
              "          dataTable['output_type'] = 'display_data';\n",
              "          await google.colab.output.renderOutput(dataTable, element);\n",
              "          const docLink = document.createElement('div');\n",
              "          docLink.innerHTML = docLinkHtml;\n",
              "          element.appendChild(docLink);\n",
              "        }\n",
              "      </script>\n",
              "    </div>\n",
              "  </div>\n",
              "  "
            ],
            "text/plain": [
              "                                         paragraph-text  ...  source-paragraph-text\n",
              "0                                         stare decisis  ...                   None\n",
              "1                                       Smith v. Collin  ...                   None\n",
              "2                                Dred Scott v. Sandford  ...                   None\n",
              "3                             Strauder v. West Virginia  ...                   None\n",
              "4                                    Yick Wo v. Hopkins  ...                   None\n",
              "...                                                 ...  ...                    ...\n",
              "8671  The early volumes of the United States Reports...  ...  United States Reports\n",
              "8672  The decisions appearing in the entire first vo...  ...  United States Reports\n",
              "8673  When the United States Supreme Court, along wi...  ...  United States Reports\n",
              "8674  When the Supreme Court moved to Washington, D....  ...  United States Reports\n",
              "8675  In 1874, the U.S. government began to fund the...  ...  United States Reports\n",
              "\n",
              "[8676 rows x 5 columns]"
            ]
          },
          "metadata": {},
          "execution_count": 32
        }
      ]
    },
    {
      "cell_type": "markdown",
      "source": [
        "####Recursive Spider"
      ],
      "metadata": {
        "id": "upPg0Mjk1ZWz"
      }
    },
    {
      "cell_type": "code",
      "source": [
        "def scrapeAsDF(sourceURL, reg):\n",
        "    requset = requests.get(sourceURL)\n",
        "    soup = bs4.BeautifulSoup(requset.text, 'html.parser')\n",
        "    tags = soup.body.findAll('p')\n",
        "    paragraphs = [re.sub(reg, '', i.text) for i in tags if i.text.strip() != '']\n",
        "\n",
        "    #convert to a DataFrame\n",
        "    paragraphsDF = pandas.DataFrame({'paragraph-text' : paragraphs})\n",
        "    paragraphsDF['source'] = [sourceURL] * len(paragraphsDF['paragraph-text'])\n",
        "    paragraphsDF['paragraph-number'] = range(len(paragraphsDF['paragraph-text']))\n",
        "    paragraphsDF['source-paragraph-number'] = [None] * len(paragraphsDF['paragraph-text'])\n",
        "    paragraphsDF['source-paragraph-text'] = [None] * len(paragraphsDF['paragraph-text'])\n",
        "\n",
        "    return paragraphsDF"
      ],
      "metadata": {
        "id": "U-N_7qDSJvo1"
      },
      "execution_count": 33,
      "outputs": []
    },
    {
      "cell_type": "code",
      "source": [
        "def findOtherPageURLS(sourceURL):\n",
        "    requset = requests.get(sourceURL)\n",
        "    soup = bs4.BeautifulSoup(requset.text, 'html.parser')\n",
        "    tags = soup.body.findAll('p')\n",
        "    otherPAgeURLS = []\n",
        "    wikipedia_base_url = 'https://en.wikipedia.org'\n",
        "    for paragraphNum, pTag in enumerate(tags):\n",
        "        tagLinks = pTag.findAll('a', href=re.compile('/wiki/'), class_=False)\n",
        "        for aTag in tagLinks:\n",
        "            relurl = aTag.get('href')\n",
        "            linkText = aTag.text\n",
        "            otherPAgeURLS.append((\n",
        "                urllib.parse.urljoin(wikipedia_base_url, relurl),\n",
        "                paragraphNum,\n",
        "                linkText,\n",
        "            ))\n",
        "    return otherPAgeURLS"
      ],
      "metadata": {
        "id": "vGZqP1YgG9NP"
      },
      "execution_count": 34,
      "outputs": []
    },
    {
      "cell_type": "code",
      "source": [
        "def getTextFromWikiPage(sourceURL, sourceParNum, sourceText):\n",
        "    #Make a dict to store data before adding it to the DataFrame\n",
        "    parsDict = {'source' : [], 'paragraph-number' : [], 'paragraph-text' : [], 'source-paragraph-number' : [],  'source-paragraph-text' : []}\n",
        "    #Now we get the page\n",
        "    r = requests.get(sourceURL)\n",
        "    soup = bs4.BeautifulSoup(r.text, 'html.parser')\n",
        "    #enumerating gives use the paragraph number\n",
        "    for parNum, pTag in enumerate(soup.body.findAll('p')):\n",
        "        #same regex as before\n",
        "        parsDict['paragraph-text'].append(re.sub(r'\\[\\d+\\]', '', pTag.text))\n",
        "        parsDict['paragraph-number'].append(parNum)\n",
        "        parsDict['source'].append(sourceURL)\n",
        "        parsDict['source-paragraph-number'].append(sourceParNum)\n",
        "        parsDict['source-paragraph-text'].append(sourceText)\n",
        "    return pandas.DataFrame(parsDict)"
      ],
      "metadata": {
        "id": "CaXlPDZIM2zV"
      },
      "execution_count": 35,
      "outputs": []
    },
    {
      "cell_type": "code",
      "source": [
        "level_of_recursion = 2\n",
        "URLS = [[],[],[]]\n",
        "# level 1\n",
        "df = scrapeAsDF('https://en.wikipedia.org/wiki/Dred_Scott_v._Sandford', r'((\\[\\d+\\])|(\\[note \\d+\\])|(\\.mw-parser-output.+))')\n",
        "otherPAgeURLS = findOtherPageURLS('https://en.wikipedia.org/wiki/Dred_Scott_v._Sandford')\n",
        "for urlTuple in otherPAgeURLS[:5]: # hereafter, only do 5 urls or it will be banned by wiki\n",
        "    #ignore_index means the indices will not be reset after each append\n",
        "    df = df.append(getTextFromWikiPage(*urlTuple), ignore_index=True)\n",
        "    URLS[0].append(urlTuple[0])\n",
        "# 2 more levels\n",
        "for i in range(level_of_recursion):\n",
        "    for url in URLS[i][:5]:\n",
        "        subdf = scrapeAsDF(url, r'((\\[\\d+\\])|(\\[note \\d+\\])|(\\.mw-parser-output.+))')\n",
        "        otherPAgeURLS = findOtherPageURLS(url)\n",
        "        for urlTuple in otherPAgeURLS[:5]:\n",
        "            #ignore_index means the indices will not be reset after each append\n",
        "            subdf = subdf.append(getTextFromWikiPage(*urlTuple), ignore_index=True)\n",
        "            URLS[i+1].append(urlTuple[0])\n",
        "        df = pandas.concat([df, subdf])"
      ],
      "metadata": {
        "id": "JtNDvl6UKwoZ"
      },
      "execution_count": 36,
      "outputs": []
    },
    {
      "cell_type": "code",
      "source": [
        "df"
      ],
      "metadata": {
        "id": "1rMudFzoWeH-",
        "outputId": "70686b44-4144-4426-f9c4-2d41b737053b",
        "colab": {
          "base_uri": "https://localhost:8080/",
          "height": 424
        }
      },
      "execution_count": 37,
      "outputs": [
        {
          "output_type": "execute_result",
          "data": {
            "text/html": [
              "\n",
              "  <div id=\"df-10e49d87-570e-4014-84f7-db2cc2f0c13b\">\n",
              "    <div class=\"colab-df-container\">\n",
              "      <div>\n",
              "<style scoped>\n",
              "    .dataframe tbody tr th:only-of-type {\n",
              "        vertical-align: middle;\n",
              "    }\n",
              "\n",
              "    .dataframe tbody tr th {\n",
              "        vertical-align: top;\n",
              "    }\n",
              "\n",
              "    .dataframe thead th {\n",
              "        text-align: right;\n",
              "    }\n",
              "</style>\n",
              "<table border=\"1\" class=\"dataframe\">\n",
              "  <thead>\n",
              "    <tr style=\"text-align: right;\">\n",
              "      <th></th>\n",
              "      <th>paragraph-text</th>\n",
              "      <th>source</th>\n",
              "      <th>paragraph-number</th>\n",
              "      <th>source-paragraph-number</th>\n",
              "      <th>source-paragraph-text</th>\n",
              "    </tr>\n",
              "  </thead>\n",
              "  <tbody>\n",
              "    <tr>\n",
              "      <th>0</th>\n",
              "      <td>Dred Scott v. Sandford, 60 U.S. (19 How.) 393 ...</td>\n",
              "      <td>https://en.wikipedia.org/wiki/Dred_Scott_v._Sa...</td>\n",
              "      <td>0</td>\n",
              "      <td>None</td>\n",
              "      <td>None</td>\n",
              "    </tr>\n",
              "    <tr>\n",
              "      <th>1</th>\n",
              "      <td>The decision was made in the case of Dred Scot...</td>\n",
              "      <td>https://en.wikipedia.org/wiki/Dred_Scott_v._Sa...</td>\n",
              "      <td>1</td>\n",
              "      <td>None</td>\n",
              "      <td>None</td>\n",
              "    </tr>\n",
              "    <tr>\n",
              "      <th>2</th>\n",
              "      <td>In March 1857, the Supreme Court issued a 7–2 ...</td>\n",
              "      <td>https://en.wikipedia.org/wiki/Dred_Scott_v._Sa...</td>\n",
              "      <td>2</td>\n",
              "      <td>None</td>\n",
              "      <td>None</td>\n",
              "    </tr>\n",
              "    <tr>\n",
              "      <th>3</th>\n",
              "      <td>Although Taney and several other justices hope...</td>\n",
              "      <td>https://en.wikipedia.org/wiki/Dred_Scott_v._Sa...</td>\n",
              "      <td>3</td>\n",
              "      <td>None</td>\n",
              "      <td>None</td>\n",
              "    </tr>\n",
              "    <tr>\n",
              "      <th>4</th>\n",
              "      <td>In the late 1810s, a major political dispute a...</td>\n",
              "      <td>https://en.wikipedia.org/wiki/Dred_Scott_v._Sa...</td>\n",
              "      <td>4</td>\n",
              "      <td>None</td>\n",
              "      <td>None</td>\n",
              "    </tr>\n",
              "    <tr>\n",
              "      <th>...</th>\n",
              "      <td>...</td>\n",
              "      <td>...</td>\n",
              "      <td>...</td>\n",
              "      <td>...</td>\n",
              "      <td>...</td>\n",
              "    </tr>\n",
              "    <tr>\n",
              "      <th>119</th>\n",
              "      <td>Some United States state court systems use the...</td>\n",
              "      <td>https://en.wikipedia.org/wiki/Certiorari</td>\n",
              "      <td>24</td>\n",
              "      <td>0</td>\n",
              "      <td>certiorari</td>\n",
              "    </tr>\n",
              "    <tr>\n",
              "      <th>120</th>\n",
              "      <td>In two states without an intermediate appeals ...</td>\n",
              "      <td>https://en.wikipedia.org/wiki/Certiorari</td>\n",
              "      <td>25</td>\n",
              "      <td>0</td>\n",
              "      <td>certiorari</td>\n",
              "    </tr>\n",
              "    <tr>\n",
              "      <th>121</th>\n",
              "      <td>Texas is an unusual exception to the rule that...</td>\n",
              "      <td>https://en.wikipedia.org/wiki/Certiorari</td>\n",
              "      <td>26</td>\n",
              "      <td>0</td>\n",
              "      <td>certiorari</td>\n",
              "    </tr>\n",
              "    <tr>\n",
              "      <th>122</th>\n",
              "      <td>While Texas' unique practice saved the state s...</td>\n",
              "      <td>https://en.wikipedia.org/wiki/Certiorari</td>\n",
              "      <td>27</td>\n",
              "      <td>0</td>\n",
              "      <td>certiorari</td>\n",
              "    </tr>\n",
              "    <tr>\n",
              "      <th>123</th>\n",
              "      <td>In the administrative law context, the common-...</td>\n",
              "      <td>https://en.wikipedia.org/wiki/Certiorari</td>\n",
              "      <td>28</td>\n",
              "      <td>0</td>\n",
              "      <td>certiorari</td>\n",
              "    </tr>\n",
              "  </tbody>\n",
              "</table>\n",
              "<p>4497 rows × 5 columns</p>\n",
              "</div>\n",
              "      <button class=\"colab-df-convert\" onclick=\"convertToInteractive('df-10e49d87-570e-4014-84f7-db2cc2f0c13b')\"\n",
              "              title=\"Convert this dataframe to an interactive table.\"\n",
              "              style=\"display:none;\">\n",
              "        \n",
              "  <svg xmlns=\"http://www.w3.org/2000/svg\" height=\"24px\"viewBox=\"0 0 24 24\"\n",
              "       width=\"24px\">\n",
              "    <path d=\"M0 0h24v24H0V0z\" fill=\"none\"/>\n",
              "    <path d=\"M18.56 5.44l.94 2.06.94-2.06 2.06-.94-2.06-.94-.94-2.06-.94 2.06-2.06.94zm-11 1L8.5 8.5l.94-2.06 2.06-.94-2.06-.94L8.5 2.5l-.94 2.06-2.06.94zm10 10l.94 2.06.94-2.06 2.06-.94-2.06-.94-.94-2.06-.94 2.06-2.06.94z\"/><path d=\"M17.41 7.96l-1.37-1.37c-.4-.4-.92-.59-1.43-.59-.52 0-1.04.2-1.43.59L10.3 9.45l-7.72 7.72c-.78.78-.78 2.05 0 2.83L4 21.41c.39.39.9.59 1.41.59.51 0 1.02-.2 1.41-.59l7.78-7.78 2.81-2.81c.8-.78.8-2.07 0-2.86zM5.41 20L4 18.59l7.72-7.72 1.47 1.35L5.41 20z\"/>\n",
              "  </svg>\n",
              "      </button>\n",
              "      \n",
              "  <style>\n",
              "    .colab-df-container {\n",
              "      display:flex;\n",
              "      flex-wrap:wrap;\n",
              "      gap: 12px;\n",
              "    }\n",
              "\n",
              "    .colab-df-convert {\n",
              "      background-color: #E8F0FE;\n",
              "      border: none;\n",
              "      border-radius: 50%;\n",
              "      cursor: pointer;\n",
              "      display: none;\n",
              "      fill: #1967D2;\n",
              "      height: 32px;\n",
              "      padding: 0 0 0 0;\n",
              "      width: 32px;\n",
              "    }\n",
              "\n",
              "    .colab-df-convert:hover {\n",
              "      background-color: #E2EBFA;\n",
              "      box-shadow: 0px 1px 2px rgba(60, 64, 67, 0.3), 0px 1px 3px 1px rgba(60, 64, 67, 0.15);\n",
              "      fill: #174EA6;\n",
              "    }\n",
              "\n",
              "    [theme=dark] .colab-df-convert {\n",
              "      background-color: #3B4455;\n",
              "      fill: #D2E3FC;\n",
              "    }\n",
              "\n",
              "    [theme=dark] .colab-df-convert:hover {\n",
              "      background-color: #434B5C;\n",
              "      box-shadow: 0px 1px 3px 1px rgba(0, 0, 0, 0.15);\n",
              "      filter: drop-shadow(0px 1px 2px rgba(0, 0, 0, 0.3));\n",
              "      fill: #FFFFFF;\n",
              "    }\n",
              "  </style>\n",
              "\n",
              "      <script>\n",
              "        const buttonEl =\n",
              "          document.querySelector('#df-10e49d87-570e-4014-84f7-db2cc2f0c13b button.colab-df-convert');\n",
              "        buttonEl.style.display =\n",
              "          google.colab.kernel.accessAllowed ? 'block' : 'none';\n",
              "\n",
              "        async function convertToInteractive(key) {\n",
              "          const element = document.querySelector('#df-10e49d87-570e-4014-84f7-db2cc2f0c13b');\n",
              "          const dataTable =\n",
              "            await google.colab.kernel.invokeFunction('convertToInteractive',\n",
              "                                                     [key], {});\n",
              "          if (!dataTable) return;\n",
              "\n",
              "          const docLinkHtml = 'Like what you see? Visit the ' +\n",
              "            '<a target=\"_blank\" href=https://colab.research.google.com/notebooks/data_table.ipynb>data table notebook</a>'\n",
              "            + ' to learn more about interactive tables.';\n",
              "          element.innerHTML = '';\n",
              "          dataTable['output_type'] = 'display_data';\n",
              "          await google.colab.output.renderOutput(dataTable, element);\n",
              "          const docLink = document.createElement('div');\n",
              "          docLink.innerHTML = docLinkHtml;\n",
              "          element.appendChild(docLink);\n",
              "        }\n",
              "      </script>\n",
              "    </div>\n",
              "  </div>\n",
              "  "
            ],
            "text/plain": [
              "                                        paragraph-text  ... source-paragraph-text\n",
              "0    Dred Scott v. Sandford, 60 U.S. (19 How.) 393 ...  ...                  None\n",
              "1    The decision was made in the case of Dred Scot...  ...                  None\n",
              "2    In March 1857, the Supreme Court issued a 7–2 ...  ...                  None\n",
              "3    Although Taney and several other justices hope...  ...                  None\n",
              "4    In the late 1810s, a major political dispute a...  ...                  None\n",
              "..                                                 ...  ...                   ...\n",
              "119  Some United States state court systems use the...  ...            certiorari\n",
              "120  In two states without an intermediate appeals ...  ...            certiorari\n",
              "121  Texas is an unusual exception to the rule that...  ...            certiorari\n",
              "122  While Texas' unique practice saved the state s...  ...            certiorari\n",
              "123  In the administrative law context, the common-...  ...            certiorari\n",
              "\n",
              "[4497 rows x 5 columns]"
            ]
          },
          "metadata": {},
          "execution_count": 37
        }
      ]
    },
    {
      "cell_type": "markdown",
      "metadata": {
        "id": "V_d35FzzOmbM"
      },
      "source": [
        "\n",
        "# <font color=\"red\">Exercise 3</font>\n",
        "<font color=\"red\">Construct cells immediately below this that extract and organize textual content from text, PDF or Word into a pandas dataframe.</font>\n"
      ]
    },
    {
      "cell_type": "code",
      "source": [
        "def readPDF(pdfFile):\n",
        "    #Based on code from http://stackoverflow.com/a/20905381/4955164\n",
        "    #Using utf-8, if there are a bunch of random symbols try changing this\n",
        "    codec = 'utf-8'\n",
        "    rsrcmgr = pdfminer.pdfinterp.PDFResourceManager()\n",
        "    retstr = io.StringIO()\n",
        "    layoutParams = pdfminer.layout.LAParams()\n",
        "    device = pdfminer.converter.TextConverter(rsrcmgr, retstr, laparams = layoutParams, codec = codec)\n",
        "    #We need a device and an interpreter\n",
        "    interpreter = pdfminer.pdfinterp.PDFPageInterpreter(rsrcmgr, device)\n",
        "    password = ''\n",
        "    maxpages = 0\n",
        "    caching = True\n",
        "    pagenos=set()\n",
        "    for page in pdfminer.pdfpage.PDFPage.get_pages(pdfFile, pagenos, maxpages=maxpages, password=password,caching=caching, check_extractable=True):\n",
        "        interpreter.process_page(page)\n",
        "    device.close()\n",
        "    returnedString = retstr.getvalue()\n",
        "    retstr.close()\n",
        "    return returnedString"
      ],
      "metadata": {
        "id": "QrMsA-_SNy7O"
      },
      "execution_count": 38,
      "outputs": []
    },
    {
      "cell_type": "code",
      "source": [
        "infoExtractionRequest = requests.get('https://ilcourtsaudio.blob.core.windows.net/antilles-resources/resources/91655739-2e33-4ee0-951a-0e4074c0a57d/People%20v.%20Taylor,%202022%20IL%20App%20(5th)%20180192.pdf', stream=True)"
      ],
      "metadata": {
        "id": "U_LIas3vOSCw"
      },
      "execution_count": 39,
      "outputs": []
    },
    {
      "cell_type": "code",
      "source": [
        "infoExtractionBytes = io.BytesIO(infoExtractionRequest.content)"
      ],
      "metadata": {
        "id": "pd9LEeOBN6Fm"
      },
      "execution_count": 40,
      "outputs": []
    },
    {
      "cell_type": "code",
      "source": [
        "pdf = readPDF(infoExtractionBytes)"
      ],
      "metadata": {
        "id": "kZt7U9ciO1vc"
      },
      "execution_count": 41,
      "outputs": []
    },
    {
      "cell_type": "code",
      "source": [
        "reg = r'([^a-zA-Z0-9 ])|(\\n+)|(\\t+)'\n",
        "pdfParagraphs = []\n",
        "for i in pdf[1000:].split('\\n'):\n",
        "    if len(i.strip(' \\t\\n\\r'))!=0:\n",
        "        pdfParagraphs.append(re.sub(reg, '', i))\n",
        "\n",
        "#convert to a DataFrame\n",
        "pdfParagraphsDF = pandas.DataFrame({'paragraph-text' : pdfParagraphs})\n",
        "pdfParagraphsDF"
      ],
      "metadata": {
        "id": "dlojRkpEPLNT",
        "outputId": "e9139f45-4b69-4d94-b4e3-da1b9ab3a446",
        "colab": {
          "base_uri": "https://localhost:8080/",
          "height": 424
        }
      },
      "execution_count": 42,
      "outputs": [
        {
          "output_type": "execute_result",
          "data": {
            "text/html": [
              "\n",
              "  <div id=\"df-2d8765a5-4d6a-4aa1-9584-580055feb3df\">\n",
              "    <div class=\"colab-df-container\">\n",
              "      <div>\n",
              "<style scoped>\n",
              "    .dataframe tbody tr th:only-of-type {\n",
              "        vertical-align: middle;\n",
              "    }\n",
              "\n",
              "    .dataframe tbody tr th {\n",
              "        vertical-align: top;\n",
              "    }\n",
              "\n",
              "    .dataframe thead th {\n",
              "        text-align: right;\n",
              "    }\n",
              "</style>\n",
              "<table border=\"1\" class=\"dataframe\">\n",
              "  <thead>\n",
              "    <tr style=\"text-align: right;\">\n",
              "      <th></th>\n",
              "      <th>paragraph-text</th>\n",
              "    </tr>\n",
              "  </thead>\n",
              "  <tbody>\n",
              "    <tr>\n",
              "      <th>0</th>\n",
              "      <td>n</td>\n",
              "    </tr>\n",
              "    <tr>\n",
              "      <th>1</th>\n",
              "      <td>Justices Cates and Vaughan concurred in the ju...</td>\n",
              "    </tr>\n",
              "    <tr>\n",
              "      <th>2</th>\n",
              "      <td>OPINION</td>\n",
              "    </tr>\n",
              "    <tr>\n",
              "      <th>3</th>\n",
              "      <td>1</td>\n",
              "    </tr>\n",
              "    <tr>\n",
              "      <th>4</th>\n",
              "      <td>The  defendant  Joevon  Taylor  appeals  his  ...</td>\n",
              "    </tr>\n",
              "    <tr>\n",
              "      <th>...</th>\n",
              "      <td>...</td>\n",
              "    </tr>\n",
              "    <tr>\n",
              "      <th>594</th>\n",
              "      <td>Delfino  Patrick  D  Daly  and  Jessica  L  Bo...</td>\n",
              "    </tr>\n",
              "    <tr>\n",
              "      <th>595</th>\n",
              "      <td>Attorneys  Appellate  Prosecutors  Office  of ...</td>\n",
              "    </tr>\n",
              "    <tr>\n",
              "      <th>596</th>\n",
              "      <td>People</td>\n",
              "    </tr>\n",
              "    <tr>\n",
              "      <th>597</th>\n",
              "      <td>24</td>\n",
              "    </tr>\n",
              "    <tr>\n",
              "      <th>598</th>\n",
              "      <td></td>\n",
              "    </tr>\n",
              "  </tbody>\n",
              "</table>\n",
              "<p>599 rows × 1 columns</p>\n",
              "</div>\n",
              "      <button class=\"colab-df-convert\" onclick=\"convertToInteractive('df-2d8765a5-4d6a-4aa1-9584-580055feb3df')\"\n",
              "              title=\"Convert this dataframe to an interactive table.\"\n",
              "              style=\"display:none;\">\n",
              "        \n",
              "  <svg xmlns=\"http://www.w3.org/2000/svg\" height=\"24px\"viewBox=\"0 0 24 24\"\n",
              "       width=\"24px\">\n",
              "    <path d=\"M0 0h24v24H0V0z\" fill=\"none\"/>\n",
              "    <path d=\"M18.56 5.44l.94 2.06.94-2.06 2.06-.94-2.06-.94-.94-2.06-.94 2.06-2.06.94zm-11 1L8.5 8.5l.94-2.06 2.06-.94-2.06-.94L8.5 2.5l-.94 2.06-2.06.94zm10 10l.94 2.06.94-2.06 2.06-.94-2.06-.94-.94-2.06-.94 2.06-2.06.94z\"/><path d=\"M17.41 7.96l-1.37-1.37c-.4-.4-.92-.59-1.43-.59-.52 0-1.04.2-1.43.59L10.3 9.45l-7.72 7.72c-.78.78-.78 2.05 0 2.83L4 21.41c.39.39.9.59 1.41.59.51 0 1.02-.2 1.41-.59l7.78-7.78 2.81-2.81c.8-.78.8-2.07 0-2.86zM5.41 20L4 18.59l7.72-7.72 1.47 1.35L5.41 20z\"/>\n",
              "  </svg>\n",
              "      </button>\n",
              "      \n",
              "  <style>\n",
              "    .colab-df-container {\n",
              "      display:flex;\n",
              "      flex-wrap:wrap;\n",
              "      gap: 12px;\n",
              "    }\n",
              "\n",
              "    .colab-df-convert {\n",
              "      background-color: #E8F0FE;\n",
              "      border: none;\n",
              "      border-radius: 50%;\n",
              "      cursor: pointer;\n",
              "      display: none;\n",
              "      fill: #1967D2;\n",
              "      height: 32px;\n",
              "      padding: 0 0 0 0;\n",
              "      width: 32px;\n",
              "    }\n",
              "\n",
              "    .colab-df-convert:hover {\n",
              "      background-color: #E2EBFA;\n",
              "      box-shadow: 0px 1px 2px rgba(60, 64, 67, 0.3), 0px 1px 3px 1px rgba(60, 64, 67, 0.15);\n",
              "      fill: #174EA6;\n",
              "    }\n",
              "\n",
              "    [theme=dark] .colab-df-convert {\n",
              "      background-color: #3B4455;\n",
              "      fill: #D2E3FC;\n",
              "    }\n",
              "\n",
              "    [theme=dark] .colab-df-convert:hover {\n",
              "      background-color: #434B5C;\n",
              "      box-shadow: 0px 1px 3px 1px rgba(0, 0, 0, 0.15);\n",
              "      filter: drop-shadow(0px 1px 2px rgba(0, 0, 0, 0.3));\n",
              "      fill: #FFFFFF;\n",
              "    }\n",
              "  </style>\n",
              "\n",
              "      <script>\n",
              "        const buttonEl =\n",
              "          document.querySelector('#df-2d8765a5-4d6a-4aa1-9584-580055feb3df button.colab-df-convert');\n",
              "        buttonEl.style.display =\n",
              "          google.colab.kernel.accessAllowed ? 'block' : 'none';\n",
              "\n",
              "        async function convertToInteractive(key) {\n",
              "          const element = document.querySelector('#df-2d8765a5-4d6a-4aa1-9584-580055feb3df');\n",
              "          const dataTable =\n",
              "            await google.colab.kernel.invokeFunction('convertToInteractive',\n",
              "                                                     [key], {});\n",
              "          if (!dataTable) return;\n",
              "\n",
              "          const docLinkHtml = 'Like what you see? Visit the ' +\n",
              "            '<a target=\"_blank\" href=https://colab.research.google.com/notebooks/data_table.ipynb>data table notebook</a>'\n",
              "            + ' to learn more about interactive tables.';\n",
              "          element.innerHTML = '';\n",
              "          dataTable['output_type'] = 'display_data';\n",
              "          await google.colab.output.renderOutput(dataTable, element);\n",
              "          const docLink = document.createElement('div');\n",
              "          docLink.innerHTML = docLinkHtml;\n",
              "          element.appendChild(docLink);\n",
              "        }\n",
              "      </script>\n",
              "    </div>\n",
              "  </div>\n",
              "  "
            ],
            "text/plain": [
              "                                        paragraph-text\n",
              "0                                                   n \n",
              "1    Justices Cates and Vaughan concurred in the ju...\n",
              "2                                             OPINION \n",
              "3                                                   1 \n",
              "4    The  defendant  Joevon  Taylor  appeals  his  ...\n",
              "..                                                 ...\n",
              "594  Delfino  Patrick  D  Daly  and  Jessica  L  Bo...\n",
              "595  Attorneys  Appellate  Prosecutors  Office  of ...\n",
              "596                                            People \n",
              "597                                                24 \n",
              "598                                                   \n",
              "\n",
              "[599 rows x 1 columns]"
            ]
          },
          "metadata": {},
          "execution_count": 42
        }
      ]
    },
    {
      "cell_type": "markdown",
      "source": [
        "We can get some information from the pdf file, while without surprise, some formats are still messy even after regular expression. Since pdf adopts its own way to encode, sometimes it is difficult to extract pure text data in a perfect format."
      ],
      "metadata": {
        "id": "6RmRCVsSTq_R"
      }
    },
    {
      "cell_type": "markdown",
      "source": [
        "# <font color=\"red\">Exercise 4</font>\n",
        "<font color=\"red\">In the two cells immediately following, describe a possible project (e.g., it might end up being your final project, but need not be if you are still searching): __WHAT__ you will analyze--the texts you will select and the social game, world and actors you intend to learn about through your analysis (<100 words); __WHY__ you will analyze these texts to learn about that context--justify the rationale behind your proposed sample design for this project, based on the readings. What is the social game, social work, or social actors about whom you are seeking to make inferences? What are the virtues of your proposed sample with respect to your research questions? What are its limitations? What are alternatives? What would be a reasonable path to \"scale up\" your sample for further analysis (i.e., high-profile publication)? (<150 words)? [__Note__: your individual or collective project will change over the course of the quarter as new data and/or analysis opportunities arise or if old ones fade away.]</font>"
      ],
      "metadata": {
        "id": "d1TZsRUixXxh"
      }
    },
    {
      "cell_type": "markdown",
      "source": [
        "# What?\n",
        "\n",
        "I would like to see the research question combining NLP and the criminal justice system: what is the tendency of a case of adjudication from different arbiter or judge reviews? This can be further divided into two ways of research. First, what are the judges' opinions and tendencies on different types of cases? Also, are some of them more strict than their peers, or oppositely, do they incline to be more lenient on particular cases? By answering the questions, I may be able to find out the trends or even biases in justice governance."
      ],
      "metadata": {
        "id": "zfLNtcyrxoz2"
      }
    },
    {
      "cell_type": "markdown",
      "source": [
        "# Why?\n",
        "\n",
        "\n",
        "Based on content analysis on the law cases, it is possible to spot the judge's tendency among the cases, identifying any hidden tendencies or biases. Furthermore, in the juridical system, law firms are still relying on the traditional way to analyze and win a case, while I am wondering what the machine can do and change the environment in this field. The second question could be seen as the transition of adjudication with topic modeling: how do the judgment, people's interpretations, feelings, and understandings of law, etc., change over time? This question can be useful for the reformatting or revolution of the juridical system. Since the court system is complicated in the U.S.: Federal and State courts, and both have three layers of courts, I can scale up my analysis on this basis, or even just targeting those 'high-profile' cases would be abundant enough to showcase the findings."
      ],
      "metadata": {
        "id": "viaSJK7jxuKd"
      }
    },
    {
      "cell_type": "markdown",
      "metadata": {
        "id": "Bwyfg2yrOmbM"
      },
      "source": [
        "# Sources:\n",
        "\n",
        "Other popular sources for internet data:\n",
        "\n",
        "[reddit](https://www.reddit.com/) - https://praw.readthedocs.io/en/v2.1.21/\n",
        "\n",
        "[twitter](https://twitter.com/) - https://pypi.org/project/python-twitter/\n",
        "\n",
        "[project gutenburg](https://www.gutenberg.org/) - https://github.com/ageitgey/Gutenberg \n",
        "\n"
      ]
    }
  ],
  "metadata": {
    "kernelspec": {
      "display_name": "Python 3 (ipykernel)",
      "language": "python",
      "name": "python3"
    },
    "language_info": {
      "codemirror_mode": {
        "name": "ipython",
        "version": 3
      },
      "file_extension": ".py",
      "mimetype": "text/x-python",
      "name": "python",
      "nbconvert_exporter": "python",
      "pygments_lexer": "ipython3",
      "version": "3.9.7"
    },
    "colab": {
      "name": "1-Measuring-Meaning-and-Sampling.ipynb",
      "provenance": [],
      "collapsed_sections": [
        "vVTLl6J-OmbB",
        "8jW4D33OOmbB",
        "JFgBxV4LOmbD",
        "dXtaSZCkOmbE",
        "CswLIJBZOmbH",
        "V9T2gL7UOmbJ",
        "-AldBWnAOmbK",
        "V_d35FzzOmbM",
        "Bwyfg2yrOmbM"
      ]
    }
  },
  "nbformat": 4,
  "nbformat_minor": 0
}